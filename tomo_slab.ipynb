{
 "cells": [
  {
   "cell_type": "code",
   "execution_count": 1,
   "id": "b38b7b66",
   "metadata": {},
   "outputs": [],
   "source": [
    "import mapio.gmt as gmt  ## Grid functions Mike created\n",
    "import numpy as np  ## Allows for work on arrays like matlab\n",
    "import tomo_functions as s2f  ## Functions that I wrote for this code"
   ]
  },
  {
   "cell_type": "code",
   "execution_count": 2,
   "id": "6d663fd8",
   "metadata": {},
   "outputs": [],
   "source": [
    "tomofile = 'Tomo_files/SAM4_P_2017.tomo'  ## Tomography model in ascii format 'Lat Lon Dep(positive) dVp'\n",
    "slabfile = 'Slab_files/sam_slab1.0_augmented.grd' ## Slab guide file in netcdf format"
   ]
  },
  {
   "cell_type": "code",
   "execution_count": 3,
   "id": "bd1a66a3",
   "metadata": {},
   "outputs": [],
   "source": [
    "ID = 'SAM4'  # Identifier for tomography model to be used in output files\n",
    "sz = 'sam'  # Code for the subduction zone associated with this tomography model"
   ]
  },
  {
   "cell_type": "code",
   "execution_count": 4,
   "id": "4b424dc3",
   "metadata": {},
   "outputs": [],
   "source": [
    "outfile = 'Output/%s_TO_%s.csv' % (sz,ID)  ## DON'T CHANGE  \n",
    "outfile2 = 'Output/%s_%s.par' % (ID,sz)  ## Parameter file"
   ]
  },
  {
   "cell_type": "code",
   "execution_count": 5,
   "id": "fb44568e",
   "metadata": {},
   "outputs": [],
   "source": [
    "# Calibration region boundaries\n",
    "\n",
    "minlat, maxlat = -40.0, -24.0\n",
    "minlon, maxlon = -70.0, -60.0\n"
   ]
  },
  {
   "cell_type": "code",
   "execution_count": 6,
   "id": "4061abb5",
   "metadata": {},
   "outputs": [],
   "source": [
    "# Sample volume limits\n",
    "\n",
    "posmag, negmag = 200, -250  # km in positive and negative directions, respectively, from slab input\n"
   ]
  },
  {
   "cell_type": "code",
   "execution_count": 7,
   "id": "e2622c87",
   "metadata": {},
   "outputs": [],
   "source": [
    "# Node spacing for slab\n",
    "\n",
    "hnode, vnode = 0.2, 1   # horizontal node spacing (degrees) for grid and vertical (km) sampling along vector (0.2 for regional, 0.5 for global)\n"
   ]
  },
  {
   "cell_type": "code",
   "execution_count": 8,
   "id": "686644ab",
   "metadata": {},
   "outputs": [],
   "source": [
    "# Node spacing for upsampled tomography\n",
    "\n",
    "HRES, VRES = 0.05, 5.0  ## H in degrees, V in km\n"
   ]
  },
  {
   "cell_type": "code",
   "execution_count": 9,
   "id": "7a12f434",
   "metadata": {},
   "outputs": [],
   "source": [
    "# Anomaly value threshold\n",
    "\n",
    "thresh = 0.75 # % velocity perturbation\n"
   ]
  },
  {
   "cell_type": "code",
   "execution_count": 10,
   "id": "4ead85ec",
   "metadata": {},
   "outputs": [],
   "source": [
    "# Shallow limit for looking for slab\n",
    "\n",
    "shallim = 150  # Depth (km) that will apply to the slab guide\n"
   ]
  },
  {
   "cell_type": "code",
   "execution_count": 11,
   "id": "328ade9a",
   "metadata": {},
   "outputs": [],
   "source": [
    "# Minimum mumber of slab sample points\n",
    "\n",
    "minlen = 50\n",
    "maxlen = 225\n"
   ]
  },
  {
   "cell_type": "code",
   "execution_count": 12,
   "id": "c21b92e2",
   "metadata": {},
   "outputs": [],
   "source": [
    "# Maximum distance from slab guide\n",
    "\n",
    "maxdist = 150\n"
   ]
  },
  {
   "cell_type": "code",
   "execution_count": 13,
   "id": "21e6f0ed",
   "metadata": {},
   "outputs": [
    {
     "name": "stdout",
     "output_type": "stream",
     "text": [
      "Building strike and dip grids...\n"
     ]
    }
   ],
   "source": [
    "Tomo = np.loadtxt(tomofile) ## Load tomography file into a numpy array\n",
    "Tomo[:,1][Tomo[:,1]>180] -= 360\n",
    "tmpSlabgrid = gmt.GMTGrid.load(slabfile) ## Load netcdf file of slabguide into a \"grid\"\n",
    "gdict = tmpSlabgrid.getGeoDict().copy()\n",
    "if gdict.xmin > 180:\n",
    "    gdict.xmin -= 360\n",
    "if gdict.xmax > 180:\n",
    "    gdict.xmax -= 360\n",
    "\n",
    "tmpgriddata = tmpSlabgrid.getData().copy() * -1  ## WILL NEED TO CHANGE THIS IF INPUT IS IN NEGATIVE DEPTH\n",
    "Slabgrid = gmt.GMTGrid(tmpgriddata,gdict)\n",
    "\n",
    "print(\"Building strike and dip grids...\")\n",
    "\n",
    "Strikegrid, Dipgrid = s2f.mkSDgrdTomo(Slabgrid)  ## Strikes follow right hand rule, dips are positive in degrees\n"
   ]
  },
  {
   "cell_type": "code",
   "execution_count": 14,
   "id": "cc048257",
   "metadata": {},
   "outputs": [],
   "source": [
    "### Section 3: Create grid of slab guide info\n",
    "\n",
    "## Create grid structure\n",
    "\n",
    "Lons = np.arange(minlon,maxlon,hnode)\n",
    "Lats = np.arange(minlat,maxlat,hnode)\n",
    "m = len(Lons)\n",
    "n = len(Lats)\n",
    "\n",
    "Lons, Lats = np.meshgrid(Lons,Lats)\n",
    "XYgrid = np.zeros((m*n,5))  ## 5 columns for 'Lon Lat Dep Dip Str'\n",
    "XYgrid[:,0] = Lons.flatten()\n",
    "XYgrid[:,1] = Lats.flatten()"
   ]
  },
  {
   "cell_type": "code",
   "execution_count": 15,
   "id": "b67e5419",
   "metadata": {},
   "outputs": [],
   "source": [
    "## Populate grid with slab guide depth, dip, and strike\n",
    "\n",
    "for i in range(0,len(XYgrid)):\n",
    "    lon = XYgrid[i,0]\n",
    "    lat = XYgrid[i,1]\n",
    "\n",
    "    XYgrid[i,2] = Slabgrid.getValue(lat,lon)  ## Populate slab depth (note depths should be positive)\n",
    "    XYgrid[i,3] = Dipgrid.getValue(lat,lon)  ## Populate slab dip (note dips should be positive)\n",
    "    XYgrid[i,4] = Strikegrid.getValue(lat,lon) ## Populate slab strike\n"
   ]
  },
  {
   "cell_type": "code",
   "execution_count": 16,
   "id": "a816979e",
   "metadata": {},
   "outputs": [
    {
     "name": "stdout",
     "output_type": "stream",
     "text": [
      "Buliding tomography cube...\n"
     ]
    }
   ],
   "source": [
    "### Section 4: Make tomography cube array\n",
    "\n",
    "print(\"Buliding tomography cube...\")\n",
    "Cube, ulx, uly, ulz, xdim, ydim, zdim = s2f.makeCube(Tomo,HRES,VRES)  ## Lon (-180 to 180), Lat (-90 to 90), Dep pos\n"
   ]
  },
  {
   "cell_type": "code",
   "execution_count": 17,
   "id": "1466df8a",
   "metadata": {},
   "outputs": [
    {
     "name": "stdout",
     "output_type": "stream",
     "text": [
      "Finding the slab center...\n"
     ]
    },
    {
     "name": "stderr",
     "output_type": "stream",
     "text": [
      "/Users/tzacks2/.conda/envs/DataViz/lib/python3.7/site-packages/ipykernel_launcher.py:65: DeprecationWarning: setting an array element with a sequence. This was supported in some cases where the elements are arrays with a single element. For example `np.array([1, np.array([2])], dtype=int)`. In the future this will raise the same ValueError as `np.array([1, [2]], dtype=int)`.\n"
     ]
    }
   ],
   "source": [
    "print(\"Finding the slab center...\")\n",
    "SlabCent = np.zeros((len(XYgrid),3))\n",
    "    #meant to have one slab center point for each slab guide node\n",
    "\n",
    "n=0\n",
    "for i in range(0,(len(XYgrid))):  ## Iterate through every point in XYgrid (each node)\n",
    "    if np.isnan(XYgrid[i,4]) == False:  ## First check to make sure there is a value for the slab guide\n",
    "        \n",
    "        if XYgrid[i,2] > shallim:  ## Make sure the slab guide is below the threshold for what you want to look at\n",
    "        \n",
    "        # Calculate the locations of the points to sample at that node\n",
    "        \n",
    "            EPs = s2f.epCalc(XYgrid[i,0],XYgrid[i,1],XYgrid[i,2],XYgrid[i,3],XYgrid[i,4],posmag,negmag,vnode)\n",
    "                #EPs is an array of locations to sample, with the fourth column saying how far from the center node each point is\n",
    "        \n",
    "            # Sample tomography at each sampling point from EPs\n",
    "        \n",
    "            NodeVec = np.zeros((len(EPs),5))  ## Define a new array that will contain the location and tomography anomaly value\n",
    "            NodeVec[:,0:4] = EPs  ## Fill the first four columns identically to EPs to note location\n",
    "        \n",
    "            for j in range(0,len(EPs)):  ## Iterate through each sampling point for the present node\n",
    "            \n",
    "                row, col, band = s2f.getRowColBand(Cube,EPs[j,0],EPs[j,1],EPs[j,2],ulx,uly,ulz,xdim,ydim,zdim)\n",
    "                    #Determine the position in the tomography cube given coordinates\n",
    "            \n",
    "                NodeVec[j,4] = s2f.get3dvalue(Cube,row,col,band)  ## Sample the tomography model at that point, fill into NodeVec\n",
    "\n",
    "                if np.isnan(NodeVec[j,4]) == True:\n",
    "                    NodeVec[j,:] = np.nan\n",
    "                if NodeVec[j,4] < thresh:\n",
    "                    NodeVec[j,:] = np.nan  ## Make whole lines NaN when the tomography value is below a threshold...\n",
    "                        #This hopefully retains only \"slab\"\n",
    "                n+=1\n",
    "            tmpNodeVec = NodeVec[np.isfinite(NodeVec[:,4])]\n",
    "            if len(tmpNodeVec)>0:\n",
    "                totlen = (np.max(tmpNodeVec[:,3])-np.min(tmpNodeVec[:,3]))\n",
    "            else:\n",
    "                totlen = 0\n",
    "            if totlen < minlen:\n",
    "                avedep = np.nan\n",
    "                avelon = np.nan\n",
    "                avelat = np.nan\n",
    "            elif totlen > maxlen:\n",
    "                avedep = np.nan\n",
    "                avelon = np.nan\n",
    "                avelat = np.nan\n",
    "            else:\n",
    "                avedis = s2f.myround(np.nanmean(NodeVec[:,3]),tmpNodeVec[:,3])\n",
    "                if avedis < maxdist:\n",
    "                    if avedis > (-1*maxdist):\n",
    "                        ind = NodeVec[:,3] == avedis  ## Indicates the index for the location that is at the average distance\n",
    "                        avedep = NodeVec[ind,2]  ## Determine the depth at the \"average location\"\n",
    "                        avelon = NodeVec[ind,0]  ## Determine the longitude at the \"average location\"\n",
    "                        avelat = NodeVec[ind,1]  ## Determine the latitude at the \"average location\"\n",
    "                    else:\n",
    "                        avedep = np.nan\n",
    "                        avelon = np.nan\n",
    "                        avelat = np.nan\n",
    "                else:\n",
    "                    avedep = np.nan\n",
    "                    avelon = np.nan\n",
    "                    avelat = np.nan\n",
    "\n",
    "            if np.isnan(avedep) == False:  ## Ignores when the avedep is NaN so that the line is left as zero.  This is taken care of in the following lines.  Currently might be inefficient\n",
    "                SlabCent[i,0:3] = avelat,avelon,avedep  ## Populate error function array ***using avelon currently for testing/plotting purposes\n",
    " \n",
    "tmp = SlabCent[:,0]  ## These lines are used to index which avedeps are 0 and make the whole line NaN\n",
    "SlabCent[tmp == 0,:] = np.nan\n",
    "\n",
    "output = SlabCent[np.isfinite(SlabCent[:,2])]\n"
   ]
  },
  {
   "cell_type": "code",
   "execution_count": 18,
   "id": "70782b93",
   "metadata": {},
   "outputs": [],
   "source": [
    "out = open(outfile,'w')\n",
    "out.write(\"lat,lon,depth\\n\")\n",
    "np.savetxt(out,output,fmt='%0.4f',delimiter=',')\n",
    "out.close()\n",
    "\n",
    "params = open(outfile2,'w')\n",
    "params.write('Parameter file for tomography ID: %s\\n\\n' % ID)\n",
    "params.write('Output datafile: %s\\n\\n' % outfile)\n",
    "params.write('Input tomography file: tomofile = %s\\n' % tomofile)\n",
    "params.write('Slab guide grid file: slabfile = %s\\n\\n' % slabfile)\n",
    "params.write('minlat = %f\\n' % minlat)\n",
    "params.write('maxlat = %f\\n' % maxlat)\n",
    "params.write('minlon = %f\\n' % minlon)\n",
    "params.write('maxlon = %f\\n' % maxlon)\n",
    "params.write('posmag = %f\\n' % posmag)\n",
    "params.write('negmag = %f\\n' % negmag)\n",
    "params.write('hnode = %f\\n' % hnode)\n",
    "params.write('vnode = %f\\n' % vnode)\n",
    "params.write('HRES = %f\\n' % HRES)\n",
    "params.write('VRES = %f\\n' % VRES)\n",
    "params.write('thresh = %f\\n' % thresh)\n",
    "params.write('shallim = %f\\n' % shallim)\n",
    "params.write('minlen = %f\\n' % minlen)\n",
    "params.write('maxlen = %f\\n' % maxlen)\n",
    "params.write('maxdist = %f\\n' % maxdist)\n",
    "params.close()\n"
   ]
  },
  {
   "cell_type": "code",
   "execution_count": null,
   "id": "1e5f1c8d",
   "metadata": {},
   "outputs": [],
   "source": []
  }
 ],
 "metadata": {
  "kernelspec": {
   "display_name": "Python 3 (ipykernel)",
   "language": "python",
   "name": "python3"
  },
  "language_info": {
   "codemirror_mode": {
    "name": "ipython",
    "version": 3
   },
   "file_extension": ".py",
   "mimetype": "text/x-python",
   "name": "python",
   "nbconvert_exporter": "python",
   "pygments_lexer": "ipython3",
   "version": "3.7.12"
  }
 },
 "nbformat": 4,
 "nbformat_minor": 5
}
