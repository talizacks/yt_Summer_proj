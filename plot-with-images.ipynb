{
 "cells": [
  {
   "cell_type": "code",
   "execution_count": 1,
   "id": "3ac48620-e035-4353-9e91-dd896452a70a",
   "metadata": {},
   "outputs": [],
   "source": [
    "import matplotlib.pyplot as plt\n",
    "import traitlets\n",
    "import ipywidgets\n",
    "import io"
   ]
  },
  {
   "cell_type": "code",
   "execution_count": 2,
   "id": "a874ac3b-7a16-463a-baee-c3d1fc9670be",
   "metadata": {},
   "outputs": [],
   "source": [
    "c = io.BytesIO()"
   ]
  },
  {
   "cell_type": "code",
   "execution_count": 3,
   "id": "ca8bb711-f07c-43ba-83dc-7faf4e46ce8d",
   "metadata": {},
   "outputs": [
    {
     "data": {
      "image/png": "[encoded data removed]",
      "text/plain": [
       "<Figure size 432x288 with 1 Axes>"
      ]
     },
     "metadata": {
      "needs_background": "light"
     },
     "output_type": "display_data"
    }
   ],
   "source": [
    "plt.plot([1,2,3,4], [5,6,7,8])\n",
    "plt.savefig(c)"
   ]
  },
  {
   "cell_type": "code",
   "execution_count": 4,
   "id": "aa290e30-eec6-4c38-b515-e30d8f38409d",
   "metadata": {},
   "outputs": [
    {
     "data": {
      "application/vnd.jupyter.widget-view+json": {
       "model_id": "5b5aa53b504c44d5ab0c1cdab0e95f3a",
       "version_major": 2,
       "version_minor": 0
      },
      "text/plain": [
       "Image(value=b'\\x89PNG\\r\\n\\x1a\\n\\x00\\x00\\x00\\rIHDR\\x00\\x00\\x01\\xb0\\x00\\x00\\x01 \\x08\\x06\\x00\\x00\\x00\\xd5(&i\\x00\\…"
      ]
     },
     "metadata": {},
     "output_type": "display_data"
    }
   ],
   "source": [
    "c.seek(0)\n",
    "ipywidgets.Image(value=c.read(), format=\"png\")"
   ]
  },
  {
   "cell_type": "code",
   "execution_count": 5,
   "id": "c048800c-1072-45e4-9ceb-6f3f016e70fd",
   "metadata": {},
   "outputs": [],
   "source": [
    "%matplotlib agg"
   ]
  },
  {
   "cell_type": "code",
   "execution_count": 6,
   "id": "052237fa-8c6f-49af-a7ac-d8f1a7c1753f",
   "metadata": {},
   "outputs": [],
   "source": [
    "import numpy as np"
   ]
  },
  {
   "cell_type": "code",
   "execution_count": 13,
   "id": "f8bebc7b-ead1-42f9-9452-314a6fcfa7a7",
   "metadata": {},
   "outputs": [],
   "source": [
    "class MyWidget(traitlets.HasTraits):\n",
    "    value = traitlets.Bytes()\n",
    "    seed = traitlets.Int()\n",
    "    count = traitlets.Int(100)\n",
    "    \n",
    "    @traitlets.observe(\"seed\", \"count\")\n",
    "    def _update_value(self, change):\n",
    "        np.random.seed(change['new'])\n",
    "        c = io.BytesIO()\n",
    "        v = np.random.random(self.count * 2)\n",
    "        plt.clf()\n",
    "        plt.scatter(v[::2], v[1::2])\n",
    "        plt.savefig(c)\n",
    "        c.seek(0)\n",
    "        self.value = c.read()\n",
    "\n",
    "    def _ipython_display_(self):\n",
    "        count_slider = ipywidgets.IntSlider(value = self.count, min = 1, max = 1000)\n",
    "        seed_entry = ipywidgets.IntText(value = self.seed)\n",
    "        traitlets.link((count_slider, 'value'), (self, 'count'))\n",
    "        traitlets.link((seed_entry, 'value'), (self, 'seed'))\n",
    "        im = ipywidgets.Image(format = 'png', width=512, height=512)\n",
    "        traitlets.link((im, 'value'), (self, 'value'))\n",
    "        display(ipywidgets.VBox([count_slider, seed_entry, im]))"
   ]
  },
  {
   "cell_type": "code",
   "execution_count": 14,
   "id": "2a47c18c-3ec2-4fa6-aa87-246e818005e9",
   "metadata": {},
   "outputs": [
    {
     "data": {
      "application/vnd.jupyter.widget-view+json": {
       "model_id": "ade3ef25bc0f4a4da6bbff06cc3c54f4",
       "version_major": 2,
       "version_minor": 0
      },
      "text/plain": [
       "VBox(children=(IntSlider(value=100, max=1000, min=1), IntText(value=100), Image(value=b'', height='512', width…"
      ]
     },
     "metadata": {},
     "output_type": "display_data"
    }
   ],
   "source": [
    "mw = MyWidget(seed = 100)\n",
    "mw"
   ]
  },
  {
   "cell_type": "code",
   "execution_count": null,
   "id": "07af329e-0b72-4494-a86b-06e18f6bab3a",
   "metadata": {},
   "outputs": [],
   "source": []
  },
  {
   "cell_type": "code",
   "execution_count": null,
   "id": "38659b6e",
   "metadata": {},
   "outputs": [],
   "source": []
  }
 ],
 "metadata": {
  "kernelspec": {
   "display_name": "Python 3 (ipykernel)",
   "language": "python",
   "name": "python3"
  },
  "language_info": {
   "codemirror_mode": {
    "name": "ipython",
    "version": 3
   },
   "file_extension": ".py",
   "mimetype": "text/x-python",
   "name": "python",
   "nbconvert_exporter": "python",
   "pygments_lexer": "ipython3",
   "version": "3.7.12"
  }
 },
 "nbformat": 4,
 "nbformat_minor": 5
}
