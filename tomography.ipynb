{
 "cells": [
  {
   "cell_type": "code",
   "execution_count": 2,
   "id": "0365ec81",
   "metadata": {},
   "outputs": [
    {
     "name": "stdout",
     "output_type": "stream",
     "text": [
      "\n",
      "## You are using the Python ARM Radar Toolkit (Py-ART), an open source\n",
      "## library for working with weather radar data. Py-ART is partly\n",
      "## supported by the U.S. Department of Energy as part of the Atmospheric\n",
      "## Radiation Measurement (ARM) Climate Research Facility, an Office of\n",
      "## Science user facility.\n",
      "##\n",
      "## If you use this software to prepare a publication, please cite:\n",
      "##\n",
      "##     JJ Helmus and SM Collis, JORS 2016, doi: 10.5334/jors.119\n",
      "\n"
     ]
    }
   ],
   "source": [
    "import yt\n",
    "import netCDF4 as nc\n",
    "import pyart\n",
    "import matplotlib.pyplot as plt\n",
    "import pygrib\n",
    "import pandas as pd\n",
    "import xarray as xr\n",
    "import cfgrib\n",
    "import ipywidgets\n",
    "import numpy as np"
   ]
  },
  {
   "cell_type": "code",
   "execution_count": 3,
   "id": "92fd810a",
   "metadata": {},
   "outputs": [],
   "source": [
    "tomog = nc.Dataset('data/Tomography_Models/DNA13_percent.nc')"
   ]
  },
  {
   "cell_type": "code",
   "execution_count": 5,
   "id": "0dbf39cc",
   "metadata": {},
   "outputs": [
    {
     "data": {
      "text/plain": [
       "<class 'netCDF4._netCDF4.Dataset'>\n",
       "root group (NETCDF3_CLASSIC data model, file format NETCDF3):\n",
       "    title: Finite-frequency P, SH, and SV body wave models for the continuous US. Joint body-wave and surface-wave model for the western US.\n",
       "    id: DNA13\n",
       "    summary: DNA13 is a 3-D model of shear and compressional velocity perturbations for the continuous US.\n",
       "\n",
       "    keywords: seismic tomography, continuous US, shear velocity, compressional velocity, joint inversion\n",
       "    Conventions: CF-1.0\n",
       "    Metadata_Conventions: Unidata Dataset Discovery v1.0\n",
       "    creator_name: IRIS EMC\n",
       "    creator_url: http://ds.iris.edu/ds/products/emc/\n",
       "    creator_email: products@iris.edu\n",
       "    institution: IRIS DMC\n",
       "    acknowledgment: Model was created by Robert W. Porritt and Richard M. Allen, \n",
       "Seismological Laboratory. Dept. Earth and Planetary Science. UC Berkeley\n",
       "    reference: Porritt, Allen, and Pollitz (2014)\n",
       "    references: http://seismo.berkeley.edu/~rallen/pub/2014porritt/data.php\n",
       "    history: 2014-01-15 model converted to netCDF by IRIS EMC \n",
       "2016-04-13 reorganized the parameters\n",
       "    geospatial_lat_min: 25.00\n",
       "    geospatial_lat_max: 52.00\n",
       "    geospatial_lat_units: degrees_north\n",
       "    geospatial_lat_resolution: 0.5\n",
       "    geospatial_lon_min: 234.00\n",
       "    geospatial_lon_max: 288.00\n",
       "    geospatial_lon_units: degrees_east\n",
       "    geospatial_lon_resolution: 0.5\n",
       "    geospatial_vertical_min: 0\n",
       "    geospatial_vertical_max: 1280\n",
       "    geospatial_vertical_units: km\n",
       "    geospatial_vertical_positive: down\n",
       "    dimensions(sizes): depth(129), latitude(55), longitude(109)\n",
       "    variables(dimensions): float32 depth(depth), float32 latitude(latitude), float32 longitude(longitude), float32 vp(depth, latitude, longitude), float32 vsh(depth, latitude, longitude), float32 vsv(depth, latitude, longitude), float32 vsvj(depth, latitude, longitude)\n",
       "    groups: "
      ]
     },
     "execution_count": 5,
     "metadata": {},
     "output_type": "execute_result"
    }
   ],
   "source": [
    "tomog"
   ]
  },
  {
   "cell_type": "code",
   "execution_count": 6,
   "id": "a3febc3a",
   "metadata": {},
   "outputs": [
    {
     "data": {
      "text/plain": [
       "{'depth': <class 'netCDF4._netCDF4.Variable'>\n",
       " float32 depth(depth)\n",
       "     long_name: depth below earth surface\n",
       "     units: kilometer\n",
       "     positive: down\n",
       " unlimited dimensions: \n",
       " current shape = (129,)\n",
       " filling on, default _FillValue of 9.969209968386869e+36 used,\n",
       " 'latitude': <class 'netCDF4._netCDF4.Variable'>\n",
       " float32 latitude(latitude)\n",
       "     long_name: Latitude; positive north\n",
       "     units: degrees_north\n",
       "     standard_name: latitude\n",
       " unlimited dimensions: \n",
       " current shape = (55,)\n",
       " filling on, default _FillValue of 9.969209968386869e+36 used,\n",
       " 'longitude': <class 'netCDF4._netCDF4.Variable'>\n",
       " float32 longitude(longitude)\n",
       "     long_name: Longitude; positive east\n",
       "     units: degrees_east\n",
       "     standard_name: longitude\n",
       " unlimited dimensions: \n",
       " current shape = (109,)\n",
       " filling on, default _FillValue of 9.969209968386869e+36 used,\n",
       " 'vp': <class 'netCDF4._netCDF4.Variable'>\n",
       " float32 vp(depth, latitude, longitude)\n",
       "     long_name: P-velocity in %dVp\n",
       "     valid_range: -1000.f, 1000.f\n",
       "     missing_value: 99999.0\n",
       "     _FillValue: 99999.0\n",
       "     add_offset:   0.f\n",
       "     scale_factor:   2.f\n",
       " unlimited dimensions: \n",
       " current shape = (129, 55, 109)\n",
       " filling on,\n",
       " 'vsh': <class 'netCDF4._netCDF4.Variable'>\n",
       " float32 vsh(depth, latitude, longitude)\n",
       "     long_name: SH-velocity in %dVs\n",
       "     valid_range: -1000.f, 1000.f\n",
       "     missing_value: 99999.0\n",
       "     _FillValue: 99999.0\n",
       "     add_offset:   0.f\n",
       "     scale_factor:   2.f\n",
       " unlimited dimensions: \n",
       " current shape = (129, 55, 109)\n",
       " filling on,\n",
       " 'vsv': <class 'netCDF4._netCDF4.Variable'>\n",
       " float32 vsv(depth, latitude, longitude)\n",
       "     long_name: SV-velocity in %dVs\n",
       "     valid_range: -1000.f, 1000.f\n",
       "     missing_value: 99999.0\n",
       "     _FillValue: 99999.0\n",
       "     add_offset:   0.f\n",
       "     scale_factor:   2.f\n",
       " unlimited dimensions: \n",
       " current shape = (129, 55, 109)\n",
       " filling on,\n",
       " 'vsvj': <class 'netCDF4._netCDF4.Variable'>\n",
       " float32 vsvj(depth, latitude, longitude)\n",
       "     long_name: SV-velocity in %dVs\n",
       "     missing_value: 99999.0\n",
       "     _FillValue: 99999.0\n",
       "     add_offset:   0.f\n",
       "     scale_factor:   2.f\n",
       " unlimited dimensions: \n",
       " current shape = (129, 55, 109)\n",
       " filling on}"
      ]
     },
     "execution_count": 6,
     "metadata": {},
     "output_type": "execute_result"
    }
   ],
   "source": [
    "tomog.variables"
   ]
  },
  {
   "cell_type": "code",
   "execution_count": 7,
   "id": "fa20fb22",
   "metadata": {},
   "outputs": [
    {
     "name": "stderr",
     "output_type": "stream",
     "text": [
      "/Users/tzacks2/.conda/envs/DataViz/lib/python3.7/site-packages/ipykernel_launcher.py:1: UserWarning: invalid scale_factor or add_offset attribute, no unpacking done...\n",
      "  \"\"\"Entry point for launching an IPython kernel.\n"
     ]
    },
    {
     "data": {
      "text/plain": [
       "masked_array(\n",
       "  data=[[[ 0.000e+00,  0.000e+00,  0.000e+00, ...,  9.999e+03,\n",
       "           9.999e+03,  9.999e+03],\n",
       "         [ 0.000e+00,  0.000e+00,  0.000e+00, ...,  9.999e+03,\n",
       "           9.999e+03,  9.999e+03],\n",
       "         [ 0.000e+00,  0.000e+00,  0.000e+00, ...,  9.999e+03,\n",
       "           9.999e+03,  9.999e+03],\n",
       "         ...,\n",
       "         [ 0.000e+00,  0.000e+00,  0.000e+00, ...,  9.999e+03,\n",
       "           9.999e+03,  9.999e+03],\n",
       "         [ 0.000e+00,  0.000e+00,  0.000e+00, ...,  9.999e+03,\n",
       "           9.999e+03,  9.999e+03],\n",
       "         [ 0.000e+00,  0.000e+00,  0.000e+00, ...,  9.999e+03,\n",
       "           9.999e+03,  9.999e+03]],\n",
       "\n",
       "        [[ 0.000e+00,  0.000e+00,  0.000e+00, ...,  9.999e+03,\n",
       "           9.999e+03,  9.999e+03],\n",
       "         [ 0.000e+00,  0.000e+00,  0.000e+00, ...,  9.999e+03,\n",
       "           9.999e+03,  9.999e+03],\n",
       "         [ 0.000e+00,  0.000e+00,  0.000e+00, ...,  9.999e+03,\n",
       "           9.999e+03,  9.999e+03],\n",
       "         ...,\n",
       "         [-1.000e-03, -1.000e-03, -3.000e-03, ...,  9.999e+03,\n",
       "           9.999e+03,  9.999e+03],\n",
       "         [-3.000e-03, -5.000e-03, -5.000e-03, ...,  9.999e+03,\n",
       "           9.999e+03,  9.999e+03],\n",
       "         [-2.000e-03, -1.000e-03,  0.000e+00, ...,  9.999e+03,\n",
       "           9.999e+03,  9.999e+03]],\n",
       "\n",
       "        [[ 0.000e+00,  0.000e+00,  0.000e+00, ...,  9.999e+03,\n",
       "           9.999e+03,  9.999e+03],\n",
       "         [ 0.000e+00,  0.000e+00,  0.000e+00, ...,  9.999e+03,\n",
       "           9.999e+03,  9.999e+03],\n",
       "         [ 0.000e+00,  0.000e+00,  0.000e+00, ...,  9.999e+03,\n",
       "           9.999e+03,  9.999e+03],\n",
       "         ...,\n",
       "         [ 1.100e-02,  1.300e-02,  1.400e-02, ...,  9.999e+03,\n",
       "           9.999e+03,  9.999e+03],\n",
       "         [-2.000e-03, -1.000e-03,  0.000e+00, ...,  9.999e+03,\n",
       "           9.999e+03,  9.999e+03],\n",
       "         [-7.000e-03, -4.000e-03, -1.000e-03, ...,  9.999e+03,\n",
       "           9.999e+03,  9.999e+03]],\n",
       "\n",
       "        ...,\n",
       "\n",
       "        [[ 1.340e-01,  1.380e-01,  1.240e-01, ...,  9.999e+03,\n",
       "           9.999e+03,  9.999e+03],\n",
       "         [ 8.400e-02,  1.150e-01,  1.200e-01, ...,  9.999e+03,\n",
       "           9.999e+03,  9.999e+03],\n",
       "         [ 4.500e-02,  8.700e-02,  1.040e-01, ...,  9.999e+03,\n",
       "           9.999e+03,  9.999e+03],\n",
       "         ...,\n",
       "         [-6.110e-01, -5.990e-01, -5.770e-01, ...,  9.999e+03,\n",
       "           9.999e+03,  9.999e+03],\n",
       "         [-5.420e-01, -5.260e-01, -5.100e-01, ...,  9.999e+03,\n",
       "           9.999e+03,  9.999e+03],\n",
       "         [-5.100e-01, -4.890e-01, -4.680e-01, ...,  9.999e+03,\n",
       "           9.999e+03,  9.999e+03]],\n",
       "\n",
       "        [[ 1.340e-01,  1.350e-01,  1.180e-01, ...,  9.999e+03,\n",
       "           9.999e+03,  9.999e+03],\n",
       "         [ 8.600e-02,  1.150e-01,  1.140e-01, ...,  9.999e+03,\n",
       "           9.999e+03,  9.999e+03],\n",
       "         [ 5.000e-02,  8.900e-02,  9.800e-02, ...,  9.999e+03,\n",
       "           9.999e+03,  9.999e+03],\n",
       "         ...,\n",
       "         [-5.610e-01, -5.500e-01, -5.250e-01, ...,  9.999e+03,\n",
       "           9.999e+03,  9.999e+03],\n",
       "         [-4.960e-01, -4.800e-01, -4.610e-01, ...,  9.999e+03,\n",
       "           9.999e+03,  9.999e+03],\n",
       "         [-4.700e-01, -4.480e-01, -4.260e-01, ...,  9.999e+03,\n",
       "           9.999e+03,  9.999e+03]],\n",
       "\n",
       "        [[ 7.200e-02,  7.100e-02,  6.000e-02, ...,  9.999e+03,\n",
       "           9.999e+03,  9.999e+03],\n",
       "         [ 4.800e-02,  6.100e-02,  5.800e-02, ...,  9.999e+03,\n",
       "           9.999e+03,  9.999e+03],\n",
       "         [ 3.100e-02,  4.900e-02,  5.100e-02, ...,  9.999e+03,\n",
       "           9.999e+03,  9.999e+03],\n",
       "         ...,\n",
       "         [-2.840e-01, -2.790e-01, -2.650e-01, ...,  9.999e+03,\n",
       "           9.999e+03,  9.999e+03],\n",
       "         [-2.510e-01, -2.420e-01, -2.320e-01, ...,  9.999e+03,\n",
       "           9.999e+03,  9.999e+03],\n",
       "         [-2.370e-01, -2.260e-01, -2.140e-01, ...,  9.999e+03,\n",
       "           9.999e+03,  9.999e+03]]],\n",
       "  mask=False,\n",
       "  fill_value=1e+20,\n",
       "  dtype=float32)"
      ]
     },
     "execution_count": 7,
     "metadata": {},
     "output_type": "execute_result"
    }
   ],
   "source": [
    "tomog.variables['vsvj'][:]"
   ]
  },
  {
   "cell_type": "code",
   "execution_count": 8,
   "id": "f30175fb",
   "metadata": {},
   "outputs": [
    {
     "name": "stderr",
     "output_type": "stream",
     "text": [
      "/Users/tzacks2/.conda/envs/DataViz/lib/python3.7/site-packages/ipykernel_launcher.py:1: UserWarning: invalid scale_factor or add_offset attribute, no unpacking done...\n",
      "  \"\"\"Entry point for launching an IPython kernel.\n",
      "/Users/tzacks2/.conda/envs/DataViz/lib/python3.7/site-packages/ipykernel_launcher.py:1: UserWarning: invalid scale_factor or add_offset attribute, no unpacking done...\n",
      "  \"\"\"Entry point for launching an IPython kernel.\n",
      "/Users/tzacks2/.conda/envs/DataViz/lib/python3.7/site-packages/ipykernel_launcher.py:1: UserWarning: invalid scale_factor or add_offset attribute, no unpacking done...\n",
      "  \"\"\"Entry point for launching an IPython kernel.\n",
      "/Users/tzacks2/.conda/envs/DataViz/lib/python3.7/site-packages/ipykernel_launcher.py:1: UserWarning: invalid scale_factor or add_offset attribute, no unpacking done...\n",
      "  \"\"\"Entry point for launching an IPython kernel.\n",
      "/Users/tzacks2/.conda/envs/DataViz/lib/python3.7/site-packages/ipykernel_launcher.py:1: UserWarning: invalid scale_factor or add_offset attribute, no unpacking done...\n",
      "  \"\"\"Entry point for launching an IPython kernel.\n",
      "/Users/tzacks2/.conda/envs/DataViz/lib/python3.7/site-packages/ipykernel_launcher.py:1: UserWarning: invalid scale_factor or add_offset attribute, no unpacking done...\n",
      "  \"\"\"Entry point for launching an IPython kernel.\n",
      "/Users/tzacks2/.conda/envs/DataViz/lib/python3.7/site-packages/ipykernel_launcher.py:1: UserWarning: invalid scale_factor or add_offset attribute, no unpacking done...\n",
      "  \"\"\"Entry point for launching an IPython kernel.\n",
      "/Users/tzacks2/.conda/envs/DataViz/lib/python3.7/site-packages/ipykernel_launcher.py:1: UserWarning: invalid scale_factor or add_offset attribute, no unpacking done...\n",
      "  \"\"\"Entry point for launching an IPython kernel.\n",
      "/Users/tzacks2/.conda/envs/DataViz/lib/python3.7/site-packages/ipykernel_launcher.py:1: UserWarning: invalid scale_factor or add_offset attribute, no unpacking done...\n",
      "  \"\"\"Entry point for launching an IPython kernel.\n",
      "/Users/tzacks2/.conda/envs/DataViz/lib/python3.7/site-packages/ipykernel_launcher.py:1: UserWarning: invalid scale_factor or add_offset attribute, no unpacking done...\n",
      "  \"\"\"Entry point for launching an IPython kernel.\n",
      "/Users/tzacks2/.conda/envs/DataViz/lib/python3.7/site-packages/ipykernel_launcher.py:1: UserWarning: invalid scale_factor or add_offset attribute, no unpacking done...\n",
      "  \"\"\"Entry point for launching an IPython kernel.\n",
      "/Users/tzacks2/.conda/envs/DataViz/lib/python3.7/site-packages/ipykernel_launcher.py:1: UserWarning: invalid scale_factor or add_offset attribute, no unpacking done...\n",
      "  \"\"\"Entry point for launching an IPython kernel.\n",
      "/Users/tzacks2/.conda/envs/DataViz/lib/python3.7/site-packages/ipykernel_launcher.py:1: UserWarning: invalid scale_factor or add_offset attribute, no unpacking done...\n",
      "  \"\"\"Entry point for launching an IPython kernel.\n",
      "/Users/tzacks2/.conda/envs/DataViz/lib/python3.7/site-packages/ipykernel_launcher.py:1: UserWarning: invalid scale_factor or add_offset attribute, no unpacking done...\n",
      "  \"\"\"Entry point for launching an IPython kernel.\n",
      "/Users/tzacks2/.conda/envs/DataViz/lib/python3.7/site-packages/ipykernel_launcher.py:1: UserWarning: invalid scale_factor or add_offset attribute, no unpacking done...\n",
      "  \"\"\"Entry point for launching an IPython kernel.\n",
      "/Users/tzacks2/.conda/envs/DataViz/lib/python3.7/site-packages/ipykernel_launcher.py:1: UserWarning: invalid scale_factor or add_offset attribute, no unpacking done...\n",
      "  \"\"\"Entry point for launching an IPython kernel.\n",
      "/Users/tzacks2/.conda/envs/DataViz/lib/python3.7/site-packages/ipykernel_launcher.py:1: UserWarning: invalid scale_factor or add_offset attribute, no unpacking done...\n",
      "  \"\"\"Entry point for launching an IPython kernel.\n",
      "/Users/tzacks2/.conda/envs/DataViz/lib/python3.7/site-packages/ipykernel_launcher.py:1: UserWarning: invalid scale_factor or add_offset attribute, no unpacking done...\n",
      "  \"\"\"Entry point for launching an IPython kernel.\n",
      "/Users/tzacks2/.conda/envs/DataViz/lib/python3.7/site-packages/ipykernel_launcher.py:1: UserWarning: invalid scale_factor or add_offset attribute, no unpacking done...\n",
      "  \"\"\"Entry point for launching an IPython kernel.\n",
      "/Users/tzacks2/.conda/envs/DataViz/lib/python3.7/site-packages/ipykernel_launcher.py:1: UserWarning: invalid scale_factor or add_offset attribute, no unpacking done...\n",
      "  \"\"\"Entry point for launching an IPython kernel.\n",
      "/Users/tzacks2/.conda/envs/DataViz/lib/python3.7/site-packages/ipykernel_launcher.py:1: UserWarning: invalid scale_factor or add_offset attribute, no unpacking done...\n",
      "  \"\"\"Entry point for launching an IPython kernel.\n",
      "/Users/tzacks2/.conda/envs/DataViz/lib/python3.7/site-packages/ipykernel_launcher.py:1: UserWarning: invalid scale_factor or add_offset attribute, no unpacking done...\n",
      "  \"\"\"Entry point for launching an IPython kernel.\n",
      "/Users/tzacks2/.conda/envs/DataViz/lib/python3.7/site-packages/ipykernel_launcher.py:1: UserWarning: invalid scale_factor or add_offset attribute, no unpacking done...\n",
      "  \"\"\"Entry point for launching an IPython kernel.\n",
      "/Users/tzacks2/.conda/envs/DataViz/lib/python3.7/site-packages/ipykernel_launcher.py:1: UserWarning: invalid scale_factor or add_offset attribute, no unpacking done...\n",
      "  \"\"\"Entry point for launching an IPython kernel.\n",
      "/Users/tzacks2/.conda/envs/DataViz/lib/python3.7/site-packages/ipykernel_launcher.py:1: UserWarning: invalid scale_factor or add_offset attribute, no unpacking done...\n",
      "  \"\"\"Entry point for launching an IPython kernel.\n",
      "/Users/tzacks2/.conda/envs/DataViz/lib/python3.7/site-packages/ipykernel_launcher.py:1: UserWarning: invalid scale_factor or add_offset attribute, no unpacking done...\n",
      "  \"\"\"Entry point for launching an IPython kernel.\n",
      "/Users/tzacks2/.conda/envs/DataViz/lib/python3.7/site-packages/ipykernel_launcher.py:1: UserWarning: invalid scale_factor or add_offset attribute, no unpacking done...\n",
      "  \"\"\"Entry point for launching an IPython kernel.\n",
      "/Users/tzacks2/.conda/envs/DataViz/lib/python3.7/site-packages/ipykernel_launcher.py:1: UserWarning: invalid scale_factor or add_offset attribute, no unpacking done...\n",
      "  \"\"\"Entry point for launching an IPython kernel.\n",
      "/Users/tzacks2/.conda/envs/DataViz/lib/python3.7/site-packages/ipykernel_launcher.py:1: UserWarning: invalid scale_factor or add_offset attribute, no unpacking done...\n",
      "  \"\"\"Entry point for launching an IPython kernel.\n",
      "/Users/tzacks2/.conda/envs/DataViz/lib/python3.7/site-packages/ipykernel_launcher.py:1: UserWarning: invalid scale_factor or add_offset attribute, no unpacking done...\n",
      "  \"\"\"Entry point for launching an IPython kernel.\n",
      "/Users/tzacks2/.conda/envs/DataViz/lib/python3.7/site-packages/ipykernel_launcher.py:1: UserWarning: invalid scale_factor or add_offset attribute, no unpacking done...\n",
      "  \"\"\"Entry point for launching an IPython kernel.\n",
      "/Users/tzacks2/.conda/envs/DataViz/lib/python3.7/site-packages/ipykernel_launcher.py:1: UserWarning: invalid scale_factor or add_offset attribute, no unpacking done...\n",
      "  \"\"\"Entry point for launching an IPython kernel.\n",
      "/Users/tzacks2/.conda/envs/DataViz/lib/python3.7/site-packages/ipykernel_launcher.py:1: UserWarning: invalid scale_factor or add_offset attribute, no unpacking done...\n",
      "  \"\"\"Entry point for launching an IPython kernel.\n",
      "/Users/tzacks2/.conda/envs/DataViz/lib/python3.7/site-packages/ipykernel_launcher.py:1: UserWarning: invalid scale_factor or add_offset attribute, no unpacking done...\n",
      "  \"\"\"Entry point for launching an IPython kernel.\n",
      "/Users/tzacks2/.conda/envs/DataViz/lib/python3.7/site-packages/ipykernel_launcher.py:1: UserWarning: invalid scale_factor or add_offset attribute, no unpacking done...\n",
      "  \"\"\"Entry point for launching an IPython kernel.\n",
      "/Users/tzacks2/.conda/envs/DataViz/lib/python3.7/site-packages/ipykernel_launcher.py:1: UserWarning: invalid scale_factor or add_offset attribute, no unpacking done...\n",
      "  \"\"\"Entry point for launching an IPython kernel.\n",
      "/Users/tzacks2/.conda/envs/DataViz/lib/python3.7/site-packages/ipykernel_launcher.py:1: UserWarning: invalid scale_factor or add_offset attribute, no unpacking done...\n",
      "  \"\"\"Entry point for launching an IPython kernel.\n",
      "/Users/tzacks2/.conda/envs/DataViz/lib/python3.7/site-packages/ipykernel_launcher.py:1: UserWarning: invalid scale_factor or add_offset attribute, no unpacking done...\n",
      "  \"\"\"Entry point for launching an IPython kernel.\n",
      "/Users/tzacks2/.conda/envs/DataViz/lib/python3.7/site-packages/ipykernel_launcher.py:1: UserWarning: invalid scale_factor or add_offset attribute, no unpacking done...\n",
      "  \"\"\"Entry point for launching an IPython kernel.\n",
      "/Users/tzacks2/.conda/envs/DataViz/lib/python3.7/site-packages/ipykernel_launcher.py:1: UserWarning: invalid scale_factor or add_offset attribute, no unpacking done...\n",
      "  \"\"\"Entry point for launching an IPython kernel.\n",
      "/Users/tzacks2/.conda/envs/DataViz/lib/python3.7/site-packages/ipykernel_launcher.py:1: UserWarning: invalid scale_factor or add_offset attribute, no unpacking done...\n",
      "  \"\"\"Entry point for launching an IPython kernel.\n",
      "/Users/tzacks2/.conda/envs/DataViz/lib/python3.7/site-packages/ipykernel_launcher.py:1: UserWarning: invalid scale_factor or add_offset attribute, no unpacking done...\n",
      "  \"\"\"Entry point for launching an IPython kernel.\n",
      "/Users/tzacks2/.conda/envs/DataViz/lib/python3.7/site-packages/ipykernel_launcher.py:1: UserWarning: invalid scale_factor or add_offset attribute, no unpacking done...\n",
      "  \"\"\"Entry point for launching an IPython kernel.\n",
      "/Users/tzacks2/.conda/envs/DataViz/lib/python3.7/site-packages/ipykernel_launcher.py:1: UserWarning: invalid scale_factor or add_offset attribute, no unpacking done...\n",
      "  \"\"\"Entry point for launching an IPython kernel.\n",
      "/Users/tzacks2/.conda/envs/DataViz/lib/python3.7/site-packages/ipykernel_launcher.py:1: UserWarning: invalid scale_factor or add_offset attribute, no unpacking done...\n",
      "  \"\"\"Entry point for launching an IPython kernel.\n"
     ]
    },
    {
     "name": "stderr",
     "output_type": "stream",
     "text": [
      "/Users/tzacks2/.conda/envs/DataViz/lib/python3.7/site-packages/ipykernel_launcher.py:1: UserWarning: invalid scale_factor or add_offset attribute, no unpacking done...\n",
      "  \"\"\"Entry point for launching an IPython kernel.\n",
      "/Users/tzacks2/.conda/envs/DataViz/lib/python3.7/site-packages/ipykernel_launcher.py:1: UserWarning: invalid scale_factor or add_offset attribute, no unpacking done...\n",
      "  \"\"\"Entry point for launching an IPython kernel.\n",
      "/Users/tzacks2/.conda/envs/DataViz/lib/python3.7/site-packages/ipykernel_launcher.py:1: UserWarning: invalid scale_factor or add_offset attribute, no unpacking done...\n",
      "  \"\"\"Entry point for launching an IPython kernel.\n",
      "/Users/tzacks2/.conda/envs/DataViz/lib/python3.7/site-packages/ipykernel_launcher.py:1: UserWarning: invalid scale_factor or add_offset attribute, no unpacking done...\n",
      "  \"\"\"Entry point for launching an IPython kernel.\n",
      "/Users/tzacks2/.conda/envs/DataViz/lib/python3.7/site-packages/ipykernel_launcher.py:1: UserWarning: invalid scale_factor or add_offset attribute, no unpacking done...\n",
      "  \"\"\"Entry point for launching an IPython kernel.\n",
      "/Users/tzacks2/.conda/envs/DataViz/lib/python3.7/site-packages/ipykernel_launcher.py:1: UserWarning: invalid scale_factor or add_offset attribute, no unpacking done...\n",
      "  \"\"\"Entry point for launching an IPython kernel.\n",
      "/Users/tzacks2/.conda/envs/DataViz/lib/python3.7/site-packages/ipykernel_launcher.py:1: UserWarning: invalid scale_factor or add_offset attribute, no unpacking done...\n",
      "  \"\"\"Entry point for launching an IPython kernel.\n",
      "/Users/tzacks2/.conda/envs/DataViz/lib/python3.7/site-packages/ipykernel_launcher.py:1: UserWarning: invalid scale_factor or add_offset attribute, no unpacking done...\n",
      "  \"\"\"Entry point for launching an IPython kernel.\n",
      "/Users/tzacks2/.conda/envs/DataViz/lib/python3.7/site-packages/ipykernel_launcher.py:1: UserWarning: invalid scale_factor or add_offset attribute, no unpacking done...\n",
      "  \"\"\"Entry point for launching an IPython kernel.\n",
      "/Users/tzacks2/.conda/envs/DataViz/lib/python3.7/site-packages/ipykernel_launcher.py:1: UserWarning: invalid scale_factor or add_offset attribute, no unpacking done...\n",
      "  \"\"\"Entry point for launching an IPython kernel.\n",
      "/Users/tzacks2/.conda/envs/DataViz/lib/python3.7/site-packages/ipykernel_launcher.py:1: UserWarning: invalid scale_factor or add_offset attribute, no unpacking done...\n",
      "  \"\"\"Entry point for launching an IPython kernel.\n",
      "/Users/tzacks2/.conda/envs/DataViz/lib/python3.7/site-packages/ipykernel_launcher.py:1: UserWarning: invalid scale_factor or add_offset attribute, no unpacking done...\n",
      "  \"\"\"Entry point for launching an IPython kernel.\n",
      "/Users/tzacks2/.conda/envs/DataViz/lib/python3.7/site-packages/ipykernel_launcher.py:1: UserWarning: invalid scale_factor or add_offset attribute, no unpacking done...\n",
      "  \"\"\"Entry point for launching an IPython kernel.\n",
      "/Users/tzacks2/.conda/envs/DataViz/lib/python3.7/site-packages/ipykernel_launcher.py:1: UserWarning: invalid scale_factor or add_offset attribute, no unpacking done...\n",
      "  \"\"\"Entry point for launching an IPython kernel.\n",
      "/Users/tzacks2/.conda/envs/DataViz/lib/python3.7/site-packages/ipykernel_launcher.py:1: UserWarning: invalid scale_factor or add_offset attribute, no unpacking done...\n",
      "  \"\"\"Entry point for launching an IPython kernel.\n",
      "/Users/tzacks2/.conda/envs/DataViz/lib/python3.7/site-packages/ipykernel_launcher.py:1: UserWarning: invalid scale_factor or add_offset attribute, no unpacking done...\n",
      "  \"\"\"Entry point for launching an IPython kernel.\n",
      "/Users/tzacks2/.conda/envs/DataViz/lib/python3.7/site-packages/ipykernel_launcher.py:1: UserWarning: invalid scale_factor or add_offset attribute, no unpacking done...\n",
      "  \"\"\"Entry point for launching an IPython kernel.\n",
      "/Users/tzacks2/.conda/envs/DataViz/lib/python3.7/site-packages/ipykernel_launcher.py:1: UserWarning: invalid scale_factor or add_offset attribute, no unpacking done...\n",
      "  \"\"\"Entry point for launching an IPython kernel.\n",
      "/Users/tzacks2/.conda/envs/DataViz/lib/python3.7/site-packages/ipykernel_launcher.py:1: UserWarning: invalid scale_factor or add_offset attribute, no unpacking done...\n",
      "  \"\"\"Entry point for launching an IPython kernel.\n",
      "/Users/tzacks2/.conda/envs/DataViz/lib/python3.7/site-packages/ipykernel_launcher.py:1: UserWarning: invalid scale_factor or add_offset attribute, no unpacking done...\n",
      "  \"\"\"Entry point for launching an IPython kernel.\n",
      "/Users/tzacks2/.conda/envs/DataViz/lib/python3.7/site-packages/ipykernel_launcher.py:1: UserWarning: invalid scale_factor or add_offset attribute, no unpacking done...\n",
      "  \"\"\"Entry point for launching an IPython kernel.\n",
      "/Users/tzacks2/.conda/envs/DataViz/lib/python3.7/site-packages/ipykernel_launcher.py:1: UserWarning: invalid scale_factor or add_offset attribute, no unpacking done...\n",
      "  \"\"\"Entry point for launching an IPython kernel.\n",
      "/Users/tzacks2/.conda/envs/DataViz/lib/python3.7/site-packages/ipykernel_launcher.py:1: UserWarning: invalid scale_factor or add_offset attribute, no unpacking done...\n",
      "  \"\"\"Entry point for launching an IPython kernel.\n",
      "/Users/tzacks2/.conda/envs/DataViz/lib/python3.7/site-packages/ipykernel_launcher.py:1: UserWarning: invalid scale_factor or add_offset attribute, no unpacking done...\n",
      "  \"\"\"Entry point for launching an IPython kernel.\n",
      "/Users/tzacks2/.conda/envs/DataViz/lib/python3.7/site-packages/ipykernel_launcher.py:1: UserWarning: invalid scale_factor or add_offset attribute, no unpacking done...\n",
      "  \"\"\"Entry point for launching an IPython kernel.\n",
      "/Users/tzacks2/.conda/envs/DataViz/lib/python3.7/site-packages/ipykernel_launcher.py:1: UserWarning: invalid scale_factor or add_offset attribute, no unpacking done...\n",
      "  \"\"\"Entry point for launching an IPython kernel.\n",
      "/Users/tzacks2/.conda/envs/DataViz/lib/python3.7/site-packages/ipykernel_launcher.py:1: UserWarning: invalid scale_factor or add_offset attribute, no unpacking done...\n",
      "  \"\"\"Entry point for launching an IPython kernel.\n",
      "/Users/tzacks2/.conda/envs/DataViz/lib/python3.7/site-packages/ipykernel_launcher.py:1: UserWarning: invalid scale_factor or add_offset attribute, no unpacking done...\n",
      "  \"\"\"Entry point for launching an IPython kernel.\n",
      "/Users/tzacks2/.conda/envs/DataViz/lib/python3.7/site-packages/ipykernel_launcher.py:1: UserWarning: invalid scale_factor or add_offset attribute, no unpacking done...\n",
      "  \"\"\"Entry point for launching an IPython kernel.\n",
      "/Users/tzacks2/.conda/envs/DataViz/lib/python3.7/site-packages/ipykernel_launcher.py:1: UserWarning: invalid scale_factor or add_offset attribute, no unpacking done...\n",
      "  \"\"\"Entry point for launching an IPython kernel.\n",
      "/Users/tzacks2/.conda/envs/DataViz/lib/python3.7/site-packages/ipykernel_launcher.py:1: UserWarning: invalid scale_factor or add_offset attribute, no unpacking done...\n",
      "  \"\"\"Entry point for launching an IPython kernel.\n",
      "/Users/tzacks2/.conda/envs/DataViz/lib/python3.7/site-packages/ipykernel_launcher.py:1: UserWarning: invalid scale_factor or add_offset attribute, no unpacking done...\n",
      "  \"\"\"Entry point for launching an IPython kernel.\n",
      "/Users/tzacks2/.conda/envs/DataViz/lib/python3.7/site-packages/ipykernel_launcher.py:1: UserWarning: invalid scale_factor or add_offset attribute, no unpacking done...\n",
      "  \"\"\"Entry point for launching an IPython kernel.\n",
      "/Users/tzacks2/.conda/envs/DataViz/lib/python3.7/site-packages/ipykernel_launcher.py:1: UserWarning: invalid scale_factor or add_offset attribute, no unpacking done...\n",
      "  \"\"\"Entry point for launching an IPython kernel.\n",
      "/Users/tzacks2/.conda/envs/DataViz/lib/python3.7/site-packages/ipykernel_launcher.py:1: UserWarning: invalid scale_factor or add_offset attribute, no unpacking done...\n",
      "  \"\"\"Entry point for launching an IPython kernel.\n",
      "/Users/tzacks2/.conda/envs/DataViz/lib/python3.7/site-packages/ipykernel_launcher.py:1: UserWarning: invalid scale_factor or add_offset attribute, no unpacking done...\n",
      "  \"\"\"Entry point for launching an IPython kernel.\n",
      "/Users/tzacks2/.conda/envs/DataViz/lib/python3.7/site-packages/ipykernel_launcher.py:1: UserWarning: invalid scale_factor or add_offset attribute, no unpacking done...\n",
      "  \"\"\"Entry point for launching an IPython kernel.\n",
      "/Users/tzacks2/.conda/envs/DataViz/lib/python3.7/site-packages/ipykernel_launcher.py:1: UserWarning: invalid scale_factor or add_offset attribute, no unpacking done...\n",
      "  \"\"\"Entry point for launching an IPython kernel.\n",
      "/Users/tzacks2/.conda/envs/DataViz/lib/python3.7/site-packages/ipykernel_launcher.py:1: UserWarning: invalid scale_factor or add_offset attribute, no unpacking done...\n",
      "  \"\"\"Entry point for launching an IPython kernel.\n",
      "/Users/tzacks2/.conda/envs/DataViz/lib/python3.7/site-packages/ipykernel_launcher.py:1: UserWarning: invalid scale_factor or add_offset attribute, no unpacking done...\n",
      "  \"\"\"Entry point for launching an IPython kernel.\n",
      "/Users/tzacks2/.conda/envs/DataViz/lib/python3.7/site-packages/ipykernel_launcher.py:1: UserWarning: invalid scale_factor or add_offset attribute, no unpacking done...\n",
      "  \"\"\"Entry point for launching an IPython kernel.\n",
      "/Users/tzacks2/.conda/envs/DataViz/lib/python3.7/site-packages/ipykernel_launcher.py:1: UserWarning: invalid scale_factor or add_offset attribute, no unpacking done...\n",
      "  \"\"\"Entry point for launching an IPython kernel.\n",
      "/Users/tzacks2/.conda/envs/DataViz/lib/python3.7/site-packages/ipykernel_launcher.py:1: UserWarning: invalid scale_factor or add_offset attribute, no unpacking done...\n",
      "  \"\"\"Entry point for launching an IPython kernel.\n",
      "/Users/tzacks2/.conda/envs/DataViz/lib/python3.7/site-packages/ipykernel_launcher.py:1: UserWarning: invalid scale_factor or add_offset attribute, no unpacking done...\n",
      "  \"\"\"Entry point for launching an IPython kernel.\n",
      "/Users/tzacks2/.conda/envs/DataViz/lib/python3.7/site-packages/ipykernel_launcher.py:1: UserWarning: invalid scale_factor or add_offset attribute, no unpacking done...\n",
      "  \"\"\"Entry point for launching an IPython kernel.\n",
      "/Users/tzacks2/.conda/envs/DataViz/lib/python3.7/site-packages/ipykernel_launcher.py:1: UserWarning: invalid scale_factor or add_offset attribute, no unpacking done...\n",
      "  \"\"\"Entry point for launching an IPython kernel.\n",
      "/Users/tzacks2/.conda/envs/DataViz/lib/python3.7/site-packages/ipykernel_launcher.py:1: UserWarning: invalid scale_factor or add_offset attribute, no unpacking done...\n",
      "  \"\"\"Entry point for launching an IPython kernel.\n",
      "/Users/tzacks2/.conda/envs/DataViz/lib/python3.7/site-packages/ipykernel_launcher.py:1: UserWarning: invalid scale_factor or add_offset attribute, no unpacking done...\n",
      "  \"\"\"Entry point for launching an IPython kernel.\n",
      "/Users/tzacks2/.conda/envs/DataViz/lib/python3.7/site-packages/ipykernel_launcher.py:1: UserWarning: invalid scale_factor or add_offset attribute, no unpacking done...\n",
      "  \"\"\"Entry point for launching an IPython kernel.\n"
     ]
    },
    {
     "name": "stderr",
     "output_type": "stream",
     "text": [
      "/Users/tzacks2/.conda/envs/DataViz/lib/python3.7/site-packages/ipykernel_launcher.py:1: UserWarning: invalid scale_factor or add_offset attribute, no unpacking done...\n",
      "  \"\"\"Entry point for launching an IPython kernel.\n",
      "/Users/tzacks2/.conda/envs/DataViz/lib/python3.7/site-packages/ipykernel_launcher.py:1: UserWarning: invalid scale_factor or add_offset attribute, no unpacking done...\n",
      "  \"\"\"Entry point for launching an IPython kernel.\n",
      "/Users/tzacks2/.conda/envs/DataViz/lib/python3.7/site-packages/ipykernel_launcher.py:1: UserWarning: invalid scale_factor or add_offset attribute, no unpacking done...\n",
      "  \"\"\"Entry point for launching an IPython kernel.\n",
      "/Users/tzacks2/.conda/envs/DataViz/lib/python3.7/site-packages/ipykernel_launcher.py:1: UserWarning: invalid scale_factor or add_offset attribute, no unpacking done...\n",
      "  \"\"\"Entry point for launching an IPython kernel.\n",
      "/Users/tzacks2/.conda/envs/DataViz/lib/python3.7/site-packages/ipykernel_launcher.py:1: UserWarning: invalid scale_factor or add_offset attribute, no unpacking done...\n",
      "  \"\"\"Entry point for launching an IPython kernel.\n",
      "/Users/tzacks2/.conda/envs/DataViz/lib/python3.7/site-packages/ipykernel_launcher.py:1: UserWarning: invalid scale_factor or add_offset attribute, no unpacking done...\n",
      "  \"\"\"Entry point for launching an IPython kernel.\n",
      "/Users/tzacks2/.conda/envs/DataViz/lib/python3.7/site-packages/ipykernel_launcher.py:1: UserWarning: invalid scale_factor or add_offset attribute, no unpacking done...\n",
      "  \"\"\"Entry point for launching an IPython kernel.\n",
      "/Users/tzacks2/.conda/envs/DataViz/lib/python3.7/site-packages/ipykernel_launcher.py:1: UserWarning: invalid scale_factor or add_offset attribute, no unpacking done...\n",
      "  \"\"\"Entry point for launching an IPython kernel.\n",
      "/Users/tzacks2/.conda/envs/DataViz/lib/python3.7/site-packages/ipykernel_launcher.py:1: UserWarning: invalid scale_factor or add_offset attribute, no unpacking done...\n",
      "  \"\"\"Entry point for launching an IPython kernel.\n",
      "/Users/tzacks2/.conda/envs/DataViz/lib/python3.7/site-packages/ipykernel_launcher.py:1: UserWarning: invalid scale_factor or add_offset attribute, no unpacking done...\n",
      "  \"\"\"Entry point for launching an IPython kernel.\n",
      "/Users/tzacks2/.conda/envs/DataViz/lib/python3.7/site-packages/ipykernel_launcher.py:1: UserWarning: invalid scale_factor or add_offset attribute, no unpacking done...\n",
      "  \"\"\"Entry point for launching an IPython kernel.\n",
      "/Users/tzacks2/.conda/envs/DataViz/lib/python3.7/site-packages/ipykernel_launcher.py:1: UserWarning: invalid scale_factor or add_offset attribute, no unpacking done...\n",
      "  \"\"\"Entry point for launching an IPython kernel.\n",
      "/Users/tzacks2/.conda/envs/DataViz/lib/python3.7/site-packages/ipykernel_launcher.py:1: UserWarning: invalid scale_factor or add_offset attribute, no unpacking done...\n",
      "  \"\"\"Entry point for launching an IPython kernel.\n",
      "/Users/tzacks2/.conda/envs/DataViz/lib/python3.7/site-packages/ipykernel_launcher.py:1: UserWarning: invalid scale_factor or add_offset attribute, no unpacking done...\n",
      "  \"\"\"Entry point for launching an IPython kernel.\n",
      "/Users/tzacks2/.conda/envs/DataViz/lib/python3.7/site-packages/ipykernel_launcher.py:1: UserWarning: invalid scale_factor or add_offset attribute, no unpacking done...\n",
      "  \"\"\"Entry point for launching an IPython kernel.\n",
      "/Users/tzacks2/.conda/envs/DataViz/lib/python3.7/site-packages/ipykernel_launcher.py:1: UserWarning: invalid scale_factor or add_offset attribute, no unpacking done...\n",
      "  \"\"\"Entry point for launching an IPython kernel.\n",
      "/Users/tzacks2/.conda/envs/DataViz/lib/python3.7/site-packages/ipykernel_launcher.py:1: UserWarning: invalid scale_factor or add_offset attribute, no unpacking done...\n",
      "  \"\"\"Entry point for launching an IPython kernel.\n",
      "/Users/tzacks2/.conda/envs/DataViz/lib/python3.7/site-packages/ipykernel_launcher.py:1: UserWarning: invalid scale_factor or add_offset attribute, no unpacking done...\n",
      "  \"\"\"Entry point for launching an IPython kernel.\n",
      "/Users/tzacks2/.conda/envs/DataViz/lib/python3.7/site-packages/ipykernel_launcher.py:1: UserWarning: invalid scale_factor or add_offset attribute, no unpacking done...\n",
      "  \"\"\"Entry point for launching an IPython kernel.\n",
      "/Users/tzacks2/.conda/envs/DataViz/lib/python3.7/site-packages/ipykernel_launcher.py:1: UserWarning: invalid scale_factor or add_offset attribute, no unpacking done...\n",
      "  \"\"\"Entry point for launching an IPython kernel.\n",
      "/Users/tzacks2/.conda/envs/DataViz/lib/python3.7/site-packages/ipykernel_launcher.py:1: UserWarning: invalid scale_factor or add_offset attribute, no unpacking done...\n",
      "  \"\"\"Entry point for launching an IPython kernel.\n",
      "/Users/tzacks2/.conda/envs/DataViz/lib/python3.7/site-packages/ipykernel_launcher.py:1: UserWarning: invalid scale_factor or add_offset attribute, no unpacking done...\n",
      "  \"\"\"Entry point for launching an IPython kernel.\n",
      "/Users/tzacks2/.conda/envs/DataViz/lib/python3.7/site-packages/ipykernel_launcher.py:1: UserWarning: invalid scale_factor or add_offset attribute, no unpacking done...\n",
      "  \"\"\"Entry point for launching an IPython kernel.\n",
      "/Users/tzacks2/.conda/envs/DataViz/lib/python3.7/site-packages/ipykernel_launcher.py:1: UserWarning: invalid scale_factor or add_offset attribute, no unpacking done...\n",
      "  \"\"\"Entry point for launching an IPython kernel.\n",
      "/Users/tzacks2/.conda/envs/DataViz/lib/python3.7/site-packages/ipykernel_launcher.py:1: UserWarning: invalid scale_factor or add_offset attribute, no unpacking done...\n",
      "  \"\"\"Entry point for launching an IPython kernel.\n",
      "/Users/tzacks2/.conda/envs/DataViz/lib/python3.7/site-packages/ipykernel_launcher.py:1: UserWarning: invalid scale_factor or add_offset attribute, no unpacking done...\n",
      "  \"\"\"Entry point for launching an IPython kernel.\n",
      "/Users/tzacks2/.conda/envs/DataViz/lib/python3.7/site-packages/ipykernel_launcher.py:1: UserWarning: invalid scale_factor or add_offset attribute, no unpacking done...\n",
      "  \"\"\"Entry point for launching an IPython kernel.\n",
      "/Users/tzacks2/.conda/envs/DataViz/lib/python3.7/site-packages/ipykernel_launcher.py:1: UserWarning: invalid scale_factor or add_offset attribute, no unpacking done...\n",
      "  \"\"\"Entry point for launching an IPython kernel.\n",
      "/Users/tzacks2/.conda/envs/DataViz/lib/python3.7/site-packages/ipykernel_launcher.py:1: UserWarning: invalid scale_factor or add_offset attribute, no unpacking done...\n",
      "  \"\"\"Entry point for launching an IPython kernel.\n",
      "/Users/tzacks2/.conda/envs/DataViz/lib/python3.7/site-packages/ipykernel_launcher.py:1: UserWarning: invalid scale_factor or add_offset attribute, no unpacking done...\n",
      "  \"\"\"Entry point for launching an IPython kernel.\n",
      "/Users/tzacks2/.conda/envs/DataViz/lib/python3.7/site-packages/ipykernel_launcher.py:1: UserWarning: invalid scale_factor or add_offset attribute, no unpacking done...\n",
      "  \"\"\"Entry point for launching an IPython kernel.\n",
      "/Users/tzacks2/.conda/envs/DataViz/lib/python3.7/site-packages/ipykernel_launcher.py:1: UserWarning: invalid scale_factor or add_offset attribute, no unpacking done...\n",
      "  \"\"\"Entry point for launching an IPython kernel.\n",
      "/Users/tzacks2/.conda/envs/DataViz/lib/python3.7/site-packages/ipykernel_launcher.py:1: UserWarning: invalid scale_factor or add_offset attribute, no unpacking done...\n",
      "  \"\"\"Entry point for launching an IPython kernel.\n",
      "/Users/tzacks2/.conda/envs/DataViz/lib/python3.7/site-packages/ipykernel_launcher.py:1: UserWarning: invalid scale_factor or add_offset attribute, no unpacking done...\n",
      "  \"\"\"Entry point for launching an IPython kernel.\n",
      "/Users/tzacks2/.conda/envs/DataViz/lib/python3.7/site-packages/ipykernel_launcher.py:1: UserWarning: invalid scale_factor or add_offset attribute, no unpacking done...\n",
      "  \"\"\"Entry point for launching an IPython kernel.\n"
     ]
    },
    {
     "data": {
      "image/png": "[encoded data removed]",
      "text/plain": [
       "<Figure size 432x288 with 1 Axes>"
      ]
     },
     "metadata": {
      "needs_background": "light"
     },
     "output_type": "display_data"
    }
   ],
   "source": [
    "for i in tomog.variables['vsvj']:\n",
    "    plt.plot(i)"
   ]
  },
  {
   "cell_type": "code",
   "execution_count": 9,
   "id": "91f4fbcb",
   "metadata": {},
   "outputs": [
    {
     "data": {
      "text/plain": [
       "dict_keys(['depth', 'latitude', 'longitude', 'vp', 'vsh', 'vsv', 'vsvj'])"
      ]
     },
     "execution_count": 9,
     "metadata": {},
     "output_type": "execute_result"
    }
   ],
   "source": [
    "tomog.variables.keys()"
   ]
  },
  {
   "cell_type": "code",
   "execution_count": 10,
   "id": "1a8960a4",
   "metadata": {},
   "outputs": [
    {
     "name": "stdout",
     "output_type": "stream",
     "text": [
      "<class 'netCDF4._netCDF4.Variable'>\n",
      "float32 vp(depth, latitude, longitude)\n",
      "    long_name: P-velocity in %dVp\n",
      "    valid_range: -1000.f, 1000.f\n",
      "    missing_value: 99999.0\n",
      "    _FillValue: 99999.0\n",
      "    add_offset:   0.f\n",
      "    scale_factor:   2.f\n",
      "unlimited dimensions: \n",
      "current shape = (129, 55, 109)\n",
      "filling on\n"
     ]
    }
   ],
   "source": [
    "print(tomog.variables['vp'])"
   ]
  },
  {
   "cell_type": "code",
   "execution_count": 24,
   "id": "a63f3d03",
   "metadata": {},
   "outputs": [
    {
     "data": {
      "text/plain": [
       "(129, 55, 109)"
      ]
     },
     "execution_count": 24,
     "metadata": {},
     "output_type": "execute_result"
    }
   ],
   "source": [
    "(tomog.variables['vsvj'].shape[:][:])"
   ]
  },
  {
   "cell_type": "code",
   "execution_count": 37,
   "id": "cc2918dd",
   "metadata": {},
   "outputs": [
    {
     "data": {
      "application/vnd.jupyter.widget-view+json": {
       "model_id": "d6b0e784aa8f44638778ba0e94d98475",
       "version_major": 2,
       "version_minor": 0
      },
      "text/plain": [
       "interactive(children=(IntSlider(value=64, description='count', max=128), Output()), _dom_classes=('widget-inte…"
      ]
     },
     "metadata": {},
     "output_type": "display_data"
    }
   ],
   "source": [
    "@ipywidgets.interact(count =(0,(tomog.variables['vsvj'].shape[0])-1))\n",
    "def make_plot(count):\n",
    "    for i in tomog.variables['vsvj'].data:\n",
    "            plt.clf\n",
    "            plt.plot(i[count])"
   ]
  },
  {
   "cell_type": "code",
   "execution_count": 41,
   "id": "e6a7e440",
   "metadata": {},
   "outputs": [
    {
     "ename": "AttributeError",
     "evalue": "'dict' object has no attribute 'vsvj'",
     "output_type": "error",
     "traceback": [
      "\u001b[0;31m---------------------------------------------------------------------------\u001b[0m",
      "\u001b[0;31mAttributeError\u001b[0m                            Traceback (most recent call last)",
      "\u001b[0;32m/var/folders/5y/htsjngjd7nd_3ddqv2q24ynh0000gq/T/ipykernel_56733/2409249540.py\u001b[0m in \u001b[0;36m<module>\u001b[0;34m\u001b[0m\n\u001b[0;32m----> 1\u001b[0;31m \u001b[0mtomog\u001b[0m\u001b[0;34m.\u001b[0m\u001b[0mvariables\u001b[0m\u001b[0;34m.\u001b[0m\u001b[0mvsvj\u001b[0m\u001b[0;34m\u001b[0m\u001b[0;34m\u001b[0m\u001b[0m\n\u001b[0m",
      "\u001b[0;31mAttributeError\u001b[0m: 'dict' object has no attribute 'vsvj'"
     ]
    }
   ],
   "source": [
    "dimensions(sizes): depth(129), latitude(55), longitude(109)\n",
    "    variables(dimensions): float32 depth(depth), float32 latitude(latitude), float32 longitude(longitude), float32 vp(depth, latitude, longitude), float32 vsh(depth, latitude, longitude), float32 vsv(depth, latitude, longitude), float32 vsvj(depth, latitude, longitude)\n",
    "    groups: "
   ]
  },
  {
   "cell_type": "code",
   "execution_count": 48,
   "id": "451a8bff",
   "metadata": {},
   "outputs": [
    {
     "name": "stderr",
     "output_type": "stream",
     "text": [
      "/Users/tzacks2/.conda/envs/DataViz/lib/python3.7/site-packages/ipykernel_launcher.py:4: UserWarning: invalid scale_factor or add_offset attribute, no unpacking done...\n",
      "  after removing the cwd from sys.path.\n"
     ]
    },
    {
     "ename": "ValueError",
     "evalue": "could not convert string to float: '-1000.f, 1000.f'",
     "output_type": "error",
     "traceback": [
      "\u001b[0;31m---------------------------------------------------------------------------\u001b[0m",
      "\u001b[0;31mValueError\u001b[0m                                Traceback (most recent call last)",
      "\u001b[0;32m/var/folders/5y/htsjngjd7nd_3ddqv2q24ynh0000gq/T/ipykernel_56733/2560499464.py\u001b[0m in \u001b[0;36m<module>\u001b[0;34m\u001b[0m\n\u001b[1;32m      2\u001b[0m \u001b[0mlat\u001b[0m \u001b[0;34m=\u001b[0m \u001b[0mtomog\u001b[0m\u001b[0;34m.\u001b[0m\u001b[0mvariables\u001b[0m\u001b[0;34m[\u001b[0m\u001b[0;34m'latitude'\u001b[0m\u001b[0;34m]\u001b[0m\u001b[0;34m[\u001b[0m\u001b[0;34m:\u001b[0m\u001b[0;34m]\u001b[0m\u001b[0;34m\u001b[0m\u001b[0;34m\u001b[0m\u001b[0m\n\u001b[1;32m      3\u001b[0m \u001b[0mlon\u001b[0m \u001b[0;34m=\u001b[0m \u001b[0mtomog\u001b[0m\u001b[0;34m.\u001b[0m\u001b[0mvariables\u001b[0m\u001b[0;34m[\u001b[0m\u001b[0;34m'longitude'\u001b[0m\u001b[0;34m]\u001b[0m\u001b[0;34m[\u001b[0m\u001b[0;34m:\u001b[0m\u001b[0;34m]\u001b[0m\u001b[0;34m\u001b[0m\u001b[0;34m\u001b[0m\u001b[0m\n\u001b[0;32m----> 4\u001b[0;31m \u001b[0mvp\u001b[0m \u001b[0;34m=\u001b[0m \u001b[0mtomog\u001b[0m\u001b[0;34m.\u001b[0m\u001b[0mvariables\u001b[0m\u001b[0;34m[\u001b[0m\u001b[0;34m'vp'\u001b[0m\u001b[0;34m]\u001b[0m\u001b[0;34m[\u001b[0m\u001b[0;34m:\u001b[0m\u001b[0;34m]\u001b[0m\u001b[0;34m.\u001b[0m\u001b[0msplit\u001b[0m\u001b[0;34m(\u001b[0m\u001b[0;34m'.'\u001b[0m\u001b[0;34m)\u001b[0m\u001b[0;34m[\u001b[0m\u001b[0;36m0\u001b[0m\u001b[0;34m]\u001b[0m\u001b[0;34m\u001b[0m\u001b[0;34m\u001b[0m\u001b[0m\n\u001b[0m\u001b[1;32m      5\u001b[0m \u001b[0mvsh\u001b[0m \u001b[0;34m=\u001b[0m \u001b[0mtomog\u001b[0m\u001b[0;34m.\u001b[0m\u001b[0mvariables\u001b[0m\u001b[0;34m[\u001b[0m\u001b[0;34m'vsh'\u001b[0m\u001b[0;34m]\u001b[0m\u001b[0;34m[\u001b[0m\u001b[0;34m:\u001b[0m\u001b[0;34m]\u001b[0m\u001b[0;34m\u001b[0m\u001b[0;34m\u001b[0m\u001b[0m\n\u001b[1;32m      6\u001b[0m \u001b[0mvsv\u001b[0m \u001b[0;34m=\u001b[0m \u001b[0mtomog\u001b[0m\u001b[0;34m.\u001b[0m\u001b[0mvariables\u001b[0m\u001b[0;34m[\u001b[0m\u001b[0;34m'vsv'\u001b[0m\u001b[0;34m]\u001b[0m\u001b[0;34m[\u001b[0m\u001b[0;34m:\u001b[0m\u001b[0;34m]\u001b[0m\u001b[0;34m\u001b[0m\u001b[0;34m\u001b[0m\u001b[0m\n",
      "\u001b[0;32msrc/netCDF4/_netCDF4.pyx\u001b[0m in \u001b[0;36mnetCDF4._netCDF4.Variable.__getitem__\u001b[0;34m()\u001b[0m\n",
      "\u001b[0;32msrc/netCDF4/_netCDF4.pyx\u001b[0m in \u001b[0;36mnetCDF4._netCDF4.Variable._toma\u001b[0;34m()\u001b[0m\n",
      "\u001b[0;32msrc/netCDF4/_netCDF4.pyx\u001b[0m in \u001b[0;36mnetCDF4._netCDF4.Variable._check_safecast\u001b[0;34m()\u001b[0m\n",
      "\u001b[0;31mValueError\u001b[0m: could not convert string to float: '-1000.f, 1000.f'"
     ]
    }
   ],
   "source": [
    "depth = tomog.variables['depth'][:]\n",
    "lat = tomog.variables['latitude'][:]\n",
    "lon = tomog.variables['longitude'][:]\n",
    "vp = tomog.variables['vp'][:]\n",
    "vsh = tomog.variables['vsh'][:]\n",
    "vsv = tomog.variables['vsv'][:]\n",
    "vsvj = tomog.variables['vsvj'][:]"
   ]
  },
  {
   "cell_type": "code",
   "execution_count": 43,
   "id": "f03d2f56",
   "metadata": {},
   "outputs": [
    {
     "data": {
      "text/plain": [
       "masked_array(data=[   0.,   10.,   20.,   30.,   40.,   50.,   60.,   70.,\n",
       "                     80.,   90.,  100.,  110.,  120.,  130.,  140.,  150.,\n",
       "                    160.,  170.,  180.,  190.,  200.,  210.,  220.,  230.,\n",
       "                    240.,  250.,  260.,  270.,  280.,  290.,  300.,  310.,\n",
       "                    320.,  330.,  340.,  350.,  360.,  370.,  380.,  390.,\n",
       "                    400.,  410.,  420.,  430.,  440.,  450.,  460.,  470.,\n",
       "                    480.,  490.,  500.,  510.,  520.,  530.,  540.,  550.,\n",
       "                    560.,  570.,  580.,  590.,  600.,  610.,  620.,  630.,\n",
       "                    640.,  650.,  660.,  670.,  680.,  690.,  700.,  710.,\n",
       "                    720.,  730.,  740.,  750.,  760.,  770.,  780.,  790.,\n",
       "                    800.,  810.,  820.,  830.,  840.,  850.,  860.,  870.,\n",
       "                    880.,  890.,  900.,  910.,  920.,  930.,  940.,  950.,\n",
       "                    960.,  970.,  980.,  990., 1000., 1010., 1020., 1030.,\n",
       "                   1040., 1050., 1060., 1070., 1080., 1090., 1100., 1110.,\n",
       "                   1120., 1130., 1140., 1150., 1160., 1170., 1180., 1190.,\n",
       "                   1200., 1210., 1220., 1230., 1240., 1250., 1260., 1270.,\n",
       "                   1280.],\n",
       "             mask=False,\n",
       "       fill_value=1e+20,\n",
       "            dtype=float32)"
      ]
     },
     "execution_count": 43,
     "metadata": {},
     "output_type": "execute_result"
    }
   ],
   "source": [
    "depth"
   ]
  },
  {
   "cell_type": "code",
   "execution_count": 47,
   "id": "ae3ef5ce",
   "metadata": {},
   "outputs": [
    {
     "data": {
      "text/plain": [
       "'1000'"
      ]
     },
     "execution_count": 47,
     "metadata": {},
     "output_type": "execute_result"
    }
   ],
   "source": [
    "'1000.f'.split('.')[0]"
   ]
  },
  {
   "cell_type": "code",
   "execution_count": 127,
   "id": "2a249d47",
   "metadata": {},
   "outputs": [
    {
     "data": {
      "text/plain": [
       "['-1000', ', 1000', '']"
      ]
     },
     "execution_count": 127,
     "metadata": {},
     "output_type": "execute_result"
    }
   ],
   "source": [
    "tomog.variables['vp'].valid_range.split('.f')"
   ]
  },
  {
   "cell_type": "code",
   "execution_count": 86,
   "id": "d6fa3f96",
   "metadata": {},
   "outputs": [
    {
     "name": "stderr",
     "output_type": "stream",
     "text": [
      "/Users/tzacks2/.conda/envs/DataViz/lib/python3.7/site-packages/ipykernel_launcher.py:1: UserWarning: invalid scale_factor or add_offset attribute, no unpacking done...\n",
      "  \"\"\"Entry point for launching an IPython kernel.\n"
     ]
    },
    {
     "ename": "ValueError",
     "evalue": "could not convert string to float: '-1000.f, 1000.f'",
     "output_type": "error",
     "traceback": [
      "\u001b[0;31m---------------------------------------------------------------------------\u001b[0m",
      "\u001b[0;31mValueError\u001b[0m                                Traceback (most recent call last)",
      "\u001b[0;32m/var/folders/5y/htsjngjd7nd_3ddqv2q24ynh0000gq/T/ipykernel_56733/1754670490.py\u001b[0m in \u001b[0;36m<module>\u001b[0;34m\u001b[0m\n\u001b[0;32m----> 1\u001b[0;31m \u001b[0mtomog\u001b[0m\u001b[0;34m.\u001b[0m\u001b[0mvariables\u001b[0m\u001b[0;34m[\u001b[0m\u001b[0;34m'vp'\u001b[0m\u001b[0;34m]\u001b[0m\u001b[0;34m[\u001b[0m\u001b[0;36m1\u001b[0m\u001b[0;34m]\u001b[0m\u001b[0;34m.\u001b[0m\u001b[0msplit\u001b[0m\u001b[0;34m(\u001b[0m\u001b[0;34m'.'\u001b[0m\u001b[0;34m)\u001b[0m\u001b[0;34m[\u001b[0m\u001b[0;34m:\u001b[0m\u001b[0;34m:\u001b[0m\u001b[0;36m2\u001b[0m\u001b[0;34m]\u001b[0m\u001b[0;34m\u001b[0m\u001b[0;34m\u001b[0m\u001b[0m\n\u001b[0m",
      "\u001b[0;32msrc/netCDF4/_netCDF4.pyx\u001b[0m in \u001b[0;36mnetCDF4._netCDF4.Variable.__getitem__\u001b[0;34m()\u001b[0m\n",
      "\u001b[0;32msrc/netCDF4/_netCDF4.pyx\u001b[0m in \u001b[0;36mnetCDF4._netCDF4.Variable._toma\u001b[0;34m()\u001b[0m\n",
      "\u001b[0;32msrc/netCDF4/_netCDF4.pyx\u001b[0m in \u001b[0;36mnetCDF4._netCDF4.Variable._check_safecast\u001b[0;34m()\u001b[0m\n",
      "\u001b[0;31mValueError\u001b[0m: could not convert string to float: '-1000.f, 1000.f'"
     ]
    }
   ],
   "source": [
    "tomog.variables['vp'][1].split('.')[::2]"
   ]
  },
  {
   "cell_type": "code",
   "execution_count": 110,
   "id": "453c4f4d",
   "metadata": {},
   "outputs": [],
   "source": [
    "a = ['-1000', 'f, 1000', 'f']"
   ]
  },
  {
   "cell_type": "code",
   "execution_count": 117,
   "id": "1c3e9790",
   "metadata": {},
   "outputs": [
    {
     "data": {
      "text/plain": [
       "['-1000', 'f, 1000']"
      ]
     },
     "execution_count": 117,
     "metadata": {},
     "output_type": "execute_result"
    }
   ],
   "source": [
    "a[0:2:1]"
   ]
  },
  {
   "cell_type": "code",
   "execution_count": 21,
   "id": "6d8ba1da",
   "metadata": {},
   "outputs": [
    {
     "ename": "ModuleNotFoundError",
     "evalue": "No module named 'tomo_function'",
     "output_type": "error",
     "traceback": [
      "\u001b[0;31m---------------------------------------------------------------------------\u001b[0m",
      "\u001b[0;31mModuleNotFoundError\u001b[0m                       Traceback (most recent call last)",
      "\u001b[0;32m/var/folders/5y/htsjngjd7nd_3ddqv2q24ynh0000gq/T/ipykernel_44541/903949691.py\u001b[0m in \u001b[0;36m<module>\u001b[0;34m\u001b[0m\n\u001b[1;32m      1\u001b[0m \u001b[0;32mimport\u001b[0m \u001b[0mmapio\u001b[0m\u001b[0;34m.\u001b[0m\u001b[0mgmt\u001b[0m \u001b[0;32mas\u001b[0m \u001b[0mgmt\u001b[0m\u001b[0;34m\u001b[0m\u001b[0;34m\u001b[0m\u001b[0m\n\u001b[0;32m----> 2\u001b[0;31m \u001b[0;32mimport\u001b[0m \u001b[0mtomo_function\u001b[0m\u001b[0;34m.\u001b[0m\u001b[0mpy\u001b[0m\u001b[0;34m\u001b[0m\u001b[0;34m\u001b[0m\u001b[0m\n\u001b[0m",
      "\u001b[0;31mModuleNotFoundError\u001b[0m: No module named 'tomo_function'"
     ]
    }
   ],
   "source": []
  },
  {
   "cell_type": "code",
   "execution_count": 12,
   "id": "93dd6fbe",
   "metadata": {},
   "outputs": [
    {
     "name": "stdout",
     "output_type": "stream",
     "text": [
      "Loading input files...\n"
     ]
    }
   ],
   "source": []
  },
  {
   "cell_type": "code",
   "execution_count": null,
   "id": "77433278",
   "metadata": {},
   "outputs": [],
   "source": []
  },
  {
   "cell_type": "code",
   "execution_count": null,
   "id": "4daf6d58",
   "metadata": {},
   "outputs": [],
   "source": []
  }
 ],
 "metadata": {
  "kernelspec": {
   "display_name": "Python 3 (ipykernel)",
   "language": "python",
   "name": "python3"
  },
  "language_info": {
   "codemirror_mode": {
    "name": "ipython",
    "version": 3
   },
   "file_extension": ".py",
   "mimetype": "text/x-python",
   "name": "python",
   "nbconvert_exporter": "python",
   "pygments_lexer": "ipython3",
   "version": "3.7.12"
  }
 },
 "nbformat": 4,
 "nbformat_minor": 5
}
