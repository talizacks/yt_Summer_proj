{
 "cells": [
  {
   "cell_type": "code",
   "execution_count": 1,
   "id": "0365ec81",
   "metadata": {},
   "outputs": [
    {
     "name": "stdout",
     "output_type": "stream",
     "text": [
      "\n",
      "## You are using the Python ARM Radar Toolkit (Py-ART), an open source\n",
      "## library for working with weather radar data. Py-ART is partly\n",
      "## supported by the U.S. Department of Energy as part of the Atmospheric\n",
      "## Radiation Measurement (ARM) Climate Research Facility, an Office of\n",
      "## Science user facility.\n",
      "##\n",
      "## If you use this software to prepare a publication, please cite:\n",
      "##\n",
      "##     JJ Helmus and SM Collis, JORS 2016, doi: 10.5334/jors.119\n",
      "\n"
     ]
    }
   ],
   "source": [
    "import yt\n",
    "import netCDF4 as nc\n",
    "import pyart\n",
    "import matplotlib.pyplot as plt\n",
    "import pygrib\n",
    "import pandas as pd\n",
    "import xarray as xr\n",
    "import cfgrib\n",
    "import ipywidgets\n",
    "import numpy as np"
   ]
  },
  {
   "cell_type": "code",
   "execution_count": 2,
   "id": "92fd810a",
   "metadata": {},
   "outputs": [],
   "source": [
    "tomog = nc.Dataset('data/Tomography_Models/DNA13_percent.nc')"
   ]
  },
  {
   "cell_type": "code",
   "execution_count": 3,
   "id": "0dbf39cc",
   "metadata": {},
   "outputs": [
    {
     "data": {
      "text/plain": [
       "<class 'netCDF4._netCDF4.Dataset'>\n",
       "root group (NETCDF3_CLASSIC data model, file format NETCDF3):\n",
       "    title: Finite-frequency P, SH, and SV body wave models for the continuous US. Joint body-wave and surface-wave model for the western US.\n",
       "    id: DNA13\n",
       "    summary: DNA13 is a 3-D model of shear and compressional velocity perturbations for the continuous US.\n",
       "\n",
       "    keywords: seismic tomography, continuous US, shear velocity, compressional velocity, joint inversion\n",
       "    Conventions: CF-1.0\n",
       "    Metadata_Conventions: Unidata Dataset Discovery v1.0\n",
       "    creator_name: IRIS EMC\n",
       "    creator_url: http://ds.iris.edu/ds/products/emc/\n",
       "    creator_email: products@iris.edu\n",
       "    institution: IRIS DMC\n",
       "    acknowledgment: Model was created by Robert W. Porritt and Richard M. Allen, \n",
       "Seismological Laboratory. Dept. Earth and Planetary Science. UC Berkeley\n",
       "    reference: Porritt, Allen, and Pollitz (2014)\n",
       "    references: http://seismo.berkeley.edu/~rallen/pub/2014porritt/data.php\n",
       "    history: 2014-01-15 model converted to netCDF by IRIS EMC \n",
       "2016-04-13 reorganized the parameters\n",
       "    geospatial_lat_min: 25.00\n",
       "    geospatial_lat_max: 52.00\n",
       "    geospatial_lat_units: degrees_north\n",
       "    geospatial_lat_resolution: 0.5\n",
       "    geospatial_lon_min: 234.00\n",
       "    geospatial_lon_max: 288.00\n",
       "    geospatial_lon_units: degrees_east\n",
       "    geospatial_lon_resolution: 0.5\n",
       "    geospatial_vertical_min: 0\n",
       "    geospatial_vertical_max: 1280\n",
       "    geospatial_vertical_units: km\n",
       "    geospatial_vertical_positive: down\n",
       "    dimensions(sizes): depth(129), latitude(55), longitude(109)\n",
       "    variables(dimensions): float32 depth(depth), float32 latitude(latitude), float32 longitude(longitude), float32 vp(depth, latitude, longitude), float32 vsh(depth, latitude, longitude), float32 vsv(depth, latitude, longitude), float32 vsvj(depth, latitude, longitude)\n",
       "    groups: "
      ]
     },
     "execution_count": 3,
     "metadata": {},
     "output_type": "execute_result"
    }
   ],
   "source": [
    "tomog"
   ]
  },
  {
   "cell_type": "code",
   "execution_count": 4,
   "id": "a3febc3a",
   "metadata": {},
   "outputs": [
    {
     "data": {
      "text/plain": [
       "{'depth': <class 'netCDF4._netCDF4.Variable'>\n",
       " float32 depth(depth)\n",
       "     long_name: depth below earth surface\n",
       "     units: kilometer\n",
       "     positive: down\n",
       " unlimited dimensions: \n",
       " current shape = (129,)\n",
       " filling on, default _FillValue of 9.969209968386869e+36 used,\n",
       " 'latitude': <class 'netCDF4._netCDF4.Variable'>\n",
       " float32 latitude(latitude)\n",
       "     long_name: Latitude; positive north\n",
       "     units: degrees_north\n",
       "     standard_name: latitude\n",
       " unlimited dimensions: \n",
       " current shape = (55,)\n",
       " filling on, default _FillValue of 9.969209968386869e+36 used,\n",
       " 'longitude': <class 'netCDF4._netCDF4.Variable'>\n",
       " float32 longitude(longitude)\n",
       "     long_name: Longitude; positive east\n",
       "     units: degrees_east\n",
       "     standard_name: longitude\n",
       " unlimited dimensions: \n",
       " current shape = (109,)\n",
       " filling on, default _FillValue of 9.969209968386869e+36 used,\n",
       " 'vp': <class 'netCDF4._netCDF4.Variable'>\n",
       " float32 vp(depth, latitude, longitude)\n",
       "     long_name: P-velocity in %dVp\n",
       "     valid_range: [-1000.  1000.]\n",
       "     missing_value: 99999.0\n",
       "     _FillValue: 99999.0\n",
       "     add_offset:   0.f\n",
       "     scale_factor:   2.f\n",
       " unlimited dimensions: \n",
       " current shape = (129, 55, 109)\n",
       " filling on,\n",
       " 'vsh': <class 'netCDF4._netCDF4.Variable'>\n",
       " float32 vsh(depth, latitude, longitude)\n",
       "     long_name: SH-velocity in %dVs\n",
       "     valid_range: [-1000.  1000.]\n",
       "     missing_value: 99999.0\n",
       "     _FillValue: 99999.0\n",
       "     add_offset:   0.f\n",
       "     scale_factor:   2.f\n",
       " unlimited dimensions: \n",
       " current shape = (129, 55, 109)\n",
       " filling on,\n",
       " 'vsv': <class 'netCDF4._netCDF4.Variable'>\n",
       " float32 vsv(depth, latitude, longitude)\n",
       "     long_name: SV-velocity in %dVs\n",
       "     valid_range: [-1000.  1000.]\n",
       "     missing_value: 99999.0\n",
       "     _FillValue: 99999.0\n",
       "     add_offset:   0.f\n",
       "     scale_factor:   2.f\n",
       " unlimited dimensions: \n",
       " current shape = (129, 55, 109)\n",
       " filling on,\n",
       " 'vsvj': <class 'netCDF4._netCDF4.Variable'>\n",
       " float32 vsvj(depth, latitude, longitude)\n",
       "     long_name: SV-velocity in %dVs\n",
       "     missing_value: 99999.0\n",
       "     _FillValue: 99999.0\n",
       "     add_offset:   0.f\n",
       "     scale_factor:   2.f\n",
       "     valid_range: [-1000.  1000.]\n",
       " unlimited dimensions: \n",
       " current shape = (129, 55, 109)\n",
       " filling on}"
      ]
     },
     "execution_count": 4,
     "metadata": {},
     "output_type": "execute_result"
    }
   ],
   "source": [
    "tomog.variables"
   ]
  },
  {
   "cell_type": "code",
   "execution_count": 5,
   "id": "fa20fb22",
   "metadata": {},
   "outputs": [
    {
     "name": "stderr",
     "output_type": "stream",
     "text": [
      "/Users/tzacks2/.conda/envs/DataViz/lib/python3.7/site-packages/ipykernel_launcher.py:1: UserWarning: invalid scale_factor or add_offset attribute, no unpacking done...\n",
      "  \"\"\"Entry point for launching an IPython kernel.\n"
     ]
    },
    {
     "data": {
      "text/plain": [
       "masked_array(\n",
       "  data=[[[0.0, 0.0, 0.0, ..., --, --, --],\n",
       "         [0.0, 0.0, 0.0, ..., --, --, --],\n",
       "         [0.0, 0.0, 0.0, ..., --, --, --],\n",
       "         ...,\n",
       "         [0.0, 0.0, 0.0, ..., --, --, --],\n",
       "         [0.0, 0.0, 0.0, ..., --, --, --],\n",
       "         [0.0, 0.0, 0.0, ..., --, --, --]],\n",
       "\n",
       "        [[0.0, 0.0, 0.0, ..., --, --, --],\n",
       "         [0.0, 0.0, 0.0, ..., --, --, --],\n",
       "         [0.0, 0.0, 0.0, ..., --, --, --],\n",
       "         ...,\n",
       "         [-0.0010000000474974513, -0.0010000000474974513,\n",
       "          -0.003000000026077032, ..., --, --, --],\n",
       "         [-0.003000000026077032, -0.004999999888241291,\n",
       "          -0.004999999888241291, ..., --, --, --],\n",
       "         [-0.0020000000949949026, -0.0010000000474974513, 0.0, ..., --,\n",
       "          --, --]],\n",
       "\n",
       "        [[0.0, 0.0, 0.0, ..., --, --, --],\n",
       "         [0.0, 0.0, 0.0, ..., --, --, --],\n",
       "         [0.0, 0.0, 0.0, ..., --, --, --],\n",
       "         ...,\n",
       "         [0.010999999940395355, 0.013000000268220901,\n",
       "          0.014000000432133675, ..., --, --, --],\n",
       "         [-0.0020000000949949026, -0.0010000000474974513, 0.0, ..., --,\n",
       "          --, --],\n",
       "         [-0.007000000216066837, -0.004000000189989805,\n",
       "          -0.0010000000474974513, ..., --, --, --]],\n",
       "\n",
       "        ...,\n",
       "\n",
       "        [[0.1340000033378601, 0.1379999965429306, 0.12399999797344208,\n",
       "          ..., --, --, --],\n",
       "         [0.08399999886751175, 0.11500000208616257, 0.11999999731779099,\n",
       "          ..., --, --, --],\n",
       "         [0.04500000178813934, 0.08699999749660492, 0.10400000214576721,\n",
       "          ..., --, --, --],\n",
       "         ...,\n",
       "         [-0.6110000014305115, -0.5989999771118164, -0.5770000219345093,\n",
       "          ..., --, --, --],\n",
       "         [-0.5419999957084656, -0.5260000228881836, -0.5099999904632568,\n",
       "          ..., --, --, --],\n",
       "         [-0.5099999904632568, -0.48899999260902405,\n",
       "          -0.46799999475479126, ..., --, --, --]],\n",
       "\n",
       "        [[0.1340000033378601, 0.13500000536441803, 0.11800000071525574,\n",
       "          ..., --, --, --],\n",
       "         [0.0860000029206276, 0.11500000208616257, 0.11400000005960464,\n",
       "          ..., --, --, --],\n",
       "         [0.05000000074505806, 0.08900000154972076, 0.09799999743700027,\n",
       "          ..., --, --, --],\n",
       "         ...,\n",
       "         [-0.5609999895095825, -0.550000011920929, -0.5249999761581421,\n",
       "          ..., --, --, --],\n",
       "         [-0.4959999918937683, -0.47999998927116394, -0.460999995470047,\n",
       "          ..., --, --, --],\n",
       "         [-0.4699999988079071, -0.4480000138282776, -0.4259999990463257,\n",
       "          ..., --, --, --]],\n",
       "\n",
       "        [[0.07199999690055847, 0.07100000232458115, 0.05999999865889549,\n",
       "          ..., --, --, --],\n",
       "         [0.04800000041723251, 0.061000000685453415,\n",
       "          0.057999998331069946, ..., --, --, --],\n",
       "         [0.03099999949336052, 0.04899999871850014,\n",
       "          0.050999999046325684, ..., --, --, --],\n",
       "         ...,\n",
       "         [-0.2840000092983246, -0.27900001406669617,\n",
       "          -0.26499998569488525, ..., --, --, --],\n",
       "         [-0.25099998712539673, -0.24199999868869781,\n",
       "          -0.23199999332427979, ..., --, --, --],\n",
       "         [-0.2370000034570694, -0.22599999606609344,\n",
       "          -0.21400000154972076, ..., --, --, --]]],\n",
       "  mask=[[[False, False, False, ...,  True,  True,  True],\n",
       "         [False, False, False, ...,  True,  True,  True],\n",
       "         [False, False, False, ...,  True,  True,  True],\n",
       "         ...,\n",
       "         [False, False, False, ...,  True,  True,  True],\n",
       "         [False, False, False, ...,  True,  True,  True],\n",
       "         [False, False, False, ...,  True,  True,  True]],\n",
       "\n",
       "        [[False, False, False, ...,  True,  True,  True],\n",
       "         [False, False, False, ...,  True,  True,  True],\n",
       "         [False, False, False, ...,  True,  True,  True],\n",
       "         ...,\n",
       "         [False, False, False, ...,  True,  True,  True],\n",
       "         [False, False, False, ...,  True,  True,  True],\n",
       "         [False, False, False, ...,  True,  True,  True]],\n",
       "\n",
       "        [[False, False, False, ...,  True,  True,  True],\n",
       "         [False, False, False, ...,  True,  True,  True],\n",
       "         [False, False, False, ...,  True,  True,  True],\n",
       "         ...,\n",
       "         [False, False, False, ...,  True,  True,  True],\n",
       "         [False, False, False, ...,  True,  True,  True],\n",
       "         [False, False, False, ...,  True,  True,  True]],\n",
       "\n",
       "        ...,\n",
       "\n",
       "        [[False, False, False, ...,  True,  True,  True],\n",
       "         [False, False, False, ...,  True,  True,  True],\n",
       "         [False, False, False, ...,  True,  True,  True],\n",
       "         ...,\n",
       "         [False, False, False, ...,  True,  True,  True],\n",
       "         [False, False, False, ...,  True,  True,  True],\n",
       "         [False, False, False, ...,  True,  True,  True]],\n",
       "\n",
       "        [[False, False, False, ...,  True,  True,  True],\n",
       "         [False, False, False, ...,  True,  True,  True],\n",
       "         [False, False, False, ...,  True,  True,  True],\n",
       "         ...,\n",
       "         [False, False, False, ...,  True,  True,  True],\n",
       "         [False, False, False, ...,  True,  True,  True],\n",
       "         [False, False, False, ...,  True,  True,  True]],\n",
       "\n",
       "        [[False, False, False, ...,  True,  True,  True],\n",
       "         [False, False, False, ...,  True,  True,  True],\n",
       "         [False, False, False, ...,  True,  True,  True],\n",
       "         ...,\n",
       "         [False, False, False, ...,  True,  True,  True],\n",
       "         [False, False, False, ...,  True,  True,  True],\n",
       "         [False, False, False, ...,  True,  True,  True]]],\n",
       "  fill_value=99999.0,\n",
       "  dtype=float32)"
      ]
     },
     "execution_count": 5,
     "metadata": {},
     "output_type": "execute_result"
    }
   ],
   "source": [
    "tomog.variables['vsvj'][:]"
   ]
  },
  {
   "cell_type": "code",
   "execution_count": 6,
   "id": "f30175fb",
   "metadata": {},
   "outputs": [
    {
     "name": "stderr",
     "output_type": "stream",
     "text": [
      "/Users/tzacks2/.conda/envs/DataViz/lib/python3.7/site-packages/ipykernel_launcher.py:1: UserWarning: invalid scale_factor or add_offset attribute, no unpacking done...\n",
      "  \"\"\"Entry point for launching an IPython kernel.\n",
      "/Users/tzacks2/.conda/envs/DataViz/lib/python3.7/site-packages/ipykernel_launcher.py:1: UserWarning: invalid scale_factor or add_offset attribute, no unpacking done...\n",
      "  \"\"\"Entry point for launching an IPython kernel.\n",
      "/Users/tzacks2/.conda/envs/DataViz/lib/python3.7/site-packages/ipykernel_launcher.py:1: UserWarning: invalid scale_factor or add_offset attribute, no unpacking done...\n",
      "  \"\"\"Entry point for launching an IPython kernel.\n",
      "/Users/tzacks2/.conda/envs/DataViz/lib/python3.7/site-packages/ipykernel_launcher.py:1: UserWarning: invalid scale_factor or add_offset attribute, no unpacking done...\n",
      "  \"\"\"Entry point for launching an IPython kernel.\n",
      "/Users/tzacks2/.conda/envs/DataViz/lib/python3.7/site-packages/ipykernel_launcher.py:1: UserWarning: invalid scale_factor or add_offset attribute, no unpacking done...\n",
      "  \"\"\"Entry point for launching an IPython kernel.\n",
      "/Users/tzacks2/.conda/envs/DataViz/lib/python3.7/site-packages/ipykernel_launcher.py:1: UserWarning: invalid scale_factor or add_offset attribute, no unpacking done...\n",
      "  \"\"\"Entry point for launching an IPython kernel.\n",
      "/Users/tzacks2/.conda/envs/DataViz/lib/python3.7/site-packages/ipykernel_launcher.py:1: UserWarning: invalid scale_factor or add_offset attribute, no unpacking done...\n",
      "  \"\"\"Entry point for launching an IPython kernel.\n",
      "/Users/tzacks2/.conda/envs/DataViz/lib/python3.7/site-packages/ipykernel_launcher.py:1: UserWarning: invalid scale_factor or add_offset attribute, no unpacking done...\n",
      "  \"\"\"Entry point for launching an IPython kernel.\n",
      "/Users/tzacks2/.conda/envs/DataViz/lib/python3.7/site-packages/ipykernel_launcher.py:1: UserWarning: invalid scale_factor or add_offset attribute, no unpacking done...\n",
      "  \"\"\"Entry point for launching an IPython kernel.\n",
      "/Users/tzacks2/.conda/envs/DataViz/lib/python3.7/site-packages/ipykernel_launcher.py:1: UserWarning: invalid scale_factor or add_offset attribute, no unpacking done...\n",
      "  \"\"\"Entry point for launching an IPython kernel.\n",
      "/Users/tzacks2/.conda/envs/DataViz/lib/python3.7/site-packages/ipykernel_launcher.py:1: UserWarning: invalid scale_factor or add_offset attribute, no unpacking done...\n",
      "  \"\"\"Entry point for launching an IPython kernel.\n",
      "/Users/tzacks2/.conda/envs/DataViz/lib/python3.7/site-packages/ipykernel_launcher.py:1: UserWarning: invalid scale_factor or add_offset attribute, no unpacking done...\n",
      "  \"\"\"Entry point for launching an IPython kernel.\n",
      "/Users/tzacks2/.conda/envs/DataViz/lib/python3.7/site-packages/ipykernel_launcher.py:1: UserWarning: invalid scale_factor or add_offset attribute, no unpacking done...\n",
      "  \"\"\"Entry point for launching an IPython kernel.\n",
      "/Users/tzacks2/.conda/envs/DataViz/lib/python3.7/site-packages/ipykernel_launcher.py:1: UserWarning: invalid scale_factor or add_offset attribute, no unpacking done...\n",
      "  \"\"\"Entry point for launching an IPython kernel.\n",
      "/Users/tzacks2/.conda/envs/DataViz/lib/python3.7/site-packages/ipykernel_launcher.py:1: UserWarning: invalid scale_factor or add_offset attribute, no unpacking done...\n",
      "  \"\"\"Entry point for launching an IPython kernel.\n",
      "/Users/tzacks2/.conda/envs/DataViz/lib/python3.7/site-packages/ipykernel_launcher.py:1: UserWarning: invalid scale_factor or add_offset attribute, no unpacking done...\n",
      "  \"\"\"Entry point for launching an IPython kernel.\n",
      "/Users/tzacks2/.conda/envs/DataViz/lib/python3.7/site-packages/ipykernel_launcher.py:1: UserWarning: invalid scale_factor or add_offset attribute, no unpacking done...\n",
      "  \"\"\"Entry point for launching an IPython kernel.\n",
      "/Users/tzacks2/.conda/envs/DataViz/lib/python3.7/site-packages/ipykernel_launcher.py:1: UserWarning: invalid scale_factor or add_offset attribute, no unpacking done...\n",
      "  \"\"\"Entry point for launching an IPython kernel.\n",
      "/Users/tzacks2/.conda/envs/DataViz/lib/python3.7/site-packages/ipykernel_launcher.py:1: UserWarning: invalid scale_factor or add_offset attribute, no unpacking done...\n",
      "  \"\"\"Entry point for launching an IPython kernel.\n",
      "/Users/tzacks2/.conda/envs/DataViz/lib/python3.7/site-packages/ipykernel_launcher.py:1: UserWarning: invalid scale_factor or add_offset attribute, no unpacking done...\n",
      "  \"\"\"Entry point for launching an IPython kernel.\n",
      "/Users/tzacks2/.conda/envs/DataViz/lib/python3.7/site-packages/ipykernel_launcher.py:1: UserWarning: invalid scale_factor or add_offset attribute, no unpacking done...\n",
      "  \"\"\"Entry point for launching an IPython kernel.\n",
      "/Users/tzacks2/.conda/envs/DataViz/lib/python3.7/site-packages/ipykernel_launcher.py:1: UserWarning: invalid scale_factor or add_offset attribute, no unpacking done...\n",
      "  \"\"\"Entry point for launching an IPython kernel.\n",
      "/Users/tzacks2/.conda/envs/DataViz/lib/python3.7/site-packages/ipykernel_launcher.py:1: UserWarning: invalid scale_factor or add_offset attribute, no unpacking done...\n",
      "  \"\"\"Entry point for launching an IPython kernel.\n",
      "/Users/tzacks2/.conda/envs/DataViz/lib/python3.7/site-packages/ipykernel_launcher.py:1: UserWarning: invalid scale_factor or add_offset attribute, no unpacking done...\n",
      "  \"\"\"Entry point for launching an IPython kernel.\n",
      "/Users/tzacks2/.conda/envs/DataViz/lib/python3.7/site-packages/ipykernel_launcher.py:1: UserWarning: invalid scale_factor or add_offset attribute, no unpacking done...\n",
      "  \"\"\"Entry point for launching an IPython kernel.\n",
      "/Users/tzacks2/.conda/envs/DataViz/lib/python3.7/site-packages/ipykernel_launcher.py:1: UserWarning: invalid scale_factor or add_offset attribute, no unpacking done...\n",
      "  \"\"\"Entry point for launching an IPython kernel.\n",
      "/Users/tzacks2/.conda/envs/DataViz/lib/python3.7/site-packages/ipykernel_launcher.py:1: UserWarning: invalid scale_factor or add_offset attribute, no unpacking done...\n",
      "  \"\"\"Entry point for launching an IPython kernel.\n",
      "/Users/tzacks2/.conda/envs/DataViz/lib/python3.7/site-packages/ipykernel_launcher.py:1: UserWarning: invalid scale_factor or add_offset attribute, no unpacking done...\n",
      "  \"\"\"Entry point for launching an IPython kernel.\n",
      "/Users/tzacks2/.conda/envs/DataViz/lib/python3.7/site-packages/ipykernel_launcher.py:1: UserWarning: invalid scale_factor or add_offset attribute, no unpacking done...\n",
      "  \"\"\"Entry point for launching an IPython kernel.\n",
      "/Users/tzacks2/.conda/envs/DataViz/lib/python3.7/site-packages/ipykernel_launcher.py:1: UserWarning: invalid scale_factor or add_offset attribute, no unpacking done...\n",
      "  \"\"\"Entry point for launching an IPython kernel.\n",
      "/Users/tzacks2/.conda/envs/DataViz/lib/python3.7/site-packages/ipykernel_launcher.py:1: UserWarning: invalid scale_factor or add_offset attribute, no unpacking done...\n",
      "  \"\"\"Entry point for launching an IPython kernel.\n",
      "/Users/tzacks2/.conda/envs/DataViz/lib/python3.7/site-packages/ipykernel_launcher.py:1: UserWarning: invalid scale_factor or add_offset attribute, no unpacking done...\n",
      "  \"\"\"Entry point for launching an IPython kernel.\n",
      "/Users/tzacks2/.conda/envs/DataViz/lib/python3.7/site-packages/ipykernel_launcher.py:1: UserWarning: invalid scale_factor or add_offset attribute, no unpacking done...\n",
      "  \"\"\"Entry point for launching an IPython kernel.\n",
      "/Users/tzacks2/.conda/envs/DataViz/lib/python3.7/site-packages/ipykernel_launcher.py:1: UserWarning: invalid scale_factor or add_offset attribute, no unpacking done...\n",
      "  \"\"\"Entry point for launching an IPython kernel.\n",
      "/Users/tzacks2/.conda/envs/DataViz/lib/python3.7/site-packages/ipykernel_launcher.py:1: UserWarning: invalid scale_factor or add_offset attribute, no unpacking done...\n",
      "  \"\"\"Entry point for launching an IPython kernel.\n",
      "/Users/tzacks2/.conda/envs/DataViz/lib/python3.7/site-packages/ipykernel_launcher.py:1: UserWarning: invalid scale_factor or add_offset attribute, no unpacking done...\n",
      "  \"\"\"Entry point for launching an IPython kernel.\n",
      "/Users/tzacks2/.conda/envs/DataViz/lib/python3.7/site-packages/ipykernel_launcher.py:1: UserWarning: invalid scale_factor or add_offset attribute, no unpacking done...\n",
      "  \"\"\"Entry point for launching an IPython kernel.\n",
      "/Users/tzacks2/.conda/envs/DataViz/lib/python3.7/site-packages/ipykernel_launcher.py:1: UserWarning: invalid scale_factor or add_offset attribute, no unpacking done...\n",
      "  \"\"\"Entry point for launching an IPython kernel.\n",
      "/Users/tzacks2/.conda/envs/DataViz/lib/python3.7/site-packages/ipykernel_launcher.py:1: UserWarning: invalid scale_factor or add_offset attribute, no unpacking done...\n",
      "  \"\"\"Entry point for launching an IPython kernel.\n"
     ]
    },
    {
     "name": "stderr",
     "output_type": "stream",
     "text": [
      "/Users/tzacks2/.conda/envs/DataViz/lib/python3.7/site-packages/ipykernel_launcher.py:1: UserWarning: invalid scale_factor or add_offset attribute, no unpacking done...\n",
      "  \"\"\"Entry point for launching an IPython kernel.\n",
      "/Users/tzacks2/.conda/envs/DataViz/lib/python3.7/site-packages/ipykernel_launcher.py:1: UserWarning: invalid scale_factor or add_offset attribute, no unpacking done...\n",
      "  \"\"\"Entry point for launching an IPython kernel.\n",
      "/Users/tzacks2/.conda/envs/DataViz/lib/python3.7/site-packages/ipykernel_launcher.py:1: UserWarning: invalid scale_factor or add_offset attribute, no unpacking done...\n",
      "  \"\"\"Entry point for launching an IPython kernel.\n",
      "/Users/tzacks2/.conda/envs/DataViz/lib/python3.7/site-packages/ipykernel_launcher.py:1: UserWarning: invalid scale_factor or add_offset attribute, no unpacking done...\n",
      "  \"\"\"Entry point for launching an IPython kernel.\n",
      "/Users/tzacks2/.conda/envs/DataViz/lib/python3.7/site-packages/ipykernel_launcher.py:1: UserWarning: invalid scale_factor or add_offset attribute, no unpacking done...\n",
      "  \"\"\"Entry point for launching an IPython kernel.\n",
      "/Users/tzacks2/.conda/envs/DataViz/lib/python3.7/site-packages/ipykernel_launcher.py:1: UserWarning: invalid scale_factor or add_offset attribute, no unpacking done...\n",
      "  \"\"\"Entry point for launching an IPython kernel.\n",
      "/Users/tzacks2/.conda/envs/DataViz/lib/python3.7/site-packages/ipykernel_launcher.py:1: UserWarning: invalid scale_factor or add_offset attribute, no unpacking done...\n",
      "  \"\"\"Entry point for launching an IPython kernel.\n",
      "/Users/tzacks2/.conda/envs/DataViz/lib/python3.7/site-packages/ipykernel_launcher.py:1: UserWarning: invalid scale_factor or add_offset attribute, no unpacking done...\n",
      "  \"\"\"Entry point for launching an IPython kernel.\n",
      "/Users/tzacks2/.conda/envs/DataViz/lib/python3.7/site-packages/ipykernel_launcher.py:1: UserWarning: invalid scale_factor or add_offset attribute, no unpacking done...\n",
      "  \"\"\"Entry point for launching an IPython kernel.\n",
      "/Users/tzacks2/.conda/envs/DataViz/lib/python3.7/site-packages/ipykernel_launcher.py:1: UserWarning: invalid scale_factor or add_offset attribute, no unpacking done...\n",
      "  \"\"\"Entry point for launching an IPython kernel.\n",
      "/Users/tzacks2/.conda/envs/DataViz/lib/python3.7/site-packages/ipykernel_launcher.py:1: UserWarning: invalid scale_factor or add_offset attribute, no unpacking done...\n",
      "  \"\"\"Entry point for launching an IPython kernel.\n",
      "/Users/tzacks2/.conda/envs/DataViz/lib/python3.7/site-packages/ipykernel_launcher.py:1: UserWarning: invalid scale_factor or add_offset attribute, no unpacking done...\n",
      "  \"\"\"Entry point for launching an IPython kernel.\n",
      "/Users/tzacks2/.conda/envs/DataViz/lib/python3.7/site-packages/ipykernel_launcher.py:1: UserWarning: invalid scale_factor or add_offset attribute, no unpacking done...\n",
      "  \"\"\"Entry point for launching an IPython kernel.\n",
      "/Users/tzacks2/.conda/envs/DataViz/lib/python3.7/site-packages/ipykernel_launcher.py:1: UserWarning: invalid scale_factor or add_offset attribute, no unpacking done...\n",
      "  \"\"\"Entry point for launching an IPython kernel.\n",
      "/Users/tzacks2/.conda/envs/DataViz/lib/python3.7/site-packages/ipykernel_launcher.py:1: UserWarning: invalid scale_factor or add_offset attribute, no unpacking done...\n",
      "  \"\"\"Entry point for launching an IPython kernel.\n",
      "/Users/tzacks2/.conda/envs/DataViz/lib/python3.7/site-packages/ipykernel_launcher.py:1: UserWarning: invalid scale_factor or add_offset attribute, no unpacking done...\n",
      "  \"\"\"Entry point for launching an IPython kernel.\n",
      "/Users/tzacks2/.conda/envs/DataViz/lib/python3.7/site-packages/ipykernel_launcher.py:1: UserWarning: invalid scale_factor or add_offset attribute, no unpacking done...\n",
      "  \"\"\"Entry point for launching an IPython kernel.\n",
      "/Users/tzacks2/.conda/envs/DataViz/lib/python3.7/site-packages/ipykernel_launcher.py:1: UserWarning: invalid scale_factor or add_offset attribute, no unpacking done...\n",
      "  \"\"\"Entry point for launching an IPython kernel.\n",
      "/Users/tzacks2/.conda/envs/DataViz/lib/python3.7/site-packages/ipykernel_launcher.py:1: UserWarning: invalid scale_factor or add_offset attribute, no unpacking done...\n",
      "  \"\"\"Entry point for launching an IPython kernel.\n",
      "/Users/tzacks2/.conda/envs/DataViz/lib/python3.7/site-packages/ipykernel_launcher.py:1: UserWarning: invalid scale_factor or add_offset attribute, no unpacking done...\n",
      "  \"\"\"Entry point for launching an IPython kernel.\n",
      "/Users/tzacks2/.conda/envs/DataViz/lib/python3.7/site-packages/ipykernel_launcher.py:1: UserWarning: invalid scale_factor or add_offset attribute, no unpacking done...\n",
      "  \"\"\"Entry point for launching an IPython kernel.\n",
      "/Users/tzacks2/.conda/envs/DataViz/lib/python3.7/site-packages/ipykernel_launcher.py:1: UserWarning: invalid scale_factor or add_offset attribute, no unpacking done...\n",
      "  \"\"\"Entry point for launching an IPython kernel.\n",
      "/Users/tzacks2/.conda/envs/DataViz/lib/python3.7/site-packages/ipykernel_launcher.py:1: UserWarning: invalid scale_factor or add_offset attribute, no unpacking done...\n",
      "  \"\"\"Entry point for launching an IPython kernel.\n",
      "/Users/tzacks2/.conda/envs/DataViz/lib/python3.7/site-packages/ipykernel_launcher.py:1: UserWarning: invalid scale_factor or add_offset attribute, no unpacking done...\n",
      "  \"\"\"Entry point for launching an IPython kernel.\n",
      "/Users/tzacks2/.conda/envs/DataViz/lib/python3.7/site-packages/ipykernel_launcher.py:1: UserWarning: invalid scale_factor or add_offset attribute, no unpacking done...\n",
      "  \"\"\"Entry point for launching an IPython kernel.\n",
      "/Users/tzacks2/.conda/envs/DataViz/lib/python3.7/site-packages/ipykernel_launcher.py:1: UserWarning: invalid scale_factor or add_offset attribute, no unpacking done...\n",
      "  \"\"\"Entry point for launching an IPython kernel.\n",
      "/Users/tzacks2/.conda/envs/DataViz/lib/python3.7/site-packages/ipykernel_launcher.py:1: UserWarning: invalid scale_factor or add_offset attribute, no unpacking done...\n",
      "  \"\"\"Entry point for launching an IPython kernel.\n",
      "/Users/tzacks2/.conda/envs/DataViz/lib/python3.7/site-packages/ipykernel_launcher.py:1: UserWarning: invalid scale_factor or add_offset attribute, no unpacking done...\n",
      "  \"\"\"Entry point for launching an IPython kernel.\n",
      "/Users/tzacks2/.conda/envs/DataViz/lib/python3.7/site-packages/ipykernel_launcher.py:1: UserWarning: invalid scale_factor or add_offset attribute, no unpacking done...\n",
      "  \"\"\"Entry point for launching an IPython kernel.\n",
      "/Users/tzacks2/.conda/envs/DataViz/lib/python3.7/site-packages/ipykernel_launcher.py:1: UserWarning: invalid scale_factor or add_offset attribute, no unpacking done...\n",
      "  \"\"\"Entry point for launching an IPython kernel.\n",
      "/Users/tzacks2/.conda/envs/DataViz/lib/python3.7/site-packages/ipykernel_launcher.py:1: UserWarning: invalid scale_factor or add_offset attribute, no unpacking done...\n",
      "  \"\"\"Entry point for launching an IPython kernel.\n",
      "/Users/tzacks2/.conda/envs/DataViz/lib/python3.7/site-packages/ipykernel_launcher.py:1: UserWarning: invalid scale_factor or add_offset attribute, no unpacking done...\n",
      "  \"\"\"Entry point for launching an IPython kernel.\n",
      "/Users/tzacks2/.conda/envs/DataViz/lib/python3.7/site-packages/ipykernel_launcher.py:1: UserWarning: invalid scale_factor or add_offset attribute, no unpacking done...\n",
      "  \"\"\"Entry point for launching an IPython kernel.\n",
      "/Users/tzacks2/.conda/envs/DataViz/lib/python3.7/site-packages/ipykernel_launcher.py:1: UserWarning: invalid scale_factor or add_offset attribute, no unpacking done...\n",
      "  \"\"\"Entry point for launching an IPython kernel.\n",
      "/Users/tzacks2/.conda/envs/DataViz/lib/python3.7/site-packages/ipykernel_launcher.py:1: UserWarning: invalid scale_factor or add_offset attribute, no unpacking done...\n",
      "  \"\"\"Entry point for launching an IPython kernel.\n",
      "/Users/tzacks2/.conda/envs/DataViz/lib/python3.7/site-packages/ipykernel_launcher.py:1: UserWarning: invalid scale_factor or add_offset attribute, no unpacking done...\n",
      "  \"\"\"Entry point for launching an IPython kernel.\n",
      "/Users/tzacks2/.conda/envs/DataViz/lib/python3.7/site-packages/ipykernel_launcher.py:1: UserWarning: invalid scale_factor or add_offset attribute, no unpacking done...\n",
      "  \"\"\"Entry point for launching an IPython kernel.\n",
      "/Users/tzacks2/.conda/envs/DataViz/lib/python3.7/site-packages/ipykernel_launcher.py:1: UserWarning: invalid scale_factor or add_offset attribute, no unpacking done...\n",
      "  \"\"\"Entry point for launching an IPython kernel.\n",
      "/Users/tzacks2/.conda/envs/DataViz/lib/python3.7/site-packages/ipykernel_launcher.py:1: UserWarning: invalid scale_factor or add_offset attribute, no unpacking done...\n",
      "  \"\"\"Entry point for launching an IPython kernel.\n",
      "/Users/tzacks2/.conda/envs/DataViz/lib/python3.7/site-packages/ipykernel_launcher.py:1: UserWarning: invalid scale_factor or add_offset attribute, no unpacking done...\n",
      "  \"\"\"Entry point for launching an IPython kernel.\n",
      "/Users/tzacks2/.conda/envs/DataViz/lib/python3.7/site-packages/ipykernel_launcher.py:1: UserWarning: invalid scale_factor or add_offset attribute, no unpacking done...\n",
      "  \"\"\"Entry point for launching an IPython kernel.\n"
     ]
    },
    {
     "name": "stderr",
     "output_type": "stream",
     "text": [
      "/Users/tzacks2/.conda/envs/DataViz/lib/python3.7/site-packages/ipykernel_launcher.py:1: UserWarning: invalid scale_factor or add_offset attribute, no unpacking done...\n",
      "  \"\"\"Entry point for launching an IPython kernel.\n",
      "/Users/tzacks2/.conda/envs/DataViz/lib/python3.7/site-packages/ipykernel_launcher.py:1: UserWarning: invalid scale_factor or add_offset attribute, no unpacking done...\n",
      "  \"\"\"Entry point for launching an IPython kernel.\n",
      "/Users/tzacks2/.conda/envs/DataViz/lib/python3.7/site-packages/ipykernel_launcher.py:1: UserWarning: invalid scale_factor or add_offset attribute, no unpacking done...\n",
      "  \"\"\"Entry point for launching an IPython kernel.\n",
      "/Users/tzacks2/.conda/envs/DataViz/lib/python3.7/site-packages/ipykernel_launcher.py:1: UserWarning: invalid scale_factor or add_offset attribute, no unpacking done...\n",
      "  \"\"\"Entry point for launching an IPython kernel.\n",
      "/Users/tzacks2/.conda/envs/DataViz/lib/python3.7/site-packages/ipykernel_launcher.py:1: UserWarning: invalid scale_factor or add_offset attribute, no unpacking done...\n",
      "  \"\"\"Entry point for launching an IPython kernel.\n",
      "/Users/tzacks2/.conda/envs/DataViz/lib/python3.7/site-packages/ipykernel_launcher.py:1: UserWarning: invalid scale_factor or add_offset attribute, no unpacking done...\n",
      "  \"\"\"Entry point for launching an IPython kernel.\n",
      "/Users/tzacks2/.conda/envs/DataViz/lib/python3.7/site-packages/ipykernel_launcher.py:1: UserWarning: invalid scale_factor or add_offset attribute, no unpacking done...\n",
      "  \"\"\"Entry point for launching an IPython kernel.\n",
      "/Users/tzacks2/.conda/envs/DataViz/lib/python3.7/site-packages/ipykernel_launcher.py:1: UserWarning: invalid scale_factor or add_offset attribute, no unpacking done...\n",
      "  \"\"\"Entry point for launching an IPython kernel.\n",
      "/Users/tzacks2/.conda/envs/DataViz/lib/python3.7/site-packages/ipykernel_launcher.py:1: UserWarning: invalid scale_factor or add_offset attribute, no unpacking done...\n",
      "  \"\"\"Entry point for launching an IPython kernel.\n",
      "/Users/tzacks2/.conda/envs/DataViz/lib/python3.7/site-packages/ipykernel_launcher.py:1: UserWarning: invalid scale_factor or add_offset attribute, no unpacking done...\n",
      "  \"\"\"Entry point for launching an IPython kernel.\n",
      "/Users/tzacks2/.conda/envs/DataViz/lib/python3.7/site-packages/ipykernel_launcher.py:1: UserWarning: invalid scale_factor or add_offset attribute, no unpacking done...\n",
      "  \"\"\"Entry point for launching an IPython kernel.\n",
      "/Users/tzacks2/.conda/envs/DataViz/lib/python3.7/site-packages/ipykernel_launcher.py:1: UserWarning: invalid scale_factor or add_offset attribute, no unpacking done...\n",
      "  \"\"\"Entry point for launching an IPython kernel.\n",
      "/Users/tzacks2/.conda/envs/DataViz/lib/python3.7/site-packages/ipykernel_launcher.py:1: UserWarning: invalid scale_factor or add_offset attribute, no unpacking done...\n",
      "  \"\"\"Entry point for launching an IPython kernel.\n",
      "/Users/tzacks2/.conda/envs/DataViz/lib/python3.7/site-packages/ipykernel_launcher.py:1: UserWarning: invalid scale_factor or add_offset attribute, no unpacking done...\n",
      "  \"\"\"Entry point for launching an IPython kernel.\n",
      "/Users/tzacks2/.conda/envs/DataViz/lib/python3.7/site-packages/ipykernel_launcher.py:1: UserWarning: invalid scale_factor or add_offset attribute, no unpacking done...\n",
      "  \"\"\"Entry point for launching an IPython kernel.\n",
      "/Users/tzacks2/.conda/envs/DataViz/lib/python3.7/site-packages/ipykernel_launcher.py:1: UserWarning: invalid scale_factor or add_offset attribute, no unpacking done...\n",
      "  \"\"\"Entry point for launching an IPython kernel.\n",
      "/Users/tzacks2/.conda/envs/DataViz/lib/python3.7/site-packages/ipykernel_launcher.py:1: UserWarning: invalid scale_factor or add_offset attribute, no unpacking done...\n",
      "  \"\"\"Entry point for launching an IPython kernel.\n",
      "/Users/tzacks2/.conda/envs/DataViz/lib/python3.7/site-packages/ipykernel_launcher.py:1: UserWarning: invalid scale_factor or add_offset attribute, no unpacking done...\n",
      "  \"\"\"Entry point for launching an IPython kernel.\n",
      "/Users/tzacks2/.conda/envs/DataViz/lib/python3.7/site-packages/ipykernel_launcher.py:1: UserWarning: invalid scale_factor or add_offset attribute, no unpacking done...\n",
      "  \"\"\"Entry point for launching an IPython kernel.\n",
      "/Users/tzacks2/.conda/envs/DataViz/lib/python3.7/site-packages/ipykernel_launcher.py:1: UserWarning: invalid scale_factor or add_offset attribute, no unpacking done...\n",
      "  \"\"\"Entry point for launching an IPython kernel.\n",
      "/Users/tzacks2/.conda/envs/DataViz/lib/python3.7/site-packages/ipykernel_launcher.py:1: UserWarning: invalid scale_factor or add_offset attribute, no unpacking done...\n",
      "  \"\"\"Entry point for launching an IPython kernel.\n",
      "/Users/tzacks2/.conda/envs/DataViz/lib/python3.7/site-packages/ipykernel_launcher.py:1: UserWarning: invalid scale_factor or add_offset attribute, no unpacking done...\n",
      "  \"\"\"Entry point for launching an IPython kernel.\n",
      "/Users/tzacks2/.conda/envs/DataViz/lib/python3.7/site-packages/ipykernel_launcher.py:1: UserWarning: invalid scale_factor or add_offset attribute, no unpacking done...\n",
      "  \"\"\"Entry point for launching an IPython kernel.\n",
      "/Users/tzacks2/.conda/envs/DataViz/lib/python3.7/site-packages/ipykernel_launcher.py:1: UserWarning: invalid scale_factor or add_offset attribute, no unpacking done...\n",
      "  \"\"\"Entry point for launching an IPython kernel.\n",
      "/Users/tzacks2/.conda/envs/DataViz/lib/python3.7/site-packages/ipykernel_launcher.py:1: UserWarning: invalid scale_factor or add_offset attribute, no unpacking done...\n",
      "  \"\"\"Entry point for launching an IPython kernel.\n",
      "/Users/tzacks2/.conda/envs/DataViz/lib/python3.7/site-packages/ipykernel_launcher.py:1: UserWarning: invalid scale_factor or add_offset attribute, no unpacking done...\n",
      "  \"\"\"Entry point for launching an IPython kernel.\n",
      "/Users/tzacks2/.conda/envs/DataViz/lib/python3.7/site-packages/ipykernel_launcher.py:1: UserWarning: invalid scale_factor or add_offset attribute, no unpacking done...\n",
      "  \"\"\"Entry point for launching an IPython kernel.\n",
      "/Users/tzacks2/.conda/envs/DataViz/lib/python3.7/site-packages/ipykernel_launcher.py:1: UserWarning: invalid scale_factor or add_offset attribute, no unpacking done...\n",
      "  \"\"\"Entry point for launching an IPython kernel.\n",
      "/Users/tzacks2/.conda/envs/DataViz/lib/python3.7/site-packages/ipykernel_launcher.py:1: UserWarning: invalid scale_factor or add_offset attribute, no unpacking done...\n",
      "  \"\"\"Entry point for launching an IPython kernel.\n",
      "/Users/tzacks2/.conda/envs/DataViz/lib/python3.7/site-packages/ipykernel_launcher.py:1: UserWarning: invalid scale_factor or add_offset attribute, no unpacking done...\n",
      "  \"\"\"Entry point for launching an IPython kernel.\n",
      "/Users/tzacks2/.conda/envs/DataViz/lib/python3.7/site-packages/ipykernel_launcher.py:1: UserWarning: invalid scale_factor or add_offset attribute, no unpacking done...\n",
      "  \"\"\"Entry point for launching an IPython kernel.\n",
      "/Users/tzacks2/.conda/envs/DataViz/lib/python3.7/site-packages/ipykernel_launcher.py:1: UserWarning: invalid scale_factor or add_offset attribute, no unpacking done...\n",
      "  \"\"\"Entry point for launching an IPython kernel.\n",
      "/Users/tzacks2/.conda/envs/DataViz/lib/python3.7/site-packages/ipykernel_launcher.py:1: UserWarning: invalid scale_factor or add_offset attribute, no unpacking done...\n",
      "  \"\"\"Entry point for launching an IPython kernel.\n",
      "/Users/tzacks2/.conda/envs/DataViz/lib/python3.7/site-packages/ipykernel_launcher.py:1: UserWarning: invalid scale_factor or add_offset attribute, no unpacking done...\n",
      "  \"\"\"Entry point for launching an IPython kernel.\n",
      "/Users/tzacks2/.conda/envs/DataViz/lib/python3.7/site-packages/ipykernel_launcher.py:1: UserWarning: invalid scale_factor or add_offset attribute, no unpacking done...\n",
      "  \"\"\"Entry point for launching an IPython kernel.\n",
      "/Users/tzacks2/.conda/envs/DataViz/lib/python3.7/site-packages/ipykernel_launcher.py:1: UserWarning: invalid scale_factor or add_offset attribute, no unpacking done...\n",
      "  \"\"\"Entry point for launching an IPython kernel.\n",
      "/Users/tzacks2/.conda/envs/DataViz/lib/python3.7/site-packages/ipykernel_launcher.py:1: UserWarning: invalid scale_factor or add_offset attribute, no unpacking done...\n",
      "  \"\"\"Entry point for launching an IPython kernel.\n",
      "/Users/tzacks2/.conda/envs/DataViz/lib/python3.7/site-packages/ipykernel_launcher.py:1: UserWarning: invalid scale_factor or add_offset attribute, no unpacking done...\n",
      "  \"\"\"Entry point for launching an IPython kernel.\n",
      "/Users/tzacks2/.conda/envs/DataViz/lib/python3.7/site-packages/ipykernel_launcher.py:1: UserWarning: invalid scale_factor or add_offset attribute, no unpacking done...\n",
      "  \"\"\"Entry point for launching an IPython kernel.\n",
      "/Users/tzacks2/.conda/envs/DataViz/lib/python3.7/site-packages/ipykernel_launcher.py:1: UserWarning: invalid scale_factor or add_offset attribute, no unpacking done...\n",
      "  \"\"\"Entry point for launching an IPython kernel.\n"
     ]
    },
    {
     "name": "stderr",
     "output_type": "stream",
     "text": [
      "/Users/tzacks2/.conda/envs/DataViz/lib/python3.7/site-packages/ipykernel_launcher.py:1: UserWarning: invalid scale_factor or add_offset attribute, no unpacking done...\n",
      "  \"\"\"Entry point for launching an IPython kernel.\n",
      "/Users/tzacks2/.conda/envs/DataViz/lib/python3.7/site-packages/ipykernel_launcher.py:1: UserWarning: invalid scale_factor or add_offset attribute, no unpacking done...\n",
      "  \"\"\"Entry point for launching an IPython kernel.\n",
      "/Users/tzacks2/.conda/envs/DataViz/lib/python3.7/site-packages/ipykernel_launcher.py:1: UserWarning: invalid scale_factor or add_offset attribute, no unpacking done...\n",
      "  \"\"\"Entry point for launching an IPython kernel.\n",
      "/Users/tzacks2/.conda/envs/DataViz/lib/python3.7/site-packages/ipykernel_launcher.py:1: UserWarning: invalid scale_factor or add_offset attribute, no unpacking done...\n",
      "  \"\"\"Entry point for launching an IPython kernel.\n",
      "/Users/tzacks2/.conda/envs/DataViz/lib/python3.7/site-packages/ipykernel_launcher.py:1: UserWarning: invalid scale_factor or add_offset attribute, no unpacking done...\n",
      "  \"\"\"Entry point for launching an IPython kernel.\n",
      "/Users/tzacks2/.conda/envs/DataViz/lib/python3.7/site-packages/ipykernel_launcher.py:1: UserWarning: invalid scale_factor or add_offset attribute, no unpacking done...\n",
      "  \"\"\"Entry point for launching an IPython kernel.\n",
      "/Users/tzacks2/.conda/envs/DataViz/lib/python3.7/site-packages/ipykernel_launcher.py:1: UserWarning: invalid scale_factor or add_offset attribute, no unpacking done...\n",
      "  \"\"\"Entry point for launching an IPython kernel.\n",
      "/Users/tzacks2/.conda/envs/DataViz/lib/python3.7/site-packages/ipykernel_launcher.py:1: UserWarning: invalid scale_factor or add_offset attribute, no unpacking done...\n",
      "  \"\"\"Entry point for launching an IPython kernel.\n",
      "/Users/tzacks2/.conda/envs/DataViz/lib/python3.7/site-packages/ipykernel_launcher.py:1: UserWarning: invalid scale_factor or add_offset attribute, no unpacking done...\n",
      "  \"\"\"Entry point for launching an IPython kernel.\n"
     ]
    },
    {
     "data": {
      "image/png": "[encoded data removed]",
      "text/plain": [
       "<Figure size 432x288 with 1 Axes>"
      ]
     },
     "metadata": {
      "needs_background": "light"
     },
     "output_type": "display_data"
    }
   ],
   "source": [
    "for i in tomog.variables['vsvj']:\n",
    "    plt.plot(i)"
   ]
  },
  {
   "cell_type": "code",
   "execution_count": 7,
   "id": "91f4fbcb",
   "metadata": {},
   "outputs": [
    {
     "data": {
      "text/plain": [
       "dict_keys(['depth', 'latitude', 'longitude', 'vp', 'vsh', 'vsv', 'vsvj'])"
      ]
     },
     "execution_count": 7,
     "metadata": {},
     "output_type": "execute_result"
    }
   ],
   "source": [
    "tomog.variables.keys()"
   ]
  },
  {
   "cell_type": "code",
   "execution_count": 8,
   "id": "1a8960a4",
   "metadata": {},
   "outputs": [
    {
     "name": "stdout",
     "output_type": "stream",
     "text": [
      "<class 'netCDF4._netCDF4.Variable'>\n",
      "float32 vp(depth, latitude, longitude)\n",
      "    long_name: P-velocity in %dVp\n",
      "    valid_range: [-1000.  1000.]\n",
      "    missing_value: 99999.0\n",
      "    _FillValue: 99999.0\n",
      "    add_offset:   0.f\n",
      "    scale_factor:   2.f\n",
      "unlimited dimensions: \n",
      "current shape = (129, 55, 109)\n",
      "filling on\n"
     ]
    }
   ],
   "source": [
    "print(tomog.variables['vp'])"
   ]
  },
  {
   "cell_type": "code",
   "execution_count": 9,
   "id": "a63f3d03",
   "metadata": {},
   "outputs": [
    {
     "data": {
      "text/plain": [
       "(129, 55, 109)"
      ]
     },
     "execution_count": 9,
     "metadata": {},
     "output_type": "execute_result"
    }
   ],
   "source": [
    "(tomog.variables['vsvj'].shape[:][:])"
   ]
  },
  {
   "cell_type": "code",
   "execution_count": 10,
   "id": "cc2918dd",
   "metadata": {},
   "outputs": [
    {
     "name": "stderr",
     "output_type": "stream",
     "text": [
      "/Users/tzacks2/.conda/envs/DataViz/lib/python3.7/site-packages/ipykernel/pylab/backend_inline.py:14: DeprecationWarning: `ipykernel.pylab.backend_inline` is deprecated, directly use `matplotlib_inline.backend_inline`\n",
      "  DeprecationWarning\n"
     ]
    },
    {
     "data": {
      "application/vnd.jupyter.widget-view+json": {
       "model_id": "23f3484b24af4c7b83df5346760ae83b",
       "version_major": 2,
       "version_minor": 0
      },
      "text/plain": [
       "interactive(children=(IntSlider(value=64, description='count', max=128), Output()), _dom_classes=('widget-inte…"
      ]
     },
     "metadata": {},
     "output_type": "display_data"
    }
   ],
   "source": [
    "@ipywidgets.interact(count =(0,(tomog.variables['vsvj'].shape[0])-1))\n",
    "def make_plot(count):\n",
    "    for i in tomog.variables['vsvj'].data:\n",
    "            plt.clf\n",
    "            plt.plot(i[count])"
   ]
  },
  {
   "cell_type": "code",
   "execution_count": 11,
   "id": "e6a7e440",
   "metadata": {},
   "outputs": [
    {
     "ename": "SyntaxError",
     "evalue": "invalid syntax (2593157146.py, line 1)",
     "output_type": "error",
     "traceback": [
      "\u001b[0;36m  File \u001b[0;32m\"/var/folders/5y/htsjngjd7nd_3ddqv2q24ynh0000gq/T/ipykernel_2246/2593157146.py\"\u001b[0;36m, line \u001b[0;32m1\u001b[0m\n\u001b[0;31m    dimensions(sizes): depth(129), latitude(55), longitude(109)\u001b[0m\n\u001b[0m                                 ^\u001b[0m\n\u001b[0;31mSyntaxError\u001b[0m\u001b[0;31m:\u001b[0m invalid syntax\n"
     ]
    }
   ],
   "source": [
    "dimensions(sizes): depth(129), latitude(55), longitude(109)\n",
    "    variables(dimensions): float32 depth(depth), float32 latitude(latitude), float32 longitude(longitude), float32 vp(depth, latitude, longitude), float32 vsh(depth, latitude, longitude), float32 vsv(depth, latitude, longitude), float32 vsvj(depth, latitude, longitude)\n",
    "    groups: "
   ]
  },
  {
   "cell_type": "code",
   "execution_count": 12,
   "id": "451a8bff",
   "metadata": {},
   "outputs": [
    {
     "name": "stderr",
     "output_type": "stream",
     "text": [
      "/Users/tzacks2/.conda/envs/DataViz/lib/python3.7/site-packages/ipykernel_launcher.py:4: UserWarning: invalid scale_factor or add_offset attribute, no unpacking done...\n",
      "  after removing the cwd from sys.path.\n",
      "/Users/tzacks2/.conda/envs/DataViz/lib/python3.7/site-packages/ipykernel_launcher.py:5: UserWarning: invalid scale_factor or add_offset attribute, no unpacking done...\n",
      "  \"\"\"\n",
      "/Users/tzacks2/.conda/envs/DataViz/lib/python3.7/site-packages/ipykernel_launcher.py:6: UserWarning: invalid scale_factor or add_offset attribute, no unpacking done...\n",
      "  \n",
      "/Users/tzacks2/.conda/envs/DataViz/lib/python3.7/site-packages/ipykernel_launcher.py:7: UserWarning: invalid scale_factor or add_offset attribute, no unpacking done...\n",
      "  import sys\n"
     ]
    }
   ],
   "source": [
    "depth = tomog.variables['depth'][:]\n",
    "lat = tomog.variables['latitude'][:]\n",
    "lon = tomog.variables['longitude'][:]\n",
    "vp = tomog.variables['vp'][:]\n",
    "vsh = tomog.variables['vsh'][:]\n",
    "vsv = tomog.variables['vsv'][:]\n",
    "vsvj = tomog.variables['vsvj'][:]"
   ]
  },
  {
   "cell_type": "code",
   "execution_count": 13,
   "id": "f03d2f56",
   "metadata": {},
   "outputs": [
    {
     "data": {
      "text/plain": [
       "masked_array(data=[   0.,   10.,   20.,   30.,   40.,   50.,   60.,   70.,\n",
       "                     80.,   90.,  100.,  110.,  120.,  130.,  140.,  150.,\n",
       "                    160.,  170.,  180.,  190.,  200.,  210.,  220.,  230.,\n",
       "                    240.,  250.,  260.,  270.,  280.,  290.,  300.,  310.,\n",
       "                    320.,  330.,  340.,  350.,  360.,  370.,  380.,  390.,\n",
       "                    400.,  410.,  420.,  430.,  440.,  450.,  460.,  470.,\n",
       "                    480.,  490.,  500.,  510.,  520.,  530.,  540.,  550.,\n",
       "                    560.,  570.,  580.,  590.,  600.,  610.,  620.,  630.,\n",
       "                    640.,  650.,  660.,  670.,  680.,  690.,  700.,  710.,\n",
       "                    720.,  730.,  740.,  750.,  760.,  770.,  780.,  790.,\n",
       "                    800.,  810.,  820.,  830.,  840.,  850.,  860.,  870.,\n",
       "                    880.,  890.,  900.,  910.,  920.,  930.,  940.,  950.,\n",
       "                    960.,  970.,  980.,  990., 1000., 1010., 1020., 1030.,\n",
       "                   1040., 1050., 1060., 1070., 1080., 1090., 1100., 1110.,\n",
       "                   1120., 1130., 1140., 1150., 1160., 1170., 1180., 1190.,\n",
       "                   1200., 1210., 1220., 1230., 1240., 1250., 1260., 1270.,\n",
       "                   1280.],\n",
       "             mask=False,\n",
       "       fill_value=1e+20,\n",
       "            dtype=float32)"
      ]
     },
     "execution_count": 13,
     "metadata": {},
     "output_type": "execute_result"
    }
   ],
   "source": [
    "depth"
   ]
  },
  {
   "cell_type": "code",
   "execution_count": 14,
   "id": "ae3ef5ce",
   "metadata": {},
   "outputs": [
    {
     "data": {
      "text/plain": [
       "'1000'"
      ]
     },
     "execution_count": 14,
     "metadata": {},
     "output_type": "execute_result"
    }
   ],
   "source": [
    "'1000.f'.split('.')[0]"
   ]
  },
  {
   "cell_type": "code",
   "execution_count": 15,
   "id": "2a249d47",
   "metadata": {},
   "outputs": [
    {
     "ename": "AttributeError",
     "evalue": "'numpy.ndarray' object has no attribute 'split'",
     "output_type": "error",
     "traceback": [
      "\u001b[0;31m---------------------------------------------------------------------------\u001b[0m",
      "\u001b[0;31mAttributeError\u001b[0m                            Traceback (most recent call last)",
      "\u001b[0;32m/var/folders/5y/htsjngjd7nd_3ddqv2q24ynh0000gq/T/ipykernel_2246/3714730296.py\u001b[0m in \u001b[0;36m<module>\u001b[0;34m\u001b[0m\n\u001b[0;32m----> 1\u001b[0;31m \u001b[0mtomog\u001b[0m\u001b[0;34m.\u001b[0m\u001b[0mvariables\u001b[0m\u001b[0;34m[\u001b[0m\u001b[0;34m'vp'\u001b[0m\u001b[0;34m]\u001b[0m\u001b[0;34m.\u001b[0m\u001b[0mvalid_range\u001b[0m\u001b[0;34m.\u001b[0m\u001b[0msplit\u001b[0m\u001b[0;34m(\u001b[0m\u001b[0;34m'.f'\u001b[0m\u001b[0;34m)\u001b[0m\u001b[0;34m\u001b[0m\u001b[0;34m\u001b[0m\u001b[0m\n\u001b[0m",
      "\u001b[0;31mAttributeError\u001b[0m: 'numpy.ndarray' object has no attribute 'split'"
     ]
    }
   ],
   "source": [
    "tomog.variables['vp'].valid_range.split('.f')"
   ]
  },
  {
   "cell_type": "code",
   "execution_count": 16,
   "id": "d6fa3f96",
   "metadata": {},
   "outputs": [
    {
     "name": "stderr",
     "output_type": "stream",
     "text": [
      "/Users/tzacks2/.conda/envs/DataViz/lib/python3.7/site-packages/ipykernel_launcher.py:1: UserWarning: invalid scale_factor or add_offset attribute, no unpacking done...\n",
      "  \"\"\"Entry point for launching an IPython kernel.\n"
     ]
    },
    {
     "ename": "AttributeError",
     "evalue": "'MaskedArray' object has no attribute 'split'",
     "output_type": "error",
     "traceback": [
      "\u001b[0;31m---------------------------------------------------------------------------\u001b[0m",
      "\u001b[0;31mAttributeError\u001b[0m                            Traceback (most recent call last)",
      "\u001b[0;32m/var/folders/5y/htsjngjd7nd_3ddqv2q24ynh0000gq/T/ipykernel_2246/1754670490.py\u001b[0m in \u001b[0;36m<module>\u001b[0;34m\u001b[0m\n\u001b[0;32m----> 1\u001b[0;31m \u001b[0mtomog\u001b[0m\u001b[0;34m.\u001b[0m\u001b[0mvariables\u001b[0m\u001b[0;34m[\u001b[0m\u001b[0;34m'vp'\u001b[0m\u001b[0;34m]\u001b[0m\u001b[0;34m[\u001b[0m\u001b[0;36m1\u001b[0m\u001b[0;34m]\u001b[0m\u001b[0;34m.\u001b[0m\u001b[0msplit\u001b[0m\u001b[0;34m(\u001b[0m\u001b[0;34m'.'\u001b[0m\u001b[0;34m)\u001b[0m\u001b[0;34m[\u001b[0m\u001b[0;34m:\u001b[0m\u001b[0;34m:\u001b[0m\u001b[0;36m2\u001b[0m\u001b[0;34m]\u001b[0m\u001b[0;34m\u001b[0m\u001b[0;34m\u001b[0m\u001b[0m\n\u001b[0m",
      "\u001b[0;31mAttributeError\u001b[0m: 'MaskedArray' object has no attribute 'split'"
     ]
    }
   ],
   "source": [
    "tomog.variables['vp'][1].split('.')[::2]"
   ]
  },
  {
   "cell_type": "code",
   "execution_count": 17,
   "id": "453c4f4d",
   "metadata": {},
   "outputs": [],
   "source": [
    "a = ['-1000', 'f, 1000', 'f']"
   ]
  },
  {
   "cell_type": "code",
   "execution_count": 18,
   "id": "1c3e9790",
   "metadata": {},
   "outputs": [
    {
     "data": {
      "text/plain": [
       "['-1000', 'f, 1000']"
      ]
     },
     "execution_count": 18,
     "metadata": {},
     "output_type": "execute_result"
    }
   ],
   "source": [
    "a[0:2:1]"
   ]
  },
  {
   "cell_type": "code",
   "execution_count": null,
   "id": "6d8ba1da",
   "metadata": {},
   "outputs": [],
   "source": []
  },
  {
   "cell_type": "code",
   "execution_count": null,
   "id": "93dd6fbe",
   "metadata": {},
   "outputs": [],
   "source": []
  },
  {
   "cell_type": "code",
   "execution_count": null,
   "id": "77433278",
   "metadata": {},
   "outputs": [],
   "source": []
  },
  {
   "cell_type": "code",
   "execution_count": null,
   "id": "4daf6d58",
   "metadata": {},
   "outputs": [],
   "source": []
  }
 ],
 "metadata": {
  "kernelspec": {
   "display_name": "Python 3 (ipykernel)",
   "language": "python",
   "name": "python3"
  },
  "language_info": {
   "codemirror_mode": {
    "name": "ipython",
    "version": 3
   },
   "file_extension": ".py",
   "mimetype": "text/x-python",
   "name": "python",
   "nbconvert_exporter": "python",
   "pygments_lexer": "ipython3",
   "version": "3.7.12"
  }
 },
 "nbformat": 4,
 "nbformat_minor": 5
}
