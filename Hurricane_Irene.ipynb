{
 "cells": [
  {
   "cell_type": "code",
   "execution_count": 35,
   "id": "2f48ee62",
   "metadata": {},
   "outputs": [],
   "source": [
    "import yt\n",
    "import netCDF4 as nc\n",
    "import matplotlib.pyplot as plt\n",
    "import pygrib\n",
    "import pandas as pd\n",
    "import xarray as xr\n",
    "import cfgrib\n",
    "import ipywidgets\n",
    "import numpy as np"
   ]
  },
  {
   "cell_type": "code",
   "execution_count": 11,
   "id": "76757ac9",
   "metadata": {},
   "outputs": [],
   "source": [
    "irene = nc.Dataset('data/Hurricane_Irene/GFS1.0degreeModelOutput/ireneFlowVector1000.nc')"
   ]
  },
  {
   "cell_type": "code",
   "execution_count": 12,
   "id": "7bc0ff19",
   "metadata": {},
   "outputs": [
    {
     "data": {
      "text/plain": [
       "<class 'netCDF4._netCDF4.Dataset'>\n",
       "root group (NETCDF3_CLASSIC data model, file format NETCDF3):\n",
       "    Conventions: CF-1.X\n",
       "    History: Translated from VisAD grid to CF-1.X Conventions by IDV\n",
       "Original Dataset = (Time -> ((lon[unit:degrees_east], lat[unit:degrees_north], pressure[unit:Pa]) -> (U-component_of_wind[unit:m_s-1]_2, V-component_of_wind[unit:m_s-1]_2)))\n",
       "Translation Date = Thu Sep 01 13:11:22 MDT 2011\n",
       "    dimensions(sizes): time(49), lon(110), lat(85), pressure(1)\n",
       "    variables(dimensions): float64 time(time), float32 lon(lon), float32 lat(lat), float32 pressure(pressure), float32 U-component_of_wind(time, pressure, lat, lon), float32 V-component_of_wind(time, pressure, lat, lon)\n",
       "    groups: "
      ]
     },
     "execution_count": 12,
     "metadata": {},
     "output_type": "execute_result"
    }
   ],
   "source": [
    "irene"
   ]
  },
  {
   "cell_type": "code",
   "execution_count": 13,
   "id": "0f929e81",
   "metadata": {},
   "outputs": [
    {
     "data": {
      "text/plain": [
       "{'time': <class 'netCDF4._netCDF4.Variable'>\n",
       " float64 time(time)\n",
       "     units: s since 1970-01-01 00:00:00.000 UTC\n",
       " unlimited dimensions: \n",
       " current shape = (49,)\n",
       " filling on, default _FillValue of 9.969209968386869e+36 used,\n",
       " 'lon': <class 'netCDF4._netCDF4.Variable'>\n",
       " float32 lon(lon)\n",
       "     units: degrees_east\n",
       "     long_name: longitude coordinate\n",
       "     standard_name: longitude\n",
       " unlimited dimensions: \n",
       " current shape = (110,)\n",
       " filling on, default _FillValue of 9.969209968386869e+36 used,\n",
       " 'lat': <class 'netCDF4._netCDF4.Variable'>\n",
       " float32 lat(lat)\n",
       "     units: degrees_north\n",
       "     long_name: latitude coordinate\n",
       "     standard_name: latitude\n",
       " unlimited dimensions: \n",
       " current shape = (85,)\n",
       " filling on, default _FillValue of 9.969209968386869e+36 used,\n",
       " 'pressure': <class 'netCDF4._netCDF4.Variable'>\n",
       " float32 pressure(pressure)\n",
       "     units: Pa\n",
       "     positive: down\n",
       " unlimited dimensions: \n",
       " current shape = (1,)\n",
       " filling on, default _FillValue of 9.969209968386869e+36 used,\n",
       " 'U-component_of_wind': <class 'netCDF4._netCDF4.Variable'>\n",
       " float32 U-component_of_wind(time, pressure, lat, lon)\n",
       "     units: m s-1\n",
       " unlimited dimensions: \n",
       " current shape = (49, 1, 85, 110)\n",
       " filling on, default _FillValue of 9.969209968386869e+36 used,\n",
       " 'V-component_of_wind': <class 'netCDF4._netCDF4.Variable'>\n",
       " float32 V-component_of_wind(time, pressure, lat, lon)\n",
       "     units: m s-1\n",
       " unlimited dimensions: \n",
       " current shape = (49, 1, 85, 110)\n",
       " filling on, default _FillValue of 9.969209968386869e+36 used}"
      ]
     },
     "execution_count": 13,
     "metadata": {},
     "output_type": "execute_result"
    }
   ],
   "source": [
    "irene.variables"
   ]
  },
  {
   "cell_type": "code",
   "execution_count": 10,
   "id": "0964b261",
   "metadata": {},
   "outputs": [
    {
     "ename": "NameError",
     "evalue": "name 'irene' is not defined",
     "output_type": "error",
     "traceback": [
      "\u001b[0;31m---------------------------------------------------------------------------\u001b[0m",
      "\u001b[0;31mNameError\u001b[0m                                 Traceback (most recent call last)",
      "\u001b[0;32m/var/folders/5y/htsjngjd7nd_3ddqv2q24ynh0000gq/T/ipykernel_2652/2573309126.py\u001b[0m in \u001b[0;36m<module>\u001b[0;34m\u001b[0m\n\u001b[0;32m----> 1\u001b[0;31m \u001b[0mirene\u001b[0m\u001b[0;34m.\u001b[0m\u001b[0mvariables\u001b[0m\u001b[0;34m\u001b[0m\u001b[0;34m\u001b[0m\u001b[0m\n\u001b[0m",
      "\u001b[0;31mNameError\u001b[0m: name 'irene' is not defined"
     ]
    }
   ],
   "source": [
    "irene.variables"
   ]
  },
  {
   "cell_type": "code",
   "execution_count": 30,
   "id": "bc93a987",
   "metadata": {},
   "outputs": [],
   "source": [
    "ireneNAM = nc.Dataset('data/Hurricane_Irene/NAM12kmModelSubset/ireneNAMFlowVector500.nc')\n",
    "ireneNAM2 = nc.Dataset('data/Hurricane_Irene/NAM12kmModelSubset/ireneNAMFlowVector1000.nc')"
   ]
  },
  {
   "cell_type": "code",
   "execution_count": 31,
   "id": "688e2229",
   "metadata": {},
   "outputs": [
    {
     "data": {
      "text/plain": [
       "<class 'netCDF4._netCDF4.Dataset'>\n",
       "root group (NETCDF3_CLASSIC data model, file format NETCDF3):\n",
       "    Conventions: CF-1.X\n",
       "    History: Translated from VisAD grid to CF-1.X Conventions by IDV\n",
       "Original Dataset = (Time -> ((x[unit:km], y[unit:km], pressure[unit:Pa]) -> (U-component_of_wind[unit:m_s-1]_26, V-component_of_wind[unit:m_s-1]_26)))\n",
       "Translation Date = Thu Sep 01 14:15:21 MDT 2011\n",
       "    dimensions(sizes): time(40), x(103), y(72), pressure(1)\n",
       "    variables(dimensions): float64 time(time), float32 x(x), float32 y(y), |S1 lambert_conformal_conic(), float32 pressure(pressure), float32 U-component_of_wind(time, pressure, y, x), float32 V-component_of_wind(time, pressure, y, x)\n",
       "    groups: "
      ]
     },
     "execution_count": 31,
     "metadata": {},
     "output_type": "execute_result"
    }
   ],
   "source": [
    "ireneNAM"
   ]
  },
  {
   "cell_type": "code",
   "execution_count": 36,
   "id": "717b247b",
   "metadata": {},
   "outputs": [
    {
     "data": {
      "text/plain": [
       "masked_array(\n",
       "  data=[[[[ -0.64027405,   0.10972595,  -0.14027405, ...,  -7.390274  ,\n",
       "            -7.640274  ,  -6.765274  ],\n",
       "          [ -1.265274  ,  -0.64027405,  -1.140274  , ...,  -6.765274  ,\n",
       "            -6.640274  ,  -5.765274  ],\n",
       "          [ -1.515274  ,  -1.140274  ,  -1.890274  , ...,  -6.140274  ,\n",
       "            -5.765274  ,  -4.640274  ],\n",
       "          ...,\n",
       "          [ 10.859726  ,  11.234726  ,  11.609726  , ...,  -6.015274  ,\n",
       "            -5.765274  ,  -5.015274  ],\n",
       "          [ 11.234726  ,  11.984726  ,  12.609726  , ...,  -4.390274  ,\n",
       "            -3.640274  ,  -2.890274  ],\n",
       "          [ 11.234726  ,  12.359726  ,  13.359726  , ...,  -2.640274  ,\n",
       "            -1.890274  ,  -1.515274  ]]],\n",
       "\n",
       "\n",
       "        [[[  1.0275116 ,   2.0275116 ,   0.5275116 , ...,  -7.0974884 ,\n",
       "            -4.9724884 ,  -3.7224884 ],\n",
       "          [  0.4025116 ,   0.7775116 ,  -1.4724884 , ...,  -6.5974884 ,\n",
       "            -4.2224884 ,  -3.4724884 ],\n",
       "          [ -0.2224884 ,  -0.5974884 ,  -2.9724884 , ...,  -5.4724884 ,\n",
       "            -3.8474884 ,  -3.5974884 ],\n",
       "          ...,\n",
       "          [ 10.777512  ,  10.152512  ,   9.902512  , ...,  -5.7224884 ,\n",
       "            -5.2224884 ,  -4.8474884 ],\n",
       "          [ 11.027512  ,  10.652512  ,  10.277512  , ...,  -3.9724884 ,\n",
       "            -3.0974884 ,  -2.2224884 ],\n",
       "          [ 10.027512  ,   9.902512  ,   9.277512  , ...,  -2.7224884 ,\n",
       "            -1.8474884 ,  -0.7224884 ]]],\n",
       "\n",
       "\n",
       "        [[[ -0.39275455,  -1.5177546 ,  -3.7677546 , ...,  -4.2677546 ,\n",
       "            -5.8927546 ,  -7.7677546 ],\n",
       "          [ -1.5177546 ,  -3.3927546 ,  -3.8927546 , ...,  -4.8927546 ,\n",
       "            -6.6427546 ,  -8.642755  ],\n",
       "          [ -2.6427546 ,  -3.7677546 ,  -3.8927546 , ...,  -4.8927546 ,\n",
       "            -6.7677546 ,  -8.642755  ],\n",
       "          ...,\n",
       "          [  8.232245  ,   7.3572454 ,   7.2322454 , ..., -10.017755  ,\n",
       "            -8.517755  ,  -6.8927546 ],\n",
       "          [  8.107245  ,   8.107245  ,   8.482245  , ...,  -6.2677546 ,\n",
       "            -4.7677546 ,  -3.3927546 ],\n",
       "          [  8.357245  ,   8.607245  ,   9.232245  , ...,  -3.1427546 ,\n",
       "            -1.8927546 ,  -0.76775455]]],\n",
       "\n",
       "\n",
       "        ...,\n",
       "\n",
       "\n",
       "        [[[ -5.852353  ,  -4.977353  ,  -4.102353  , ...,  -9.352353  ,\n",
       "           -10.227353  , -10.477353  ],\n",
       "          [ -6.477353  ,  -5.477353  ,  -4.227353  , ...,  -9.227353  ,\n",
       "           -10.352353  ,  -9.602353  ],\n",
       "          [ -6.352353  ,  -5.352353  ,  -4.102353  , ...,  -8.227353  ,\n",
       "            -8.852353  ,  -8.352353  ],\n",
       "          ...,\n",
       "          [  2.397647  ,   3.397647  ,   5.147647  , ...,   7.022647  ,\n",
       "             8.147647  ,   8.897647  ],\n",
       "          [  2.022647  ,   3.397647  ,   4.772647  , ...,   7.772647  ,\n",
       "             8.897647  ,  10.147647  ],\n",
       "          [  2.397647  ,   3.897647  ,   4.647647  , ...,   8.522647  ,\n",
       "             9.897647  ,  10.647647  ]]],\n",
       "\n",
       "\n",
       "        [[[ -3.9128942 ,  -2.7878942 ,  -1.9128942 , ...,  -8.162894  ,\n",
       "            -7.6628942 ,  -7.6628942 ],\n",
       "          [ -3.6628942 ,  -2.6628942 ,  -2.1628942 , ...,  -7.5378942 ,\n",
       "            -7.5378942 ,  -7.1628942 ],\n",
       "          [ -3.6628942 ,  -2.7878942 ,  -2.4128942 , ...,  -6.7878942 ,\n",
       "            -6.6628942 ,  -6.1628942 ],\n",
       "          ...,\n",
       "          [  5.7121058 ,   4.9621058 ,   6.0871058 , ...,   6.2121058 ,\n",
       "             7.5871058 ,   8.337106  ],\n",
       "          [  4.0871058 ,   4.8371058 ,   6.0871058 , ...,   6.7121058 ,\n",
       "             7.9621058 ,   8.962106  ],\n",
       "          [  2.4621058 ,   4.4621058 ,   6.0871058 , ...,   6.9621058 ,\n",
       "             8.337106  ,   9.587106  ]]],\n",
       "\n",
       "\n",
       "        [[[ -3.1557007 ,  -2.1557007 ,  -1.1557007 , ...,  -7.7807007 ,\n",
       "            -7.4057007 ,  -7.0307007 ],\n",
       "          [ -3.1557007 ,  -2.1557007 ,  -1.4057007 , ...,  -6.9057007 ,\n",
       "            -6.4057007 ,  -6.2807007 ],\n",
       "          [ -2.9057007 ,  -2.0307007 ,  -1.7807007 , ...,  -6.1557007 ,\n",
       "            -6.0307007 ,  -5.9057007 ],\n",
       "          ...,\n",
       "          [  8.594299  ,   7.3442993 ,   7.4692993 , ...,  -0.5307007 ,\n",
       "             1.0942993 ,   2.7192993 ],\n",
       "          [  7.3442993 ,   6.2192993 ,   6.0942993 , ...,   0.46929932,\n",
       "             1.7192993 ,   3.3442993 ],\n",
       "          [  5.4692993 ,   4.7192993 ,   4.5942993 , ...,   1.9692993 ,\n",
       "             2.7192993 ,   4.0942993 ]]]],\n",
       "  mask=False,\n",
       "  fill_value=1e+20,\n",
       "  dtype=float32)"
      ]
     },
     "execution_count": 36,
     "metadata": {},
     "output_type": "execute_result"
    }
   ],
   "source": [
    "ireneNAM2.variables['U-component_of_wind'][::]"
   ]
  },
  {
   "cell_type": "code",
   "execution_count": 35,
   "id": "92d1ac4d",
   "metadata": {},
   "outputs": [
    {
     "data": {
      "text/plain": [
       "masked_array(\n",
       "  data=[[[ -6.734833 ,  -6.984833 ,  -7.359833 , ...,  -8.234833 ,\n",
       "           -8.234833 ,  -7.984833 ],\n",
       "         [ -6.484833 ,  -6.734833 ,  -6.984833 , ...,  -8.609833 ,\n",
       "           -9.609833 , -10.109833 ],\n",
       "         [ -6.609833 ,  -6.484833 ,  -6.234833 , ...,  -7.859833 ,\n",
       "           -8.609833 ,  -9.609833 ],\n",
       "         ...,\n",
       "         [ 22.265167 ,  22.390167 ,  22.140167 , ...,   9.015167 ,\n",
       "            6.890167 ,   6.390167 ],\n",
       "         [ 20.890167 ,  21.515167 ,  21.390167 , ...,   5.390167 ,\n",
       "            5.015167 ,   5.765167 ],\n",
       "         [ 20.015167 ,  20.515167 ,  20.890167 , ...,   3.7651672,\n",
       "            4.515167 ,   4.515167 ]]],\n",
       "  mask=False,\n",
       "  fill_value=1e+20,\n",
       "  dtype=float32)"
      ]
     },
     "execution_count": 35,
     "metadata": {},
     "output_type": "execute_result"
    }
   ],
   "source": [
    "ireneNAM.variables['U-component_of_wind'][0]"
   ]
  },
  {
   "cell_type": "code",
   "execution_count": 63,
   "id": "f2e20d9c",
   "metadata": {},
   "outputs": [
    {
     "ename": "TypeError",
     "evalue": "arg must be a string, datetime, list, tuple, 1-d array, or Series",
     "output_type": "error",
     "traceback": [
      "\u001b[0;31m---------------------------------------------------------------------------\u001b[0m",
      "\u001b[0;31mTypeError\u001b[0m                                 Traceback (most recent call last)",
      "\u001b[0;32m/var/folders/5y/htsjngjd7nd_3ddqv2q24ynh0000gq/T/ipykernel_74408/3934720286.py\u001b[0m in \u001b[0;36m<module>\u001b[0;34m\u001b[0m\n\u001b[0;32m----> 1\u001b[0;31m \u001b[0mireneNAM\u001b[0m\u001b[0;34m[\u001b[0m\u001b[0;34m'time'\u001b[0m\u001b[0;34m]\u001b[0m \u001b[0;34m=\u001b[0m \u001b[0mpd\u001b[0m\u001b[0;34m.\u001b[0m\u001b[0mto_datetime\u001b[0m\u001b[0;34m(\u001b[0m\u001b[0mireneNAM\u001b[0m\u001b[0;34m[\u001b[0m\u001b[0;34m'time'\u001b[0m\u001b[0;34m]\u001b[0m\u001b[0;34m)\u001b[0m\u001b[0;34m\u001b[0m\u001b[0;34m\u001b[0m\u001b[0m\n\u001b[0m",
      "\u001b[0;32m~/.conda/envs/DataViz/lib/python3.7/site-packages/pandas/core/tools/datetimes.py\u001b[0m in \u001b[0;36mto_datetime\u001b[0;34m(arg, errors, dayfirst, yearfirst, utc, format, exact, unit, infer_datetime_format, origin, cache)\u001b[0m\n\u001b[1;32m    912\u001b[0m             \u001b[0mresult\u001b[0m \u001b[0;34m=\u001b[0m \u001b[0mconvert_listlike\u001b[0m\u001b[0;34m(\u001b[0m\u001b[0marg\u001b[0m\u001b[0;34m,\u001b[0m \u001b[0mformat\u001b[0m\u001b[0;34m)\u001b[0m\u001b[0;34m\u001b[0m\u001b[0;34m\u001b[0m\u001b[0m\n\u001b[1;32m    913\u001b[0m     \u001b[0;32melse\u001b[0m\u001b[0;34m:\u001b[0m\u001b[0;34m\u001b[0m\u001b[0;34m\u001b[0m\u001b[0m\n\u001b[0;32m--> 914\u001b[0;31m         \u001b[0mresult\u001b[0m \u001b[0;34m=\u001b[0m \u001b[0mconvert_listlike\u001b[0m\u001b[0;34m(\u001b[0m\u001b[0mnp\u001b[0m\u001b[0;34m.\u001b[0m\u001b[0marray\u001b[0m\u001b[0;34m(\u001b[0m\u001b[0;34m[\u001b[0m\u001b[0marg\u001b[0m\u001b[0;34m]\u001b[0m\u001b[0;34m)\u001b[0m\u001b[0;34m,\u001b[0m \u001b[0mformat\u001b[0m\u001b[0;34m)\u001b[0m\u001b[0;34m[\u001b[0m\u001b[0;36m0\u001b[0m\u001b[0;34m]\u001b[0m\u001b[0;34m\u001b[0m\u001b[0;34m\u001b[0m\u001b[0m\n\u001b[0m\u001b[1;32m    915\u001b[0m \u001b[0;34m\u001b[0m\u001b[0m\n\u001b[1;32m    916\u001b[0m     \u001b[0;31m#  error: Incompatible return value type (got \"Union[Timestamp, NaTType,\u001b[0m\u001b[0;34m\u001b[0m\u001b[0;34m\u001b[0m\u001b[0;34m\u001b[0m\u001b[0m\n",
      "\u001b[0;32m~/.conda/envs/DataViz/lib/python3.7/site-packages/pandas/core/tools/datetimes.py\u001b[0m in \u001b[0;36m_convert_listlike_datetimes\u001b[0;34m(arg, format, name, tz, unit, errors, infer_datetime_format, dayfirst, yearfirst, exact)\u001b[0m\n\u001b[1;32m    357\u001b[0m     \u001b[0;32melif\u001b[0m \u001b[0mgetattr\u001b[0m\u001b[0;34m(\u001b[0m\u001b[0marg\u001b[0m\u001b[0;34m,\u001b[0m \u001b[0;34m\"ndim\"\u001b[0m\u001b[0;34m,\u001b[0m \u001b[0;36m1\u001b[0m\u001b[0;34m)\u001b[0m \u001b[0;34m>\u001b[0m \u001b[0;36m1\u001b[0m\u001b[0;34m:\u001b[0m\u001b[0;34m\u001b[0m\u001b[0;34m\u001b[0m\u001b[0m\n\u001b[1;32m    358\u001b[0m         raise TypeError(\n\u001b[0;32m--> 359\u001b[0;31m             \u001b[0;34m\"arg must be a string, datetime, list, tuple, 1-d array, or Series\"\u001b[0m\u001b[0;34m\u001b[0m\u001b[0;34m\u001b[0m\u001b[0m\n\u001b[0m\u001b[1;32m    360\u001b[0m         )\n\u001b[1;32m    361\u001b[0m \u001b[0;34m\u001b[0m\u001b[0m\n",
      "\u001b[0;31mTypeError\u001b[0m: arg must be a string, datetime, list, tuple, 1-d array, or Series"
     ]
    }
   ],
   "source": [
    "ireneNAM['time'] = pd.to_datetime(ireneNAM['time'])"
   ]
  },
  {
   "cell_type": "code",
   "execution_count": 61,
   "id": "733cec7f",
   "metadata": {},
   "outputs": [
    {
     "data": {
      "text/plain": [
       "<class 'netCDF4._netCDF4.Variable'>\n",
       "float64 time(time)\n",
       "    units: s since 1970-01-01 00:00:00.000 UTC\n",
       "unlimited dimensions: \n",
       "current shape = (40,)\n",
       "filling on, default _FillValue of 9.969209968386869e+36 used"
      ]
     },
     "execution_count": 61,
     "metadata": {},
     "output_type": "execute_result"
    }
   ],
   "source": [
    "ireneNAM['time']"
   ]
  },
  {
   "cell_type": "markdown",
   "id": "30146543",
   "metadata": {},
   "source": [
    "# trying yt before talking to Matt"
   ]
  },
  {
   "cell_type": "code",
   "execution_count": 54,
   "id": "41747805",
   "metadata": {},
   "outputs": [],
   "source": [
    "data_filename = 'data/Hurricane_Irene/GFS1.0degreeModelOutput/ireneFlowVector1000.nc'\n",
    "\n",
    "nc_dataset = nc.Dataset(data_filename, 'r+')\n",
    "latitude = nc_dataset.variables['lat'][:]\n",
    "longitude = nc_dataset.variables['lon'][:]\n",
    "time = nc_dataset.variables['time'][:]\n",
    "pressure = nc_dataset.variables['pressure'][:]\n"
   ]
  },
  {
   "cell_type": "code",
   "execution_count": 33,
   "id": "c61a3adf",
   "metadata": {},
   "outputs": [
    {
     "name": "stdout",
     "output_type": "stream",
     "text": [
      "U-component_of_wind\n",
      "<class 'netCDF4._netCDF4.Variable'>\n",
      "float32 U-component_of_wind(time, pressure, lat, lon)\n",
      "    units: m s-1\n",
      "unlimited dimensions: \n",
      "current shape = (49, 1, 85, 110)\n",
      "filling on, default _FillValue of 9.969209968386869e+36 used\n",
      "V-component_of_wind\n",
      "<class 'netCDF4._netCDF4.Variable'>\n",
      "float32 V-component_of_wind(time, pressure, lat, lon)\n",
      "    units: m s-1\n",
      "unlimited dimensions: \n",
      "current shape = (49, 1, 85, 110)\n",
      "filling on, default _FillValue of 9.969209968386869e+36 used\n"
     ]
    }
   ],
   "source": [
    "v_names = ['U-component_of_wind', 'V-component_of_wind']\n",
    "# print(nc_dataset.variables.keys())\n",
    "\n",
    "for v in v_names:\n",
    "    print(v)\n",
    "    print(nc_dataset.variables[v])"
   ]
  },
  {
   "cell_type": "code",
   "execution_count": null,
   "id": "14f8fd8b",
   "metadata": {},
   "outputs": [],
   "source": []
  },
  {
   "cell_type": "code",
   "execution_count": 51,
   "id": "88b9b679",
   "metadata": {},
   "outputs": [
    {
     "name": "stdout",
     "output_type": "stream",
     "text": [
      "{'U-component_of_wind': masked_array(\n",
      "  data=[[[[  0.18,  -0.11,  -0.29, ...,  -1.2 ,  -2.57,  -2.7 ],\n",
      "          [  0.48,   0.35,   0.39, ...,  -1.7 ,  -1.99,  -1.62],\n",
      "          [  1.66,   1.73,   1.84, ...,  -0.83,  -0.6 ,  -0.29],\n",
      "          ...,\n",
      "          [-10.11,  -9.22,  -8.97, ...,  -6.56,  -6.62,  -6.73],\n",
      "          [-10.86, -10.23, -10.06, ...,  -6.99,  -7.25,  -7.32],\n",
      "          [-10.  , -10.42, -10.87, ...,  -7.62,  -7.83,  -7.72]]],\n",
      "\n",
      "\n",
      "        [[[  3.21,   3.06,   2.89, ...,   0.35,  -0.66,  -0.72],\n",
      "          [  3.26,   3.16,   3.33, ...,  -2.29,  -1.76,  -1.49],\n",
      "          [  2.83,   2.83,   2.84, ...,  -1.69,  -1.04,  -1.33],\n",
      "          ...,\n",
      "          [-10.09,  -9.63,  -9.28, ...,  -6.2 ,  -5.98,  -5.55],\n",
      "          [-10.05,  -9.95,  -9.99, ...,  -5.82,  -5.79,  -5.93],\n",
      "          [ -9.52,  -9.09,  -9.31, ...,  -5.74,  -5.66,  -5.95]]],\n",
      "\n",
      "\n",
      "        [[[  3.08,   2.98,   2.91, ...,   0.94,  -0.28,  -0.73],\n",
      "          [  2.95,   2.73,   2.72, ...,  -3.02,  -2.31,  -1.68],\n",
      "          [  2.49,   2.14,   1.71, ...,  -2.59,  -2.88,  -3.63],\n",
      "          ...,\n",
      "          [ -9.12,  -9.92, -10.59, ...,  -6.09,  -5.86,  -5.74],\n",
      "          [ -8.87, -10.04, -11.17, ...,  -6.06,  -6.36,  -6.45],\n",
      "          [ -9.47, -10.2 , -10.58, ...,  -6.07,  -6.04,  -6.35]]],\n",
      "\n",
      "\n",
      "        ...,\n",
      "\n",
      "\n",
      "        [[[  4.05,   3.86,   3.57, ...,   4.79,   3.47,   1.94],\n",
      "          [ -0.66,  -1.71,  -2.42, ...,   2.62,   1.81,   2.1 ],\n",
      "          [ -3.46,  -3.56,  -3.41, ...,  -1.65,  -1.48,  -0.53],\n",
      "          ...,\n",
      "          [ -8.2 ,  -8.67,  -9.74, ...,  -7.44,  -7.07,  -6.96],\n",
      "          [ -8.86,  -9.08,  -9.54, ...,  -8.03,  -7.06,  -6.99],\n",
      "          [ -9.6 ,  -9.83, -10.06, ...,  -8.85,  -7.97,  -7.37]]],\n",
      "\n",
      "\n",
      "        [[[  2.83,   2.7 ,   2.6 , ...,   6.38,   4.16,   1.26],\n",
      "          [ -0.55,  -1.43,  -2.07, ...,   2.93,   1.74,   1.66],\n",
      "          [ -3.39,  -3.93,  -4.22, ...,  -4.17,  -2.99,  -1.12],\n",
      "          ...,\n",
      "          [ -7.73,  -7.51,  -8.18, ...,  -6.1 ,  -5.79,  -5.88],\n",
      "          [ -7.4 ,  -7.81,  -8.74, ...,  -7.26,  -7.2 ,  -7.36],\n",
      "          [ -7.83,  -8.67,  -9.37, ...,  -8.54,  -8.52,  -8.15]]],\n",
      "\n",
      "\n",
      "        [[[  3.8 ,   3.82,   3.83, ...,   7.27,   4.14,   0.74],\n",
      "          [  1.09,   0.65,   0.27, ...,   4.15,   2.32,   0.71],\n",
      "          [ -1.97,  -1.64,  -1.33, ...,  -4.19,  -3.3 ,  -2.26],\n",
      "          ...,\n",
      "          [ -8.09,  -7.6 ,  -6.86, ...,  -6.6 ,  -6.07,  -5.84],\n",
      "          [ -7.41,  -7.56,  -7.11, ...,  -7.2 ,  -6.57,  -6.23],\n",
      "          [ -6.52,  -7.22,  -7.63, ...,  -7.74,  -7.24,  -6.93]]]],\n",
      "  mask=False,\n",
      "  fill_value=1e+20,\n",
      "  dtype=float32), 'V-component_of_wind': masked_array(\n",
      "  data=[[[[-6.370e+00, -6.130e+00, -5.930e+00, ..., -1.370e+00,\n",
      "           -2.330e+00, -2.860e+00],\n",
      "          [-6.450e+00, -5.940e+00, -5.540e+00, ..., -3.920e+00,\n",
      "           -5.850e+00, -7.020e+00],\n",
      "          [-6.150e+00, -5.540e+00, -4.620e+00, ..., -8.950e+00,\n",
      "           -1.035e+01, -1.054e+01],\n",
      "          ...,\n",
      "          [ 4.900e-01,  1.260e+00,  1.870e+00, ...,  5.420e+00,\n",
      "            5.930e+00,  6.070e+00],\n",
      "          [-1.270e+00, -1.160e+00, -5.300e-01, ...,  5.580e+00,\n",
      "            6.010e+00,  6.320e+00],\n",
      "          [-1.220e+00, -2.170e+00, -1.590e+00, ...,  6.250e+00,\n",
      "            6.360e+00,  6.260e+00]]],\n",
      "\n",
      "\n",
      "        [[[-6.010e+00, -5.890e+00, -5.760e+00, ..., -1.400e+00,\n",
      "           -2.180e+00, -1.790e+00],\n",
      "          [-6.320e+00, -5.860e+00, -5.540e+00, ..., -4.470e+00,\n",
      "           -5.880e+00, -5.570e+00],\n",
      "          [-5.970e+00, -5.220e+00, -4.230e+00, ..., -1.087e+01,\n",
      "           -1.113e+01, -9.180e+00],\n",
      "          ...,\n",
      "          [ 1.300e-01,  5.300e-01,  6.000e-01, ...,  6.890e+00,\n",
      "            6.460e+00,  6.240e+00],\n",
      "          [-1.460e+00, -1.600e+00, -1.850e+00, ...,  6.830e+00,\n",
      "            6.410e+00,  6.280e+00],\n",
      "          [-1.960e+00, -1.680e+00, -1.920e+00, ...,  6.110e+00,\n",
      "            6.180e+00,  6.160e+00]]],\n",
      "\n",
      "\n",
      "        [[[-6.020e+00, -5.880e+00, -5.710e+00, ..., -2.750e+00,\n",
      "           -2.780e+00, -1.090e+00],\n",
      "          [-6.260e+00, -5.860e+00, -5.500e+00, ..., -1.820e+00,\n",
      "           -1.210e+00,  8.000e-02],\n",
      "          [-5.900e+00, -5.330e+00, -4.200e+00, ..., -3.540e+00,\n",
      "           -3.170e+00, -1.930e+00],\n",
      "          ...,\n",
      "          [ 1.200e+00,  1.640e+00,  2.180e+00, ...,  6.670e+00,\n",
      "            6.530e+00,  6.540e+00],\n",
      "          [ 7.900e-01,  6.200e-01,  6.700e-01, ...,  6.930e+00,\n",
      "            6.550e+00,  6.250e+00],\n",
      "          [ 1.100e+00,  1.340e+00,  9.100e-01, ...,  6.110e+00,\n",
      "            6.500e+00,  6.160e+00]]],\n",
      "\n",
      "\n",
      "        ...,\n",
      "\n",
      "\n",
      "        [[[ 2.410e+00,  2.620e+00,  2.760e+00, ..., -8.760e+00,\n",
      "           -1.125e+01, -1.084e+01],\n",
      "          [-9.300e-01, -9.900e-01, -6.500e-01, ..., -1.121e+01,\n",
      "           -1.231e+01, -1.237e+01],\n",
      "          [-6.550e+00, -4.250e+00, -1.000e+00, ..., -8.940e+00,\n",
      "           -1.057e+01, -1.046e+01],\n",
      "          ...,\n",
      "          [ 5.100e-01,  5.800e-01,  5.000e-01, ...,  4.330e+00,\n",
      "            4.790e+00,  5.140e+00],\n",
      "          [ 3.500e-01,  1.400e-01,  1.900e-01, ...,  4.810e+00,\n",
      "            5.520e+00,  5.910e+00],\n",
      "          [ 1.400e-01,  8.100e-01,  8.800e-01, ...,  4.700e+00,\n",
      "            5.040e+00,  5.180e+00]]],\n",
      "\n",
      "\n",
      "        [[[ 1.720e+00,  2.040e+00,  2.170e+00, ..., -1.210e+01,\n",
      "           -1.502e+01, -1.371e+01],\n",
      "          [-7.200e-01, -7.300e-01, -5.200e-01, ..., -1.682e+01,\n",
      "           -1.730e+01, -1.625e+01],\n",
      "          [-6.780e+00, -5.760e+00, -3.530e+00, ..., -1.840e+01,\n",
      "           -1.758e+01, -1.479e+01],\n",
      "          ...,\n",
      "          [ 5.800e-01,  8.500e-01,  1.110e+00, ...,  3.210e+00,\n",
      "            3.490e+00,  3.250e+00],\n",
      "          [ 3.100e-01,  1.260e+00,  1.710e+00, ...,  3.420e+00,\n",
      "            4.090e+00,  5.170e+00],\n",
      "          [ 1.000e-02,  1.430e+00,  2.170e+00, ...,  4.790e+00,\n",
      "            5.000e+00,  5.110e+00]]],\n",
      "\n",
      "\n",
      "        [[[ 8.600e-01,  8.900e-01,  8.300e-01, ..., -9.420e+00,\n",
      "           -1.277e+01, -1.210e+01],\n",
      "          [-5.700e-01, -6.700e-01, -6.400e-01, ..., -1.708e+01,\n",
      "           -1.768e+01, -1.661e+01],\n",
      "          [-5.350e+00, -4.980e+00, -3.270e+00, ..., -2.310e+01,\n",
      "           -2.140e+01, -1.761e+01],\n",
      "          ...,\n",
      "          [ 1.400e-01,  1.700e-01,  2.800e-01, ...,  4.790e+00,\n",
      "            4.640e+00,  4.530e+00],\n",
      "          [-7.800e-01, -8.300e-01, -1.900e-01, ...,  4.140e+00,\n",
      "            4.220e+00,  4.480e+00],\n",
      "          [-1.370e+00, -1.130e+00,  0.000e+00, ...,  4.740e+00,\n",
      "            5.160e+00,  5.800e+00]]]],\n",
      "  mask=False,\n",
      "  fill_value=1e+20,\n",
      "  dtype=float32)}\n",
      "[[ 1.3135392e+09  1.3145760e+09]\n",
      " [ 1.0000000e+05  1.0000000e+05]\n",
      " [ 7.6000000e+01 -8.0000000e+00]\n",
      " [ 2.3400000e+02  3.4300000e+02]]\n"
     ]
    },
    {
     "ename": "RuntimeError",
     "evalue": "",
     "output_type": "error",
     "traceback": [
      "\u001b[0;31m---------------------------------------------------------------------------\u001b[0m",
      "\u001b[0;31mRuntimeError\u001b[0m                              Traceback (most recent call last)",
      "\u001b[0;32m/var/folders/5y/htsjngjd7nd_3ddqv2q24ynh0000gq/T/ipykernel_2652/2496893726.py\u001b[0m in \u001b[0;36m<module>\u001b[0;34m\u001b[0m\n\u001b[1;32m      9\u001b[0m ds = yt.load_uniform_grid(data, domain_dimensions = (time.shape[0], pressure.shape[0], latitude.shape[0], longitude.shape[0]),\n\u001b[1;32m     10\u001b[0m                           \u001b[0mbbox\u001b[0m \u001b[0;34m=\u001b[0m \u001b[0mbbox\u001b[0m\u001b[0;34m,\u001b[0m \u001b[0mlength_unit\u001b[0m\u001b[0;34m=\u001b[0m\u001b[0;36m1000\u001b[0m\u001b[0;34m,\u001b[0m\u001b[0;34m\u001b[0m\u001b[0;34m\u001b[0m\u001b[0m\n\u001b[0;32m---> 11\u001b[0;31m                           geometry = ('cartesian', ('latitude', 'longitude')))\n\u001b[0m\u001b[1;32m     12\u001b[0m \u001b[0;34m\u001b[0m\u001b[0m\n\u001b[1;32m     13\u001b[0m \u001b[0mds\u001b[0m\u001b[0;34m.\u001b[0m\u001b[0mouter_radius\u001b[0m \u001b[0;34m=\u001b[0m \u001b[0myt\u001b[0m\u001b[0;34m.\u001b[0m\u001b[0munits\u001b[0m\u001b[0;34m.\u001b[0m\u001b[0mkm\u001b[0m \u001b[0;34m*\u001b[0m \u001b[0;36m6371\u001b[0m\u001b[0;34m\u001b[0m\u001b[0;34m\u001b[0m\u001b[0m\n",
      "\u001b[0;32m~/.conda/envs/DataViz/lib/python3.7/site-packages/yt/loaders.py\u001b[0m in \u001b[0;36mload_uniform_grid\u001b[0;34m(data, domain_dimensions, length_unit, bbox, nprocs, sim_time, mass_unit, time_unit, velocity_unit, magnetic_unit, periodicity, geometry, unit_system, default_species_fields)\u001b[0m\n\u001b[1;32m    260\u001b[0m     \u001b[0;31m# and check for consistency of field shapes\u001b[0m\u001b[0;34m\u001b[0m\u001b[0;34m\u001b[0m\u001b[0;34m\u001b[0m\u001b[0m\n\u001b[1;32m    261\u001b[0m     field_units, data, number_of_particles = process_data(\n\u001b[0;32m--> 262\u001b[0;31m         \u001b[0mdata\u001b[0m\u001b[0;34m,\u001b[0m \u001b[0mgrid_dims\u001b[0m\u001b[0;34m=\u001b[0m\u001b[0mtuple\u001b[0m\u001b[0;34m(\u001b[0m\u001b[0mdomain_dimensions\u001b[0m\u001b[0;34m)\u001b[0m\u001b[0;34m\u001b[0m\u001b[0;34m\u001b[0m\u001b[0m\n\u001b[0m\u001b[1;32m    263\u001b[0m     )\n\u001b[1;32m    264\u001b[0m \u001b[0;34m\u001b[0m\u001b[0m\n",
      "\u001b[0;32m~/.conda/envs/DataViz/lib/python3.7/site-packages/yt/frontends/stream/definitions.py\u001b[0m in \u001b[0;36mprocess_data\u001b[0;34m(data, grid_dims)\u001b[0m\n\u001b[1;32m    186\u001b[0m             \u001b[0mnew_field\u001b[0m \u001b[0;34m=\u001b[0m \u001b[0;34m(\u001b[0m\u001b[0;34m\"stream\"\u001b[0m\u001b[0;34m,\u001b[0m \u001b[0mfield\u001b[0m\u001b[0;34m)\u001b[0m\u001b[0;34m\u001b[0m\u001b[0;34m\u001b[0m\u001b[0m\n\u001b[1;32m    187\u001b[0m         \u001b[0;32melse\u001b[0m\u001b[0;34m:\u001b[0m\u001b[0;34m\u001b[0m\u001b[0;34m\u001b[0m\u001b[0m\n\u001b[0;32m--> 188\u001b[0;31m             \u001b[0;32mraise\u001b[0m \u001b[0mRuntimeError\u001b[0m\u001b[0;34m\u001b[0m\u001b[0;34m\u001b[0m\u001b[0m\n\u001b[0m\u001b[1;32m    189\u001b[0m         \u001b[0mnew_data\u001b[0m\u001b[0;34m[\u001b[0m\u001b[0mnew_field\u001b[0m\u001b[0;34m]\u001b[0m \u001b[0;34m=\u001b[0m \u001b[0mdata\u001b[0m\u001b[0;34m[\u001b[0m\u001b[0mfield\u001b[0m\u001b[0;34m]\u001b[0m\u001b[0;34m\u001b[0m\u001b[0;34m\u001b[0m\u001b[0m\n\u001b[1;32m    190\u001b[0m         \u001b[0mfield_units\u001b[0m\u001b[0;34m[\u001b[0m\u001b[0mnew_field\u001b[0m\u001b[0;34m]\u001b[0m \u001b[0;34m=\u001b[0m \u001b[0mfield_units\u001b[0m\u001b[0;34m.\u001b[0m\u001b[0mpop\u001b[0m\u001b[0;34m(\u001b[0m\u001b[0mfield\u001b[0m\u001b[0;34m)\u001b[0m\u001b[0;34m\u001b[0m\u001b[0;34m\u001b[0m\u001b[0m\n",
      "\u001b[0;31mRuntimeError\u001b[0m: "
     ]
    }
   ],
   "source": [
    "data = {v: nc_dataset.variables[v][::-1,::-1,:] for v in v_names}\n",
    "print(data)\n",
    "bbox = np.array([[time[0], time[-1]],\n",
    "                 [pressure[0],pressure[-1]],\n",
    "                [latitude[0], latitude[-1]],\n",
    "                [longitude[0],longitude[-1]]])\n",
    "print(bbox)\n",
    "\n",
    "ds = yt.load_uniform_grid(data, domain_dimensions = (time.shape[0], pressure.shape[0], latitude.shape[0], longitude.shape[0]),\n",
    "                          bbox = bbox, length_unit=1000,\n",
    "                          geometry = ('cartesian', ('latitude', 'longitude')))\n",
    "\n",
    "ds.outer_radius = yt.units.km * 6371"
   ]
  },
  {
   "cell_type": "code",
   "execution_count": null,
   "id": "626f2cf3",
   "metadata": {},
   "outputs": [],
   "source": []
  }
 ],
 "metadata": {
  "kernelspec": {
   "display_name": "Python 3 (ipykernel)",
   "language": "python",
   "name": "python3"
  },
  "language_info": {
   "codemirror_mode": {
    "name": "ipython",
    "version": 3
   },
   "file_extension": ".py",
   "mimetype": "text/x-python",
   "name": "python",
   "nbconvert_exporter": "python",
   "pygments_lexer": "ipython3",
   "version": "3.7.12"
  }
 },
 "nbformat": 4,
 "nbformat_minor": 5
}
