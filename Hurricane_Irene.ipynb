{
 "cells": [
  {
   "cell_type": "code",
   "execution_count": 1,
   "id": "2f48ee62",
   "metadata": {},
   "outputs": [],
   "source": [
    "import yt\n",
    "import netCDF4 as nc\n",
    "import matplotlib.pyplot as plt\n",
    "import pygrib\n",
    "import pandas as pd\n",
    "import xarray as xr\n",
    "import cfgrib\n",
    "import ipywidgets\n",
    "import numpy as np"
   ]
  },
  {
   "cell_type": "markdown",
   "id": "1949f87c",
   "metadata": {},
   "source": [
    "https://ramadda.unidata.ucar.edu/repository/entry/getentries"
   ]
  },
  {
   "cell_type": "code",
   "execution_count": 9,
   "id": "76757ac9",
   "metadata": {},
   "outputs": [],
   "source": [
    "irene = nc.Dataset('data/Hurricane_Irene/GFS1.0degreeModelOutput/ireneFlowVector1000.nc')"
   ]
  },
  {
   "cell_type": "code",
   "execution_count": 10,
   "id": "7bc0ff19",
   "metadata": {},
   "outputs": [
    {
     "data": {
      "text/plain": [
       "<class 'netCDF4._netCDF4.Dataset'>\n",
       "root group (NETCDF3_CLASSIC data model, file format NETCDF3):\n",
       "    Conventions: CF-1.X\n",
       "    History: Translated from VisAD grid to CF-1.X Conventions by IDV\n",
       "Original Dataset = (Time -> ((lon[unit:degrees_east], lat[unit:degrees_north], pressure[unit:Pa]) -> (U-component_of_wind[unit:m_s-1]_2, V-component_of_wind[unit:m_s-1]_2)))\n",
       "Translation Date = Thu Sep 01 13:11:22 MDT 2011\n",
       "    dimensions(sizes): time(49), lon(110), lat(85), pressure(1)\n",
       "    variables(dimensions): float64 time(time), float32 lon(lon), float32 lat(lat), float32 pressure(pressure), float32 U-component_of_wind(time, pressure, lat, lon), float32 V-component_of_wind(time, pressure, lat, lon)\n",
       "    groups: "
      ]
     },
     "execution_count": 10,
     "metadata": {},
     "output_type": "execute_result"
    }
   ],
   "source": [
    "irene"
   ]
  },
  {
   "cell_type": "code",
   "execution_count": 11,
   "id": "0964b261",
   "metadata": {},
   "outputs": [
    {
     "data": {
      "text/plain": [
       "{'time': <class 'netCDF4._netCDF4.Variable'>\n",
       " float64 time(time)\n",
       "     units: s since 1970-01-01 00:00:00.000 UTC\n",
       " unlimited dimensions: \n",
       " current shape = (49,)\n",
       " filling on, default _FillValue of 9.969209968386869e+36 used,\n",
       " 'lon': <class 'netCDF4._netCDF4.Variable'>\n",
       " float32 lon(lon)\n",
       "     units: degrees_east\n",
       "     long_name: longitude coordinate\n",
       "     standard_name: longitude\n",
       " unlimited dimensions: \n",
       " current shape = (110,)\n",
       " filling on, default _FillValue of 9.969209968386869e+36 used,\n",
       " 'lat': <class 'netCDF4._netCDF4.Variable'>\n",
       " float32 lat(lat)\n",
       "     units: degrees_north\n",
       "     long_name: latitude coordinate\n",
       "     standard_name: latitude\n",
       " unlimited dimensions: \n",
       " current shape = (85,)\n",
       " filling on, default _FillValue of 9.969209968386869e+36 used,\n",
       " 'pressure': <class 'netCDF4._netCDF4.Variable'>\n",
       " float32 pressure(pressure)\n",
       "     units: Pa\n",
       "     positive: down\n",
       " unlimited dimensions: \n",
       " current shape = (1,)\n",
       " filling on, default _FillValue of 9.969209968386869e+36 used,\n",
       " 'U-component_of_wind': <class 'netCDF4._netCDF4.Variable'>\n",
       " float32 U-component_of_wind(time, pressure, lat, lon)\n",
       "     units: m s-1\n",
       " unlimited dimensions: \n",
       " current shape = (49, 1, 85, 110)\n",
       " filling on, default _FillValue of 9.969209968386869e+36 used,\n",
       " 'V-component_of_wind': <class 'netCDF4._netCDF4.Variable'>\n",
       " float32 V-component_of_wind(time, pressure, lat, lon)\n",
       "     units: m s-1\n",
       " unlimited dimensions: \n",
       " current shape = (49, 1, 85, 110)\n",
       " filling on, default _FillValue of 9.969209968386869e+36 used}"
      ]
     },
     "execution_count": 11,
     "metadata": {},
     "output_type": "execute_result"
    }
   ],
   "source": [
    "irene.variables"
   ]
  },
  {
   "cell_type": "code",
   "execution_count": 12,
   "id": "bc93a987",
   "metadata": {},
   "outputs": [],
   "source": [
    "ireneNAM = nc.Dataset('data/Hurricane_Irene/NAM12kmModelSubset/ireneNAMFlowVector500.nc')\n",
    "ireneNAM2 = nc.Dataset('data/Hurricane_Irene/NAM12kmModelSubset/ireneNAMFlowVector1000.nc')"
   ]
  },
  {
   "cell_type": "code",
   "execution_count": 13,
   "id": "688e2229",
   "metadata": {},
   "outputs": [
    {
     "data": {
      "text/plain": [
       "<class 'netCDF4._netCDF4.Dataset'>\n",
       "root group (NETCDF3_CLASSIC data model, file format NETCDF3):\n",
       "    Conventions: CF-1.X\n",
       "    History: Translated from VisAD grid to CF-1.X Conventions by IDV\n",
       "Original Dataset = (Time -> ((x[unit:km], y[unit:km], pressure[unit:Pa]) -> (U-component_of_wind[unit:m_s-1]_26, V-component_of_wind[unit:m_s-1]_26)))\n",
       "Translation Date = Thu Sep 01 14:15:21 MDT 2011\n",
       "    dimensions(sizes): time(40), x(103), y(72), pressure(1)\n",
       "    variables(dimensions): float64 time(time), float32 x(x), float32 y(y), |S1 lambert_conformal_conic(), float32 pressure(pressure), float32 U-component_of_wind(time, pressure, y, x), float32 V-component_of_wind(time, pressure, y, x)\n",
       "    groups: "
      ]
     },
     "execution_count": 13,
     "metadata": {},
     "output_type": "execute_result"
    }
   ],
   "source": [
    "ireneNAM"
   ]
  },
  {
   "cell_type": "code",
   "execution_count": 14,
   "id": "717b247b",
   "metadata": {},
   "outputs": [
    {
     "data": {
      "text/plain": [
       "masked_array(\n",
       "  data=[[[[ -0.64027405,   0.10972595,  -0.14027405, ...,  -7.390274  ,\n",
       "            -7.640274  ,  -6.765274  ],\n",
       "          [ -1.265274  ,  -0.64027405,  -1.140274  , ...,  -6.765274  ,\n",
       "            -6.640274  ,  -5.765274  ],\n",
       "          [ -1.515274  ,  -1.140274  ,  -1.890274  , ...,  -6.140274  ,\n",
       "            -5.765274  ,  -4.640274  ],\n",
       "          ...,\n",
       "          [ 10.859726  ,  11.234726  ,  11.609726  , ...,  -6.015274  ,\n",
       "            -5.765274  ,  -5.015274  ],\n",
       "          [ 11.234726  ,  11.984726  ,  12.609726  , ...,  -4.390274  ,\n",
       "            -3.640274  ,  -2.890274  ],\n",
       "          [ 11.234726  ,  12.359726  ,  13.359726  , ...,  -2.640274  ,\n",
       "            -1.890274  ,  -1.515274  ]]],\n",
       "\n",
       "\n",
       "        [[[  1.0275116 ,   2.0275116 ,   0.5275116 , ...,  -7.0974884 ,\n",
       "            -4.9724884 ,  -3.7224884 ],\n",
       "          [  0.4025116 ,   0.7775116 ,  -1.4724884 , ...,  -6.5974884 ,\n",
       "            -4.2224884 ,  -3.4724884 ],\n",
       "          [ -0.2224884 ,  -0.5974884 ,  -2.9724884 , ...,  -5.4724884 ,\n",
       "            -3.8474884 ,  -3.5974884 ],\n",
       "          ...,\n",
       "          [ 10.777512  ,  10.152512  ,   9.902512  , ...,  -5.7224884 ,\n",
       "            -5.2224884 ,  -4.8474884 ],\n",
       "          [ 11.027512  ,  10.652512  ,  10.277512  , ...,  -3.9724884 ,\n",
       "            -3.0974884 ,  -2.2224884 ],\n",
       "          [ 10.027512  ,   9.902512  ,   9.277512  , ...,  -2.7224884 ,\n",
       "            -1.8474884 ,  -0.7224884 ]]],\n",
       "\n",
       "\n",
       "        [[[ -0.39275455,  -1.5177546 ,  -3.7677546 , ...,  -4.2677546 ,\n",
       "            -5.8927546 ,  -7.7677546 ],\n",
       "          [ -1.5177546 ,  -3.3927546 ,  -3.8927546 , ...,  -4.8927546 ,\n",
       "            -6.6427546 ,  -8.642755  ],\n",
       "          [ -2.6427546 ,  -3.7677546 ,  -3.8927546 , ...,  -4.8927546 ,\n",
       "            -6.7677546 ,  -8.642755  ],\n",
       "          ...,\n",
       "          [  8.232245  ,   7.3572454 ,   7.2322454 , ..., -10.017755  ,\n",
       "            -8.517755  ,  -6.8927546 ],\n",
       "          [  8.107245  ,   8.107245  ,   8.482245  , ...,  -6.2677546 ,\n",
       "            -4.7677546 ,  -3.3927546 ],\n",
       "          [  8.357245  ,   8.607245  ,   9.232245  , ...,  -3.1427546 ,\n",
       "            -1.8927546 ,  -0.76775455]]],\n",
       "\n",
       "\n",
       "        ...,\n",
       "\n",
       "\n",
       "        [[[ -5.852353  ,  -4.977353  ,  -4.102353  , ...,  -9.352353  ,\n",
       "           -10.227353  , -10.477353  ],\n",
       "          [ -6.477353  ,  -5.477353  ,  -4.227353  , ...,  -9.227353  ,\n",
       "           -10.352353  ,  -9.602353  ],\n",
       "          [ -6.352353  ,  -5.352353  ,  -4.102353  , ...,  -8.227353  ,\n",
       "            -8.852353  ,  -8.352353  ],\n",
       "          ...,\n",
       "          [  2.397647  ,   3.397647  ,   5.147647  , ...,   7.022647  ,\n",
       "             8.147647  ,   8.897647  ],\n",
       "          [  2.022647  ,   3.397647  ,   4.772647  , ...,   7.772647  ,\n",
       "             8.897647  ,  10.147647  ],\n",
       "          [  2.397647  ,   3.897647  ,   4.647647  , ...,   8.522647  ,\n",
       "             9.897647  ,  10.647647  ]]],\n",
       "\n",
       "\n",
       "        [[[ -3.9128942 ,  -2.7878942 ,  -1.9128942 , ...,  -8.162894  ,\n",
       "            -7.6628942 ,  -7.6628942 ],\n",
       "          [ -3.6628942 ,  -2.6628942 ,  -2.1628942 , ...,  -7.5378942 ,\n",
       "            -7.5378942 ,  -7.1628942 ],\n",
       "          [ -3.6628942 ,  -2.7878942 ,  -2.4128942 , ...,  -6.7878942 ,\n",
       "            -6.6628942 ,  -6.1628942 ],\n",
       "          ...,\n",
       "          [  5.7121058 ,   4.9621058 ,   6.0871058 , ...,   6.2121058 ,\n",
       "             7.5871058 ,   8.337106  ],\n",
       "          [  4.0871058 ,   4.8371058 ,   6.0871058 , ...,   6.7121058 ,\n",
       "             7.9621058 ,   8.962106  ],\n",
       "          [  2.4621058 ,   4.4621058 ,   6.0871058 , ...,   6.9621058 ,\n",
       "             8.337106  ,   9.587106  ]]],\n",
       "\n",
       "\n",
       "        [[[ -3.1557007 ,  -2.1557007 ,  -1.1557007 , ...,  -7.7807007 ,\n",
       "            -7.4057007 ,  -7.0307007 ],\n",
       "          [ -3.1557007 ,  -2.1557007 ,  -1.4057007 , ...,  -6.9057007 ,\n",
       "            -6.4057007 ,  -6.2807007 ],\n",
       "          [ -2.9057007 ,  -2.0307007 ,  -1.7807007 , ...,  -6.1557007 ,\n",
       "            -6.0307007 ,  -5.9057007 ],\n",
       "          ...,\n",
       "          [  8.594299  ,   7.3442993 ,   7.4692993 , ...,  -0.5307007 ,\n",
       "             1.0942993 ,   2.7192993 ],\n",
       "          [  7.3442993 ,   6.2192993 ,   6.0942993 , ...,   0.46929932,\n",
       "             1.7192993 ,   3.3442993 ],\n",
       "          [  5.4692993 ,   4.7192993 ,   4.5942993 , ...,   1.9692993 ,\n",
       "             2.7192993 ,   4.0942993 ]]]],\n",
       "  mask=False,\n",
       "  fill_value=1e+20,\n",
       "  dtype=float32)"
      ]
     },
     "execution_count": 14,
     "metadata": {},
     "output_type": "execute_result"
    }
   ],
   "source": [
    "ireneNAM2.variables['U-component_of_wind'][::]"
   ]
  },
  {
   "cell_type": "code",
   "execution_count": 15,
   "id": "92d1ac4d",
   "metadata": {},
   "outputs": [
    {
     "data": {
      "text/plain": [
       "masked_array(\n",
       "  data=[[[ -6.734833 ,  -6.984833 ,  -7.359833 , ...,  -8.234833 ,\n",
       "           -8.234833 ,  -7.984833 ],\n",
       "         [ -6.484833 ,  -6.734833 ,  -6.984833 , ...,  -8.609833 ,\n",
       "           -9.609833 , -10.109833 ],\n",
       "         [ -6.609833 ,  -6.484833 ,  -6.234833 , ...,  -7.859833 ,\n",
       "           -8.609833 ,  -9.609833 ],\n",
       "         ...,\n",
       "         [ 22.265167 ,  22.390167 ,  22.140167 , ...,   9.015167 ,\n",
       "            6.890167 ,   6.390167 ],\n",
       "         [ 20.890167 ,  21.515167 ,  21.390167 , ...,   5.390167 ,\n",
       "            5.015167 ,   5.765167 ],\n",
       "         [ 20.015167 ,  20.515167 ,  20.890167 , ...,   3.7651672,\n",
       "            4.515167 ,   4.515167 ]]],\n",
       "  mask=False,\n",
       "  fill_value=1e+20,\n",
       "  dtype=float32)"
      ]
     },
     "execution_count": 15,
     "metadata": {},
     "output_type": "execute_result"
    }
   ],
   "source": [
    "ireneNAM.variables['U-component_of_wind'][0]"
   ]
  },
  {
   "cell_type": "code",
   "execution_count": 61,
   "id": "733cec7f",
   "metadata": {},
   "outputs": [
    {
     "data": {
      "text/plain": [
       "<class 'netCDF4._netCDF4.Variable'>\n",
       "float64 time(time)\n",
       "    units: s since 1970-01-01 00:00:00.000 UTC\n",
       "unlimited dimensions: \n",
       "current shape = (40,)\n",
       "filling on, default _FillValue of 9.969209968386869e+36 used"
      ]
     },
     "execution_count": 61,
     "metadata": {},
     "output_type": "execute_result"
    }
   ],
   "source": [
    "ireneNAM['time']"
   ]
  },
  {
   "cell_type": "markdown",
   "id": "216eec50",
   "metadata": {},
   "source": [
    "# trying yt before talking to Matt"
   ]
  },
  {
   "cell_type": "code",
   "execution_count": 120,
   "id": "c69783df",
   "metadata": {},
   "outputs": [],
   "source": [
    "data_filename = 'data/Hurricane_Irene/GFS1.0degreeModelOutput/ireneFlowVector1000.nc'\n",
    "\n",
    "nc_dataset = nc.Dataset(data_filename, 'r+')\n",
    "latitude = nc_dataset.variables['lat'][:]\n",
    "longitude = nc_dataset.variables['lon'][:]\n",
    "time = nc_dataset.variables['time'][:]\n"
   ]
  },
  {
   "cell_type": "code",
   "execution_count": 121,
   "id": "d96bd4ee",
   "metadata": {},
   "outputs": [
    {
     "name": "stdout",
     "output_type": "stream",
     "text": [
      "U-component_of_wind\n",
      "<class 'netCDF4._netCDF4.Variable'>\n",
      "float32 U-component_of_wind(time, pressure, lat, lon)\n",
      "    units: m s-1\n",
      "unlimited dimensions: \n",
      "current shape = (49, 1, 85, 110)\n",
      "filling on, default _FillValue of 9.969209968386869e+36 used\n",
      "V-component_of_wind\n",
      "<class 'netCDF4._netCDF4.Variable'>\n",
      "float32 V-component_of_wind(time, pressure, lat, lon)\n",
      "    units: m s-1\n",
      "unlimited dimensions: \n",
      "current shape = (49, 1, 85, 110)\n",
      "filling on, default _FillValue of 9.969209968386869e+36 used\n"
     ]
    }
   ],
   "source": [
    "v_names = ['U-component_of_wind', 'V-component_of_wind']\n",
    "\n",
    "for v in v_names:\n",
    "    print(v)\n",
    "    print(nc_dataset.variables[v])"
   ]
  },
  {
   "cell_type": "code",
   "execution_count": 122,
   "id": "4578586d",
   "metadata": {},
   "outputs": [
    {
     "name": "stdout",
     "output_type": "stream",
     "text": [
      "<class 'netCDF4._netCDF4.Variable'>\n",
      "float32 pressure(pressure)\n",
      "    units: Pa\n",
      "    positive: down\n",
      "unlimited dimensions: \n",
      "current shape = (1,)\n",
      "filling on, default _FillValue of 9.969209968386869e+36 used\n",
      "dict_keys(['time', 'lon', 'lat', 'pressure', 'U-component_of_wind', 'V-component_of_wind'])\n"
     ]
    }
   ],
   "source": [
    "print(nc_dataset.variables[\"pressure\"])\n",
    "\n",
    "print(nc_dataset.variables.keys())"
   ]
  },
  {
   "cell_type": "code",
   "execution_count": 123,
   "id": "bbfb377b",
   "metadata": {},
   "outputs": [
    {
     "name": "stdout",
     "output_type": "stream",
     "text": [
      "(49, 85, 110)\n",
      "(49, 85, 110)\n"
     ]
    }
   ],
   "source": [
    "data = {v: nc_dataset.variables[v][::-1,::-1,:] for v in v_names}\n",
    "\n",
    "for i in data:\n",
    "    data[i].shape = (data[i].shape[0], data[i].shape[2], data[i].shape[3])\n",
    "    print(data[i].shape)"
   ]
  },
  {
   "cell_type": "code",
   "execution_count": 136,
   "id": "eb140470",
   "metadata": {},
   "outputs": [
    {
     "name": "stderr",
     "output_type": "stream",
     "text": [
      "yt : [INFO     ] 2022-06-13 16:07:28,395 Parameters: current_time              = 0.0\n",
      "yt : [INFO     ] 2022-06-13 16:07:28,396 Parameters: domain_dimensions         = [ 49  85 110]\n",
      "yt : [INFO     ] 2022-06-13 16:07:28,397 Parameters: domain_left_edge          = [1.3135392e+09 7.6000000e+01 2.3400000e+02]\n",
      "yt : [INFO     ] 2022-06-13 16:07:28,397 Parameters: domain_right_edge         = [ 1.314576e+09 -8.000000e+00  3.430000e+02]\n",
      "yt : [INFO     ] 2022-06-13 16:07:28,398 Parameters: cosmological_simulation   = 0\n"
     ]
    },
    {
     "name": "stdout",
     "output_type": "stream",
     "text": [
      "[[ 1.3135392e+09  1.3145760e+09]\n",
      " [ 7.6000000e+01 -8.0000000e+00]\n",
      " [ 2.3400000e+02  3.4300000e+02]]\n"
     ]
    }
   ],
   "source": [
    "\n",
    "bbox = np.array([[time[0], time[-1]],\n",
    "                [latitude[0], latitude[-1]],\n",
    "                [longitude[0],longitude[-1]]])\n",
    "print(bbox)\n",
    "ds = yt.load_uniform_grid(data, domain_dimensions = (time.shape[0], latitude.shape[0], longitude.shape[0]),\n",
    "                          bbox = bbox, time_unit='s',\n",
    "                          geometry = ('cartesian', ('time', 'latitude', 'longitude')))\n",
    "\n",
    "# ds.outer_radius = yt.units.km"
   ]
  },
  {
   "cell_type": "code",
   "execution_count": 125,
   "id": "1a009c23",
   "metadata": {},
   "outputs": [
    {
     "data": {
      "text/plain": [
       "[<matplotlib.lines.Line2D at 0x7f8386c45b90>]"
      ]
     },
     "execution_count": 125,
     "metadata": {},
     "output_type": "execute_result"
    },
    {
     "data": {
      "image/png": "[encoded data removed]",
      "text/plain": [
       "<Figure size 432x288 with 1 Axes>"
      ]
     },
     "metadata": {
      "needs_background": "light"
     },
     "output_type": "display_data"
    }
   ],
   "source": [
    "plt.plot(time)"
   ]
  },
  {
   "cell_type": "code",
   "execution_count": 126,
   "id": "e209c662",
   "metadata": {},
   "outputs": [
    {
     "data": {
      "application/vnd.jupyter.widget-view+json": {
       "model_id": "f48a8c0a186c4849a8e039c9adb0b92a",
       "version_major": 2,
       "version_minor": 0
      },
      "text/plain": [
       "HBox(children=(Text(value='1036800.0', disabled=True), Text(value='-84.0', disabled=True), Text(value='109.0',…"
      ]
     },
     "metadata": {},
     "output_type": "display_data"
    }
   ],
   "source": [
    "ds.domain_width"
   ]
  },
  {
   "cell_type": "code",
   "execution_count": 127,
   "id": "ec86f65c",
   "metadata": {},
   "outputs": [
    {
     "data": {
      "application/vnd.jupyter.widget-view+json": {
       "model_id": "49640a780374499098a8c73737422d7e",
       "version_major": 2,
       "version_minor": 0
      },
      "text/plain": [
       "HBox(children=(Text(value='1313539200.0', disabled=True), Text(value='76.0', disabled=True), Text(value='234.0…"
      ]
     },
     "metadata": {},
     "output_type": "display_data"
    }
   ],
   "source": [
    "ds.domain_left_edge"
   ]
  },
  {
   "cell_type": "code",
   "execution_count": 128,
   "id": "f44c6e09",
   "metadata": {},
   "outputs": [
    {
     "data": {
      "application/vnd.jupyter.widget-view+json": {
       "model_id": "ec112a4391744c69886b68b5bbc6ebb3",
       "version_major": 2,
       "version_minor": 0
      },
      "text/plain": [
       "HBox(children=(Text(value='1314576000.0', disabled=True), Text(value='-8.0', disabled=True), Text(value='343.0…"
      ]
     },
     "metadata": {},
     "output_type": "display_data"
    }
   ],
   "source": [
    "ds.domain_right_edge"
   ]
  },
  {
   "cell_type": "code",
   "execution_count": 129,
   "id": "622e441b",
   "metadata": {},
   "outputs": [
    {
     "data": {
      "text/plain": [
       "1036800.0"
      ]
     },
     "execution_count": 129,
     "metadata": {},
     "output_type": "execute_result"
    }
   ],
   "source": [
    "1314576000.0-1313539200.0"
   ]
  },
  {
   "cell_type": "code",
   "execution_count": 137,
   "id": "207fcc02",
   "metadata": {},
   "outputs": [
    {
     "ename": "KeyError",
     "evalue": "\"No field named ('index', 'dx')\"",
     "output_type": "error",
     "traceback": [
      "\u001b[0;31m---------------------------------------------------------------------------\u001b[0m",
      "\u001b[0;31mKeyError\u001b[0m                                  Traceback (most recent call last)",
      "\u001b[0;32m/var/folders/5y/htsjngjd7nd_3ddqv2q24ynh0000gq/T/ipykernel_3715/928297655.py\u001b[0m in \u001b[0;36m<module>\u001b[0;34m\u001b[0m\n\u001b[0;32m----> 1\u001b[0;31m \u001b[0mds\u001b[0m\u001b[0;34m.\u001b[0m\u001b[0mr\u001b[0m\u001b[0;34m[\u001b[0m\u001b[0;36m1314576000\u001b[0m\u001b[0;34m,\u001b[0m\u001b[0;34m:\u001b[0m\u001b[0;34m,\u001b[0m\u001b[0;34m:\u001b[0m\u001b[0;34m]\u001b[0m\u001b[0;34m.\u001b[0m\u001b[0mplot\u001b[0m\u001b[0;34m(\u001b[0m\u001b[0;34m\"U-component_of_wind\"\u001b[0m\u001b[0;34m)\u001b[0m\u001b[0;34m.\u001b[0m\u001b[0mset_mpl_projection\u001b[0m\u001b[0;34m(\u001b[0m\u001b[0;34m\"Mollweide\"\u001b[0m\u001b[0;34m)\u001b[0m\u001b[0;34m\u001b[0m\u001b[0;34m\u001b[0m\u001b[0m\n\u001b[0m",
      "\u001b[0;32m~/.conda/envs/DataViz/lib/python3.7/site-packages/yt/data_objects/region_expression.py\u001b[0m in \u001b[0;36m__getitem__\u001b[0;34m(self, item)\u001b[0m\n\u001b[1;32m     26\u001b[0m         \u001b[0;31m# that result in a rectangular prism or a slice.\u001b[0m\u001b[0;34m\u001b[0m\u001b[0;34m\u001b[0m\u001b[0;34m\u001b[0m\u001b[0m\n\u001b[1;32m     27\u001b[0m         \u001b[0;32mtry\u001b[0m\u001b[0;34m:\u001b[0m\u001b[0;34m\u001b[0m\u001b[0;34m\u001b[0m\u001b[0m\n\u001b[0;32m---> 28\u001b[0;31m             \u001b[0;32mreturn\u001b[0m \u001b[0mself\u001b[0m\u001b[0;34m.\u001b[0m\u001b[0mall_data\u001b[0m\u001b[0;34m[\u001b[0m\u001b[0mitem\u001b[0m\u001b[0;34m]\u001b[0m\u001b[0;34m\u001b[0m\u001b[0;34m\u001b[0m\u001b[0m\n\u001b[0m\u001b[1;32m     29\u001b[0m         \u001b[0;32mexcept\u001b[0m \u001b[0;34m(\u001b[0m\u001b[0mTypeError\u001b[0m\u001b[0;34m,\u001b[0m \u001b[0mYTFieldNotParseable\u001b[0m\u001b[0;34m)\u001b[0m\u001b[0;34m:\u001b[0m\u001b[0;34m\u001b[0m\u001b[0;34m\u001b[0m\u001b[0m\n\u001b[1;32m     30\u001b[0m             \u001b[0;32mpass\u001b[0m\u001b[0;34m\u001b[0m\u001b[0;34m\u001b[0m\u001b[0m\n",
      "\u001b[0;32m~/.conda/envs/DataViz/lib/python3.7/site-packages/yt/data_objects/region_expression.py\u001b[0m in \u001b[0;36mall_data\u001b[0;34m(self)\u001b[0m\n\u001b[1;32m     18\u001b[0m     \u001b[0;32mdef\u001b[0m \u001b[0mall_data\u001b[0m\u001b[0;34m(\u001b[0m\u001b[0mself\u001b[0m\u001b[0;34m)\u001b[0m\u001b[0;34m:\u001b[0m\u001b[0;34m\u001b[0m\u001b[0;34m\u001b[0m\u001b[0m\n\u001b[1;32m     19\u001b[0m         \u001b[0;32mif\u001b[0m \u001b[0mself\u001b[0m\u001b[0;34m.\u001b[0m\u001b[0m_all_data\u001b[0m \u001b[0;32mis\u001b[0m \u001b[0;32mNone\u001b[0m\u001b[0;34m:\u001b[0m\u001b[0;34m\u001b[0m\u001b[0;34m\u001b[0m\u001b[0m\n\u001b[0;32m---> 20\u001b[0;31m             \u001b[0mself\u001b[0m\u001b[0;34m.\u001b[0m\u001b[0m_all_data\u001b[0m \u001b[0;34m=\u001b[0m \u001b[0mself\u001b[0m\u001b[0;34m.\u001b[0m\u001b[0mds\u001b[0m\u001b[0;34m.\u001b[0m\u001b[0mall_data\u001b[0m\u001b[0;34m(\u001b[0m\u001b[0;34m)\u001b[0m\u001b[0;34m\u001b[0m\u001b[0;34m\u001b[0m\u001b[0m\n\u001b[0m\u001b[1;32m     21\u001b[0m         \u001b[0;32mreturn\u001b[0m \u001b[0mself\u001b[0m\u001b[0;34m.\u001b[0m\u001b[0m_all_data\u001b[0m\u001b[0;34m\u001b[0m\u001b[0;34m\u001b[0m\u001b[0m\n\u001b[1;32m     22\u001b[0m \u001b[0;34m\u001b[0m\u001b[0m\n",
      "\u001b[0;32m~/.conda/envs/DataViz/lib/python3.7/site-packages/yt/data_objects/static_output.py\u001b[0m in \u001b[0;36mall_data\u001b[0;34m(self, find_max, **kwargs)\u001b[0m\n\u001b[1;32m   1039\u001b[0m         \u001b[0mwhich\u001b[0m \u001b[0mcovers\u001b[0m \u001b[0mthe\u001b[0m \u001b[0mentire\u001b[0m \u001b[0msimulation\u001b[0m \u001b[0mdomain\u001b[0m\u001b[0;34m.\u001b[0m\u001b[0;34m\u001b[0m\u001b[0;34m\u001b[0m\u001b[0m\n\u001b[1;32m   1040\u001b[0m         \"\"\"\n\u001b[0;32m-> 1041\u001b[0;31m         \u001b[0mself\u001b[0m\u001b[0;34m.\u001b[0m\u001b[0mindex\u001b[0m\u001b[0;34m\u001b[0m\u001b[0;34m\u001b[0m\u001b[0m\n\u001b[0m\u001b[1;32m   1042\u001b[0m         \u001b[0;32mif\u001b[0m \u001b[0mfind_max\u001b[0m\u001b[0;34m:\u001b[0m\u001b[0;34m\u001b[0m\u001b[0;34m\u001b[0m\u001b[0m\n\u001b[1;32m   1043\u001b[0m             \u001b[0mc\u001b[0m \u001b[0;34m=\u001b[0m \u001b[0mself\u001b[0m\u001b[0;34m.\u001b[0m\u001b[0mfind_max\u001b[0m\u001b[0;34m(\u001b[0m\u001b[0;34m\"density\"\u001b[0m\u001b[0;34m)\u001b[0m\u001b[0;34m[\u001b[0m\u001b[0;36m1\u001b[0m\u001b[0;34m]\u001b[0m\u001b[0;34m\u001b[0m\u001b[0;34m\u001b[0m\u001b[0m\n",
      "\u001b[0;32m~/.conda/envs/DataViz/lib/python3.7/site-packages/yt/data_objects/static_output.py\u001b[0m in \u001b[0;36mindex\u001b[0;34m(self)\u001b[0m\n\u001b[1;32m    533\u001b[0m             \u001b[0moldsettings\u001b[0m \u001b[0;34m=\u001b[0m \u001b[0mnp\u001b[0m\u001b[0;34m.\u001b[0m\u001b[0mgeterr\u001b[0m\u001b[0;34m(\u001b[0m\u001b[0;34m)\u001b[0m\u001b[0;34m\u001b[0m\u001b[0;34m\u001b[0m\u001b[0m\n\u001b[1;32m    534\u001b[0m             \u001b[0mnp\u001b[0m\u001b[0;34m.\u001b[0m\u001b[0mseterr\u001b[0m\u001b[0;34m(\u001b[0m\u001b[0mall\u001b[0m\u001b[0;34m=\u001b[0m\u001b[0;34m\"ignore\"\u001b[0m\u001b[0;34m)\u001b[0m\u001b[0;34m\u001b[0m\u001b[0;34m\u001b[0m\u001b[0m\n\u001b[0;32m--> 535\u001b[0;31m             \u001b[0mself\u001b[0m\u001b[0;34m.\u001b[0m\u001b[0mcreate_field_info\u001b[0m\u001b[0;34m(\u001b[0m\u001b[0;34m)\u001b[0m\u001b[0;34m\u001b[0m\u001b[0;34m\u001b[0m\u001b[0m\n\u001b[0m\u001b[1;32m    536\u001b[0m             \u001b[0mnp\u001b[0m\u001b[0;34m.\u001b[0m\u001b[0mseterr\u001b[0m\u001b[0;34m(\u001b[0m\u001b[0;34m**\u001b[0m\u001b[0moldsettings\u001b[0m\u001b[0;34m)\u001b[0m\u001b[0;34m\u001b[0m\u001b[0;34m\u001b[0m\u001b[0m\n\u001b[1;32m    537\u001b[0m         \u001b[0;32mreturn\u001b[0m \u001b[0mself\u001b[0m\u001b[0;34m.\u001b[0m\u001b[0m_instantiated_index\u001b[0m\u001b[0;34m\u001b[0m\u001b[0;34m\u001b[0m\u001b[0m\n",
      "\u001b[0;32m~/.conda/envs/DataViz/lib/python3.7/site-packages/yt/data_objects/static_output.py\u001b[0m in \u001b[0;36mcreate_field_info\u001b[0;34m(self)\u001b[0m\n\u001b[1;32m    578\u001b[0m         \u001b[0mself\u001b[0m\u001b[0;34m.\u001b[0m\u001b[0mfiltered_particle_types\u001b[0m \u001b[0;34m=\u001b[0m \u001b[0;34m[\u001b[0m\u001b[0;34m]\u001b[0m\u001b[0;34m\u001b[0m\u001b[0;34m\u001b[0m\u001b[0m\n\u001b[1;32m    579\u001b[0m         \u001b[0mself\u001b[0m\u001b[0;34m.\u001b[0m\u001b[0mfield_info\u001b[0m \u001b[0;34m=\u001b[0m \u001b[0mself\u001b[0m\u001b[0;34m.\u001b[0m\u001b[0m_field_info_class\u001b[0m\u001b[0;34m(\u001b[0m\u001b[0mself\u001b[0m\u001b[0;34m,\u001b[0m \u001b[0mself\u001b[0m\u001b[0;34m.\u001b[0m\u001b[0mfield_list\u001b[0m\u001b[0;34m)\u001b[0m\u001b[0;34m\u001b[0m\u001b[0;34m\u001b[0m\u001b[0m\n\u001b[0;32m--> 580\u001b[0;31m         \u001b[0mself\u001b[0m\u001b[0;34m.\u001b[0m\u001b[0mcoordinates\u001b[0m\u001b[0;34m.\u001b[0m\u001b[0msetup_fields\u001b[0m\u001b[0;34m(\u001b[0m\u001b[0mself\u001b[0m\u001b[0;34m.\u001b[0m\u001b[0mfield_info\u001b[0m\u001b[0;34m)\u001b[0m\u001b[0;34m\u001b[0m\u001b[0;34m\u001b[0m\u001b[0m\n\u001b[0m\u001b[1;32m    581\u001b[0m         \u001b[0mself\u001b[0m\u001b[0;34m.\u001b[0m\u001b[0mfield_info\u001b[0m\u001b[0;34m.\u001b[0m\u001b[0msetup_fluid_fields\u001b[0m\u001b[0;34m(\u001b[0m\u001b[0;34m)\u001b[0m\u001b[0;34m\u001b[0m\u001b[0;34m\u001b[0m\u001b[0m\n\u001b[1;32m    582\u001b[0m         \u001b[0;32mfor\u001b[0m \u001b[0mptype\u001b[0m \u001b[0;32min\u001b[0m \u001b[0mself\u001b[0m\u001b[0;34m.\u001b[0m\u001b[0mparticle_types\u001b[0m\u001b[0;34m:\u001b[0m\u001b[0;34m\u001b[0m\u001b[0;34m\u001b[0m\u001b[0m\n",
      "\u001b[0;32m~/.conda/envs/DataViz/lib/python3.7/site-packages/yt/geometry/coordinates/cartesian_coordinates.py\u001b[0m in \u001b[0;36msetup_fields\u001b[0;34m(self, registry)\u001b[0m\n\u001b[1;32m    152\u001b[0m                 \u001b[0;34m(\u001b[0m\u001b[0;34m\"index\"\u001b[0m\u001b[0;34m,\u001b[0m \u001b[0;34m\"y\"\u001b[0m\u001b[0;34m)\u001b[0m\u001b[0;34m,\u001b[0m\u001b[0;34m\u001b[0m\u001b[0;34m\u001b[0m\u001b[0m\n\u001b[1;32m    153\u001b[0m                 \u001b[0;34m(\u001b[0m\u001b[0;34m\"index\"\u001b[0m\u001b[0;34m,\u001b[0m \u001b[0;34m\"z\"\u001b[0m\u001b[0;34m)\u001b[0m\u001b[0;34m,\u001b[0m\u001b[0;34m\u001b[0m\u001b[0;34m\u001b[0m\u001b[0m\n\u001b[0;32m--> 154\u001b[0;31m                 \u001b[0;34m(\u001b[0m\u001b[0;34m\"index\"\u001b[0m\u001b[0;34m,\u001b[0m \u001b[0;34m\"cell_volume\"\u001b[0m\u001b[0;34m)\u001b[0m\u001b[0;34m,\u001b[0m\u001b[0;34m\u001b[0m\u001b[0;34m\u001b[0m\u001b[0m\n\u001b[0m\u001b[1;32m    155\u001b[0m             ]\n\u001b[1;32m    156\u001b[0m         )\n",
      "\u001b[0;32m~/.conda/envs/DataViz/lib/python3.7/site-packages/yt/fields/field_info_container.py\u001b[0m in \u001b[0;36mcheck_derived_fields\u001b[0;34m(self, fields_to_check)\u001b[0m\n\u001b[1;32m    608\u001b[0m         \u001b[0mfields_to_check\u001b[0m \u001b[0;34m=\u001b[0m \u001b[0mfields_to_check\u001b[0m \u001b[0;32mor\u001b[0m \u001b[0mlist\u001b[0m\u001b[0;34m(\u001b[0m\u001b[0mself\u001b[0m\u001b[0;34m.\u001b[0m\u001b[0mkeys\u001b[0m\u001b[0;34m(\u001b[0m\u001b[0;34m)\u001b[0m\u001b[0;34m)\u001b[0m\u001b[0;34m\u001b[0m\u001b[0;34m\u001b[0m\u001b[0m\n\u001b[1;32m    609\u001b[0m         \u001b[0;32mfor\u001b[0m \u001b[0mfield\u001b[0m \u001b[0;32min\u001b[0m \u001b[0mfields_to_check\u001b[0m\u001b[0;34m:\u001b[0m\u001b[0;34m\u001b[0m\u001b[0;34m\u001b[0m\u001b[0m\n\u001b[0;32m--> 610\u001b[0;31m             \u001b[0mfi\u001b[0m \u001b[0;34m=\u001b[0m \u001b[0mself\u001b[0m\u001b[0;34m[\u001b[0m\u001b[0mfield\u001b[0m\u001b[0;34m]\u001b[0m\u001b[0;34m\u001b[0m\u001b[0;34m\u001b[0m\u001b[0m\n\u001b[0m\u001b[1;32m    611\u001b[0m             \u001b[0;32mtry\u001b[0m\u001b[0;34m:\u001b[0m\u001b[0;34m\u001b[0m\u001b[0;34m\u001b[0m\u001b[0m\n\u001b[1;32m    612\u001b[0m                 \u001b[0;31m# fd: field detector\u001b[0m\u001b[0;34m\u001b[0m\u001b[0;34m\u001b[0m\u001b[0;34m\u001b[0m\u001b[0m\n",
      "\u001b[0;32m~/.conda/envs/DataViz/lib/python3.7/site-packages/yt/fields/field_info_container.py\u001b[0m in \u001b[0;36m__missing__\u001b[0;34m(self, key)\u001b[0m\n\u001b[1;32m    547\u001b[0m     \u001b[0;32mdef\u001b[0m \u001b[0m__missing__\u001b[0m\u001b[0;34m(\u001b[0m\u001b[0mself\u001b[0m\u001b[0;34m,\u001b[0m \u001b[0mkey\u001b[0m\u001b[0;34m)\u001b[0m\u001b[0;34m:\u001b[0m\u001b[0;34m\u001b[0m\u001b[0;34m\u001b[0m\u001b[0m\n\u001b[1;32m    548\u001b[0m         \u001b[0;32mif\u001b[0m \u001b[0mself\u001b[0m\u001b[0;34m.\u001b[0m\u001b[0mfallback\u001b[0m \u001b[0;32mis\u001b[0m \u001b[0;32mNone\u001b[0m\u001b[0;34m:\u001b[0m\u001b[0;34m\u001b[0m\u001b[0;34m\u001b[0m\u001b[0m\n\u001b[0;32m--> 549\u001b[0;31m             \u001b[0;32mraise\u001b[0m \u001b[0mKeyError\u001b[0m\u001b[0;34m(\u001b[0m\u001b[0;34mf\"No field named {key}\"\u001b[0m\u001b[0;34m)\u001b[0m\u001b[0;34m\u001b[0m\u001b[0;34m\u001b[0m\u001b[0m\n\u001b[0m\u001b[1;32m    550\u001b[0m         \u001b[0;32mreturn\u001b[0m \u001b[0mself\u001b[0m\u001b[0;34m.\u001b[0m\u001b[0mfallback\u001b[0m\u001b[0;34m[\u001b[0m\u001b[0mkey\u001b[0m\u001b[0;34m]\u001b[0m\u001b[0;34m\u001b[0m\u001b[0;34m\u001b[0m\u001b[0m\n\u001b[1;32m    551\u001b[0m \u001b[0;34m\u001b[0m\u001b[0m\n",
      "\u001b[0;31mKeyError\u001b[0m: \"No field named ('index', 'dx')\""
     ]
    }
   ],
   "source": [
    "ds.r[1314576000,:,:].plot(\"U-component_of_wind\").set_mpl_projection(\"Mollweide\")"
   ]
  },
  {
   "cell_type": "code",
   "execution_count": 139,
   "id": "18c1006b",
   "metadata": {},
   "outputs": [
    {
     "ename": "KeyError",
     "evalue": "'y'",
     "output_type": "error",
     "traceback": [
      "\u001b[0;31m---------------------------------------------------------------------------\u001b[0m",
      "\u001b[0;31mKeyError\u001b[0m                                  Traceback (most recent call last)",
      "\u001b[0;32m/var/folders/5y/htsjngjd7nd_3ddqv2q24ynh0000gq/T/ipykernel_3715/1069674420.py\u001b[0m in \u001b[0;36m<module>\u001b[0;34m\u001b[0m\n\u001b[0;32m----> 1\u001b[0;31m \u001b[0myt\u001b[0m\u001b[0;34m.\u001b[0m\u001b[0mSlicePlot\u001b[0m\u001b[0;34m(\u001b[0m\u001b[0mds\u001b[0m\u001b[0;34m,\u001b[0m\u001b[0mnormal\u001b[0m\u001b[0;34m=\u001b[0m\u001b[0;34m'x'\u001b[0m\u001b[0;34m,\u001b[0m\u001b[0mfields\u001b[0m\u001b[0;34m=\u001b[0m\u001b[0;34m'U-component_of_wind'\u001b[0m\u001b[0;34m)\u001b[0m\u001b[0;34m\u001b[0m\u001b[0;34m\u001b[0m\u001b[0m\n\u001b[0m",
      "\u001b[0;32m~/.conda/envs/DataViz/lib/python3.7/site-packages/yt/visualization/plot_window.py\u001b[0m in \u001b[0;36mSlicePlot\u001b[0;34m(ds, normal, fields, axis, *args, **kwargs)\u001b[0m\n\u001b[1;32m   2482\u001b[0m             \u001b[0;32mdel\u001b[0m \u001b[0mkwargs\u001b[0m\u001b[0;34m[\u001b[0m\u001b[0;34m\"north_vector\"\u001b[0m\u001b[0;34m]\u001b[0m\u001b[0;34m\u001b[0m\u001b[0;34m\u001b[0m\u001b[0m\n\u001b[1;32m   2483\u001b[0m \u001b[0;34m\u001b[0m\u001b[0m\n\u001b[0;32m-> 2484\u001b[0;31m         \u001b[0;32mreturn\u001b[0m \u001b[0mAxisAlignedSlicePlot\u001b[0m\u001b[0;34m(\u001b[0m\u001b[0mds\u001b[0m\u001b[0;34m,\u001b[0m \u001b[0mnormal\u001b[0m\u001b[0;34m,\u001b[0m \u001b[0mfields\u001b[0m\u001b[0;34m,\u001b[0m \u001b[0;34m*\u001b[0m\u001b[0margs\u001b[0m\u001b[0;34m,\u001b[0m \u001b[0;34m**\u001b[0m\u001b[0mkwargs\u001b[0m\u001b[0;34m)\u001b[0m\u001b[0;34m\u001b[0m\u001b[0;34m\u001b[0m\u001b[0m\n\u001b[0m\u001b[1;32m   2485\u001b[0m \u001b[0;34m\u001b[0m\u001b[0m\n\u001b[1;32m   2486\u001b[0m \u001b[0;34m\u001b[0m\u001b[0m\n",
      "\u001b[0;32m~/.conda/envs/DataViz/lib/python3.7/site-packages/yt/visualization/plot_window.py\u001b[0m in \u001b[0;36m__init__\u001b[0;34m(self, ds, axis, fields, center, width, axes_unit, origin, right_handed, fontsize, field_parameters, window_size, aspect, data_source, buff_size)\u001b[0m\n\u001b[1;32m   1583\u001b[0m         \u001b[0maxis\u001b[0m \u001b[0;34m=\u001b[0m \u001b[0mfix_axis\u001b[0m\u001b[0;34m(\u001b[0m\u001b[0maxis\u001b[0m\u001b[0;34m,\u001b[0m \u001b[0mds\u001b[0m\u001b[0;34m)\u001b[0m\u001b[0;34m\u001b[0m\u001b[0;34m\u001b[0m\u001b[0m\n\u001b[1;32m   1584\u001b[0m         (bounds, center, display_center) = get_window_parameters(\n\u001b[0;32m-> 1585\u001b[0;31m             \u001b[0maxis\u001b[0m\u001b[0;34m,\u001b[0m \u001b[0mcenter\u001b[0m\u001b[0;34m,\u001b[0m \u001b[0mwidth\u001b[0m\u001b[0;34m,\u001b[0m \u001b[0mds\u001b[0m\u001b[0;34m\u001b[0m\u001b[0;34m\u001b[0m\u001b[0m\n\u001b[0m\u001b[1;32m   1586\u001b[0m         )\n\u001b[1;32m   1587\u001b[0m         \u001b[0;32mif\u001b[0m \u001b[0mfield_parameters\u001b[0m \u001b[0;32mis\u001b[0m \u001b[0;32mNone\u001b[0m\u001b[0;34m:\u001b[0m\u001b[0;34m\u001b[0m\u001b[0;34m\u001b[0m\u001b[0m\n",
      "\u001b[0;32m~/.conda/envs/DataViz/lib/python3.7/site-packages/yt/visualization/plot_window.py\u001b[0m in \u001b[0;36mget_window_parameters\u001b[0;34m(axis, center, width, ds)\u001b[0m\n\u001b[1;32m     77\u001b[0m     \u001b[0mwidth\u001b[0m \u001b[0;34m=\u001b[0m \u001b[0mds\u001b[0m\u001b[0;34m.\u001b[0m\u001b[0mcoordinates\u001b[0m\u001b[0;34m.\u001b[0m\u001b[0msanitize_width\u001b[0m\u001b[0;34m(\u001b[0m\u001b[0maxis\u001b[0m\u001b[0;34m,\u001b[0m \u001b[0mwidth\u001b[0m\u001b[0;34m,\u001b[0m \u001b[0;32mNone\u001b[0m\u001b[0;34m)\u001b[0m\u001b[0;34m\u001b[0m\u001b[0;34m\u001b[0m\u001b[0m\n\u001b[1;32m     78\u001b[0m     \u001b[0mcenter\u001b[0m\u001b[0;34m,\u001b[0m \u001b[0mdisplay_center\u001b[0m \u001b[0;34m=\u001b[0m \u001b[0mds\u001b[0m\u001b[0;34m.\u001b[0m\u001b[0mcoordinates\u001b[0m\u001b[0;34m.\u001b[0m\u001b[0msanitize_center\u001b[0m\u001b[0;34m(\u001b[0m\u001b[0mcenter\u001b[0m\u001b[0;34m,\u001b[0m \u001b[0maxis\u001b[0m\u001b[0;34m)\u001b[0m\u001b[0;34m\u001b[0m\u001b[0;34m\u001b[0m\u001b[0m\n\u001b[0;32m---> 79\u001b[0;31m     \u001b[0mxax\u001b[0m \u001b[0;34m=\u001b[0m \u001b[0mds\u001b[0m\u001b[0;34m.\u001b[0m\u001b[0mcoordinates\u001b[0m\u001b[0;34m.\u001b[0m\u001b[0mx_axis\u001b[0m\u001b[0;34m[\u001b[0m\u001b[0maxis\u001b[0m\u001b[0;34m]\u001b[0m\u001b[0;34m\u001b[0m\u001b[0;34m\u001b[0m\u001b[0m\n\u001b[0m\u001b[1;32m     80\u001b[0m     \u001b[0myax\u001b[0m \u001b[0;34m=\u001b[0m \u001b[0mds\u001b[0m\u001b[0;34m.\u001b[0m\u001b[0mcoordinates\u001b[0m\u001b[0;34m.\u001b[0m\u001b[0my_axis\u001b[0m\u001b[0;34m[\u001b[0m\u001b[0maxis\u001b[0m\u001b[0;34m]\u001b[0m\u001b[0;34m\u001b[0m\u001b[0;34m\u001b[0m\u001b[0m\n\u001b[1;32m     81\u001b[0m     bounds = (\n",
      "\u001b[0;32m~/.conda/envs/DataViz/lib/python3.7/site-packages/yt/geometry/coordinates/coordinate_handler.py\u001b[0m in \u001b[0;36mx_axis\u001b[0;34m(self)\u001b[0m\n\u001b[1;32m    177\u001b[0m         \u001b[0mxa\u001b[0m \u001b[0;34m=\u001b[0m \u001b[0;34m{\u001b[0m\u001b[0;34m}\u001b[0m\u001b[0;34m\u001b[0m\u001b[0;34m\u001b[0m\u001b[0m\n\u001b[1;32m    178\u001b[0m         \u001b[0;32mfor\u001b[0m \u001b[0ma1\u001b[0m\u001b[0;34m,\u001b[0m \u001b[0ma2\u001b[0m \u001b[0;32min\u001b[0m \u001b[0mself\u001b[0m\u001b[0;34m.\u001b[0m\u001b[0m_x_pairs\u001b[0m\u001b[0;34m:\u001b[0m\u001b[0;34m\u001b[0m\u001b[0;34m\u001b[0m\u001b[0m\n\u001b[0;32m--> 179\u001b[0;31m             \u001b[0mxa\u001b[0m\u001b[0;34m[\u001b[0m\u001b[0ma1\u001b[0m\u001b[0;34m]\u001b[0m \u001b[0;34m=\u001b[0m \u001b[0mxa\u001b[0m\u001b[0;34m[\u001b[0m\u001b[0mai\u001b[0m\u001b[0;34m[\u001b[0m\u001b[0ma1\u001b[0m\u001b[0;34m]\u001b[0m\u001b[0;34m]\u001b[0m \u001b[0;34m=\u001b[0m \u001b[0mai\u001b[0m\u001b[0;34m[\u001b[0m\u001b[0ma2\u001b[0m\u001b[0;34m]\u001b[0m\u001b[0;34m\u001b[0m\u001b[0;34m\u001b[0m\u001b[0m\n\u001b[0m\u001b[1;32m    180\u001b[0m         \u001b[0mself\u001b[0m\u001b[0;34m.\u001b[0m\u001b[0m_x_axis\u001b[0m \u001b[0;34m=\u001b[0m \u001b[0mxa\u001b[0m\u001b[0;34m\u001b[0m\u001b[0;34m\u001b[0m\u001b[0m\n\u001b[1;32m    181\u001b[0m         \u001b[0;32mreturn\u001b[0m \u001b[0mxa\u001b[0m\u001b[0;34m\u001b[0m\u001b[0;34m\u001b[0m\u001b[0m\n",
      "\u001b[0;31mKeyError\u001b[0m: 'y'"
     ]
    }
   ],
   "source": [
    "yt.SlicePlot(ds,normal='x',fields='U-component_of_wind')"
   ]
  },
  {
   "cell_type": "code",
   "execution_count": 119,
   "id": "2beb413d",
   "metadata": {},
   "outputs": [
    {
     "data": {
      "text/plain": [
       "<bound method Dataset.all_data of AthenaPPDataset: /Users/tzacks2/Desktop/GradSchool/Summer22/yt_Summer_proj/KeplerianDisk/disk.out1.00000.athdf>"
      ]
     },
     "execution_count": 119,
     "metadata": {},
     "output_type": "execute_result"
    }
   ],
   "source": [
    "ds.all_data"
   ]
  },
  {
   "cell_type": "code",
   "execution_count": null,
   "id": "39de77d7",
   "metadata": {},
   "outputs": [],
   "source": []
  }
 ],
 "metadata": {
  "kernelspec": {
   "display_name": "Python 3 (ipykernel)",
   "language": "python",
   "name": "python3"
  },
  "language_info": {
   "codemirror_mode": {
    "name": "ipython",
    "version": 3
   },
   "file_extension": ".py",
   "mimetype": "text/x-python",
   "name": "python",
   "nbconvert_exporter": "python",
   "pygments_lexer": "ipython3",
   "version": "3.7.12"
  }
 },
 "nbformat": 4,
 "nbformat_minor": 5
}
