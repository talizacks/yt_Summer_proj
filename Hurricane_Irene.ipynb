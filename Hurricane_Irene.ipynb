{
 "cells": [
  {
   "cell_type": "code",
   "execution_count": 1,
   "id": "2f48ee62",
   "metadata": {},
   "outputs": [],
   "source": [
    "import yt\n",
    "import netCDF4 as nc\n",
    "import matplotlib.pyplot as plt\n",
    "import pygrib\n",
    "import pandas as pd\n",
    "import xarray as xr\n",
    "import cfgrib\n",
    "import ipywidgets\n",
    "import numpy as np"
   ]
  },
  {
   "cell_type": "markdown",
   "id": "1949f87c",
   "metadata": {},
   "source": [
    "https://ramadda.unidata.ucar.edu/repository/entry/getentries"
   ]
  },
  {
   "cell_type": "code",
   "execution_count": 2,
   "id": "76757ac9",
   "metadata": {},
   "outputs": [],
   "source": [
    "irene = nc.Dataset('data/Hurricane_Irene/GFS1.0degreeModelOutput/ireneFlowVector1000.nc')"
   ]
  },
  {
   "cell_type": "code",
   "execution_count": 10,
   "id": "7bc0ff19",
   "metadata": {},
   "outputs": [
    {
     "data": {
      "text/plain": [
       "<class 'netCDF4._netCDF4.Dataset'>\n",
       "root group (NETCDF3_CLASSIC data model, file format NETCDF3):\n",
       "    Conventions: CF-1.X\n",
       "    History: Translated from VisAD grid to CF-1.X Conventions by IDV\n",
       "Original Dataset = (Time -> ((lon[unit:degrees_east], lat[unit:degrees_north], pressure[unit:Pa]) -> (U-component_of_wind[unit:m_s-1]_2, V-component_of_wind[unit:m_s-1]_2)))\n",
       "Translation Date = Thu Sep 01 13:11:22 MDT 2011\n",
       "    dimensions(sizes): time(49), lon(110), lat(85), pressure(1)\n",
       "    variables(dimensions): float64 time(time), float32 lon(lon), float32 lat(lat), float32 pressure(pressure), float32 U-component_of_wind(time, pressure, lat, lon), float32 V-component_of_wind(time, pressure, lat, lon)\n",
       "    groups: "
      ]
     },
     "execution_count": 10,
     "metadata": {},
     "output_type": "execute_result"
    }
   ],
   "source": [
    "irene"
   ]
  },
  {
   "cell_type": "code",
   "execution_count": 11,
   "id": "0964b261",
   "metadata": {},
   "outputs": [
    {
     "data": {
      "text/plain": [
       "{'time': <class 'netCDF4._netCDF4.Variable'>\n",
       " float64 time(time)\n",
       "     units: s since 1970-01-01 00:00:00.000 UTC\n",
       " unlimited dimensions: \n",
       " current shape = (49,)\n",
       " filling on, default _FillValue of 9.969209968386869e+36 used,\n",
       " 'lon': <class 'netCDF4._netCDF4.Variable'>\n",
       " float32 lon(lon)\n",
       "     units: degrees_east\n",
       "     long_name: longitude coordinate\n",
       "     standard_name: longitude\n",
       " unlimited dimensions: \n",
       " current shape = (110,)\n",
       " filling on, default _FillValue of 9.969209968386869e+36 used,\n",
       " 'lat': <class 'netCDF4._netCDF4.Variable'>\n",
       " float32 lat(lat)\n",
       "     units: degrees_north\n",
       "     long_name: latitude coordinate\n",
       "     standard_name: latitude\n",
       " unlimited dimensions: \n",
       " current shape = (85,)\n",
       " filling on, default _FillValue of 9.969209968386869e+36 used,\n",
       " 'pressure': <class 'netCDF4._netCDF4.Variable'>\n",
       " float32 pressure(pressure)\n",
       "     units: Pa\n",
       "     positive: down\n",
       " unlimited dimensions: \n",
       " current shape = (1,)\n",
       " filling on, default _FillValue of 9.969209968386869e+36 used,\n",
       " 'U-component_of_wind': <class 'netCDF4._netCDF4.Variable'>\n",
       " float32 U-component_of_wind(time, pressure, lat, lon)\n",
       "     units: m s-1\n",
       " unlimited dimensions: \n",
       " current shape = (49, 1, 85, 110)\n",
       " filling on, default _FillValue of 9.969209968386869e+36 used,\n",
       " 'V-component_of_wind': <class 'netCDF4._netCDF4.Variable'>\n",
       " float32 V-component_of_wind(time, pressure, lat, lon)\n",
       "     units: m s-1\n",
       " unlimited dimensions: \n",
       " current shape = (49, 1, 85, 110)\n",
       " filling on, default _FillValue of 9.969209968386869e+36 used}"
      ]
     },
     "execution_count": 11,
     "metadata": {},
     "output_type": "execute_result"
    }
   ],
   "source": [
    "irene.variables"
   ]
  },
  {
   "cell_type": "code",
   "execution_count": 12,
   "id": "bc93a987",
   "metadata": {},
   "outputs": [],
   "source": [
    "ireneNAM = nc.Dataset('data/Hurricane_Irene/NAM12kmModelSubset/ireneNAMFlowVector500.nc')\n",
    "ireneNAM2 = nc.Dataset('data/Hurricane_Irene/NAM12kmModelSubset/ireneNAMFlowVector1000.nc')"
   ]
  },
  {
   "cell_type": "code",
   "execution_count": 13,
   "id": "688e2229",
   "metadata": {},
   "outputs": [
    {
     "data": {
      "text/plain": [
       "<class 'netCDF4._netCDF4.Dataset'>\n",
       "root group (NETCDF3_CLASSIC data model, file format NETCDF3):\n",
       "    Conventions: CF-1.X\n",
       "    History: Translated from VisAD grid to CF-1.X Conventions by IDV\n",
       "Original Dataset = (Time -> ((x[unit:km], y[unit:km], pressure[unit:Pa]) -> (U-component_of_wind[unit:m_s-1]_26, V-component_of_wind[unit:m_s-1]_26)))\n",
       "Translation Date = Thu Sep 01 14:15:21 MDT 2011\n",
       "    dimensions(sizes): time(40), x(103), y(72), pressure(1)\n",
       "    variables(dimensions): float64 time(time), float32 x(x), float32 y(y), |S1 lambert_conformal_conic(), float32 pressure(pressure), float32 U-component_of_wind(time, pressure, y, x), float32 V-component_of_wind(time, pressure, y, x)\n",
       "    groups: "
      ]
     },
     "execution_count": 13,
     "metadata": {},
     "output_type": "execute_result"
    }
   ],
   "source": [
    "ireneNAM"
   ]
  },
  {
   "cell_type": "code",
   "execution_count": 14,
   "id": "717b247b",
   "metadata": {},
   "outputs": [
    {
     "data": {
      "text/plain": [
       "masked_array(\n",
       "  data=[[[[ -0.64027405,   0.10972595,  -0.14027405, ...,  -7.390274  ,\n",
       "            -7.640274  ,  -6.765274  ],\n",
       "          [ -1.265274  ,  -0.64027405,  -1.140274  , ...,  -6.765274  ,\n",
       "            -6.640274  ,  -5.765274  ],\n",
       "          [ -1.515274  ,  -1.140274  ,  -1.890274  , ...,  -6.140274  ,\n",
       "            -5.765274  ,  -4.640274  ],\n",
       "          ...,\n",
       "          [ 10.859726  ,  11.234726  ,  11.609726  , ...,  -6.015274  ,\n",
       "            -5.765274  ,  -5.015274  ],\n",
       "          [ 11.234726  ,  11.984726  ,  12.609726  , ...,  -4.390274  ,\n",
       "            -3.640274  ,  -2.890274  ],\n",
       "          [ 11.234726  ,  12.359726  ,  13.359726  , ...,  -2.640274  ,\n",
       "            -1.890274  ,  -1.515274  ]]],\n",
       "\n",
       "\n",
       "        [[[  1.0275116 ,   2.0275116 ,   0.5275116 , ...,  -7.0974884 ,\n",
       "            -4.9724884 ,  -3.7224884 ],\n",
       "          [  0.4025116 ,   0.7775116 ,  -1.4724884 , ...,  -6.5974884 ,\n",
       "            -4.2224884 ,  -3.4724884 ],\n",
       "          [ -0.2224884 ,  -0.5974884 ,  -2.9724884 , ...,  -5.4724884 ,\n",
       "            -3.8474884 ,  -3.5974884 ],\n",
       "          ...,\n",
       "          [ 10.777512  ,  10.152512  ,   9.902512  , ...,  -5.7224884 ,\n",
       "            -5.2224884 ,  -4.8474884 ],\n",
       "          [ 11.027512  ,  10.652512  ,  10.277512  , ...,  -3.9724884 ,\n",
       "            -3.0974884 ,  -2.2224884 ],\n",
       "          [ 10.027512  ,   9.902512  ,   9.277512  , ...,  -2.7224884 ,\n",
       "            -1.8474884 ,  -0.7224884 ]]],\n",
       "\n",
       "\n",
       "        [[[ -0.39275455,  -1.5177546 ,  -3.7677546 , ...,  -4.2677546 ,\n",
       "            -5.8927546 ,  -7.7677546 ],\n",
       "          [ -1.5177546 ,  -3.3927546 ,  -3.8927546 , ...,  -4.8927546 ,\n",
       "            -6.6427546 ,  -8.642755  ],\n",
       "          [ -2.6427546 ,  -3.7677546 ,  -3.8927546 , ...,  -4.8927546 ,\n",
       "            -6.7677546 ,  -8.642755  ],\n",
       "          ...,\n",
       "          [  8.232245  ,   7.3572454 ,   7.2322454 , ..., -10.017755  ,\n",
       "            -8.517755  ,  -6.8927546 ],\n",
       "          [  8.107245  ,   8.107245  ,   8.482245  , ...,  -6.2677546 ,\n",
       "            -4.7677546 ,  -3.3927546 ],\n",
       "          [  8.357245  ,   8.607245  ,   9.232245  , ...,  -3.1427546 ,\n",
       "            -1.8927546 ,  -0.76775455]]],\n",
       "\n",
       "\n",
       "        ...,\n",
       "\n",
       "\n",
       "        [[[ -5.852353  ,  -4.977353  ,  -4.102353  , ...,  -9.352353  ,\n",
       "           -10.227353  , -10.477353  ],\n",
       "          [ -6.477353  ,  -5.477353  ,  -4.227353  , ...,  -9.227353  ,\n",
       "           -10.352353  ,  -9.602353  ],\n",
       "          [ -6.352353  ,  -5.352353  ,  -4.102353  , ...,  -8.227353  ,\n",
       "            -8.852353  ,  -8.352353  ],\n",
       "          ...,\n",
       "          [  2.397647  ,   3.397647  ,   5.147647  , ...,   7.022647  ,\n",
       "             8.147647  ,   8.897647  ],\n",
       "          [  2.022647  ,   3.397647  ,   4.772647  , ...,   7.772647  ,\n",
       "             8.897647  ,  10.147647  ],\n",
       "          [  2.397647  ,   3.897647  ,   4.647647  , ...,   8.522647  ,\n",
       "             9.897647  ,  10.647647  ]]],\n",
       "\n",
       "\n",
       "        [[[ -3.9128942 ,  -2.7878942 ,  -1.9128942 , ...,  -8.162894  ,\n",
       "            -7.6628942 ,  -7.6628942 ],\n",
       "          [ -3.6628942 ,  -2.6628942 ,  -2.1628942 , ...,  -7.5378942 ,\n",
       "            -7.5378942 ,  -7.1628942 ],\n",
       "          [ -3.6628942 ,  -2.7878942 ,  -2.4128942 , ...,  -6.7878942 ,\n",
       "            -6.6628942 ,  -6.1628942 ],\n",
       "          ...,\n",
       "          [  5.7121058 ,   4.9621058 ,   6.0871058 , ...,   6.2121058 ,\n",
       "             7.5871058 ,   8.337106  ],\n",
       "          [  4.0871058 ,   4.8371058 ,   6.0871058 , ...,   6.7121058 ,\n",
       "             7.9621058 ,   8.962106  ],\n",
       "          [  2.4621058 ,   4.4621058 ,   6.0871058 , ...,   6.9621058 ,\n",
       "             8.337106  ,   9.587106  ]]],\n",
       "\n",
       "\n",
       "        [[[ -3.1557007 ,  -2.1557007 ,  -1.1557007 , ...,  -7.7807007 ,\n",
       "            -7.4057007 ,  -7.0307007 ],\n",
       "          [ -3.1557007 ,  -2.1557007 ,  -1.4057007 , ...,  -6.9057007 ,\n",
       "            -6.4057007 ,  -6.2807007 ],\n",
       "          [ -2.9057007 ,  -2.0307007 ,  -1.7807007 , ...,  -6.1557007 ,\n",
       "            -6.0307007 ,  -5.9057007 ],\n",
       "          ...,\n",
       "          [  8.594299  ,   7.3442993 ,   7.4692993 , ...,  -0.5307007 ,\n",
       "             1.0942993 ,   2.7192993 ],\n",
       "          [  7.3442993 ,   6.2192993 ,   6.0942993 , ...,   0.46929932,\n",
       "             1.7192993 ,   3.3442993 ],\n",
       "          [  5.4692993 ,   4.7192993 ,   4.5942993 , ...,   1.9692993 ,\n",
       "             2.7192993 ,   4.0942993 ]]]],\n",
       "  mask=False,\n",
       "  fill_value=1e+20,\n",
       "  dtype=float32)"
      ]
     },
     "execution_count": 14,
     "metadata": {},
     "output_type": "execute_result"
    }
   ],
   "source": [
    "ireneNAM2.variables['U-component_of_wind'][::]"
   ]
  },
  {
   "cell_type": "code",
   "execution_count": 15,
   "id": "92d1ac4d",
   "metadata": {},
   "outputs": [
    {
     "data": {
      "text/plain": [
       "masked_array(\n",
       "  data=[[[ -6.734833 ,  -6.984833 ,  -7.359833 , ...,  -8.234833 ,\n",
       "           -8.234833 ,  -7.984833 ],\n",
       "         [ -6.484833 ,  -6.734833 ,  -6.984833 , ...,  -8.609833 ,\n",
       "           -9.609833 , -10.109833 ],\n",
       "         [ -6.609833 ,  -6.484833 ,  -6.234833 , ...,  -7.859833 ,\n",
       "           -8.609833 ,  -9.609833 ],\n",
       "         ...,\n",
       "         [ 22.265167 ,  22.390167 ,  22.140167 , ...,   9.015167 ,\n",
       "            6.890167 ,   6.390167 ],\n",
       "         [ 20.890167 ,  21.515167 ,  21.390167 , ...,   5.390167 ,\n",
       "            5.015167 ,   5.765167 ],\n",
       "         [ 20.015167 ,  20.515167 ,  20.890167 , ...,   3.7651672,\n",
       "            4.515167 ,   4.515167 ]]],\n",
       "  mask=False,\n",
       "  fill_value=1e+20,\n",
       "  dtype=float32)"
      ]
     },
     "execution_count": 15,
     "metadata": {},
     "output_type": "execute_result"
    }
   ],
   "source": [
    "ireneNAM.variables['U-component_of_wind'][0]"
   ]
  },
  {
   "cell_type": "code",
   "execution_count": 61,
   "id": "733cec7f",
   "metadata": {},
   "outputs": [
    {
     "data": {
      "text/plain": [
       "<class 'netCDF4._netCDF4.Variable'>\n",
       "float64 time(time)\n",
       "    units: s since 1970-01-01 00:00:00.000 UTC\n",
       "unlimited dimensions: \n",
       "current shape = (40,)\n",
       "filling on, default _FillValue of 9.969209968386869e+36 used"
      ]
     },
     "execution_count": 61,
     "metadata": {},
     "output_type": "execute_result"
    }
   ],
   "source": [
    "ireneNAM['time']"
   ]
  },
  {
   "cell_type": "markdown",
   "id": "216eec50",
   "metadata": {},
   "source": [
    "# trying yt before talking to Matt"
   ]
  },
  {
   "cell_type": "code",
   "execution_count": 46,
   "id": "c69783df",
   "metadata": {},
   "outputs": [],
   "source": [
    "data_filename = 'data/Hurricane_Irene/GFS1.0degreeModelOutput/ireneFlowVector1000.nc'\n",
    "\n",
    "nc_dataset = nc.Dataset(data_filename, 'r+')\n",
    "latitude = nc_dataset.variables['lat'][::-1]\n",
    "longitude = nc_dataset.variables['lon'][:]\n",
    "depth = nc_dataset.variables['time'][:]\n"
   ]
  },
  {
   "cell_type": "code",
   "execution_count": 47,
   "id": "d96bd4ee",
   "metadata": {},
   "outputs": [
    {
     "name": "stdout",
     "output_type": "stream",
     "text": [
      "U-component_of_wind\n",
      "<class 'netCDF4._netCDF4.Variable'>\n",
      "float32 U-component_of_wind(time, pressure, lat, lon)\n",
      "    units: m s-1\n",
      "unlimited dimensions: \n",
      "current shape = (49, 1, 85, 110)\n",
      "filling on, default _FillValue of 9.969209968386869e+36 used\n",
      "V-component_of_wind\n",
      "<class 'netCDF4._netCDF4.Variable'>\n",
      "float32 V-component_of_wind(time, pressure, lat, lon)\n",
      "    units: m s-1\n",
      "unlimited dimensions: \n",
      "current shape = (49, 1, 85, 110)\n",
      "filling on, default _FillValue of 9.969209968386869e+36 used\n"
     ]
    }
   ],
   "source": [
    "v_names = ['U-component_of_wind', 'V-component_of_wind']\n",
    "\n",
    "for v in v_names:\n",
    "    print(v)\n",
    "    print(nc_dataset.variables[v])"
   ]
  },
  {
   "cell_type": "code",
   "execution_count": 48,
   "id": "4578586d",
   "metadata": {},
   "outputs": [
    {
     "name": "stdout",
     "output_type": "stream",
     "text": [
      "<class 'netCDF4._netCDF4.Variable'>\n",
      "float32 pressure(pressure)\n",
      "    units: Pa\n",
      "    positive: down\n",
      "unlimited dimensions: \n",
      "current shape = (1,)\n",
      "filling on, default _FillValue of 9.969209968386869e+36 used\n",
      "dict_keys(['time', 'lon', 'lat', 'pressure', 'U-component_of_wind', 'V-component_of_wind'])\n"
     ]
    }
   ],
   "source": [
    "print(nc_dataset.variables[\"pressure\"])\n",
    "\n",
    "print(nc_dataset.variables.keys())"
   ]
  },
  {
   "cell_type": "code",
   "execution_count": 49,
   "id": "bbfb377b",
   "metadata": {},
   "outputs": [
    {
     "name": "stdout",
     "output_type": "stream",
     "text": [
      "(49, 85, 110)\n",
      "(49, 85, 110)\n"
     ]
    }
   ],
   "source": [
    "data = {v: nc_dataset.variables[v][::-1,::-1,:] for v in v_names}\n",
    "\n",
    "for i in data:\n",
    "    data[i].shape = (data[i].shape[0], data[i].shape[2], data[i].shape[3])\n",
    "    print(data[i].shape)"
   ]
  },
  {
   "cell_type": "code",
   "execution_count": 61,
   "id": "eb140470",
   "metadata": {},
   "outputs": [
    {
     "name": "stderr",
     "output_type": "stream",
     "text": [
      "yt : [INFO     ] 2022-06-16 11:29:00,865 Parameters: current_time              = 0.0\n",
      "yt : [INFO     ] 2022-06-16 11:29:00,865 Parameters: domain_dimensions         = [ 49  85 110]\n",
      "yt : [INFO     ] 2022-06-16 11:29:00,866 Parameters: domain_left_edge          = [ 1.3135392e+09 -8.0000000e+00  2.3400000e+02]\n",
      "yt : [INFO     ] 2022-06-16 11:29:00,866 Parameters: domain_right_edge         = [1.314576e+09 7.600000e+01 3.430000e+02]\n",
      "yt : [INFO     ] 2022-06-16 11:29:00,867 Parameters: cosmological_simulation   = 0\n"
     ]
    },
    {
     "name": "stdout",
     "output_type": "stream",
     "text": [
      "[[ 1.3135392e+09  1.3145760e+09]\n",
      " [-8.0000000e+00  7.6000000e+01]\n",
      " [ 2.3400000e+02  3.4300000e+02]]\n"
     ]
    }
   ],
   "source": [
    "\n",
    "bbox = np.array([[depth[0], depth[-1]],\n",
    "                [latitude[0], latitude[-1]],\n",
    "                [longitude[0],longitude[-1]]])\n",
    "print(bbox)\n",
    "ds = yt.load_uniform_grid(data, domain_dimensions = (depth.shape[0], latitude.shape[0], longitude.shape[0]),\n",
    "                          bbox = bbox, length_unit=1000,\n",
    "                          geometry = ('internal_geographic', ('depth', 'latitude', 'longitude')))\n",
    "\n",
    "# ds.outer_radius = yt.units.km"
   ]
  },
  {
   "cell_type": "code",
   "execution_count": 62,
   "id": "1a009c23",
   "metadata": {},
   "outputs": [
    {
     "data": {
      "text/plain": [
       "[<matplotlib.lines.Line2D at 0x7fbadbd51ad0>]"
      ]
     },
     "execution_count": 62,
     "metadata": {},
     "output_type": "execute_result"
    },
    {
     "data": {
      "image/png": "[encoded data removed]",
      "text/plain": [
       "<Figure size 432x288 with 1 Axes>"
      ]
     },
     "metadata": {
      "needs_background": "light"
     },
     "output_type": "display_data"
    }
   ],
   "source": [
    "plt.plot(time)"
   ]
  },
  {
   "cell_type": "code",
   "execution_count": 63,
   "id": "e209c662",
   "metadata": {},
   "outputs": [
    {
     "data": {
      "application/vnd.jupyter.widget-view+json": {
       "model_id": "9344e1764e0941bfb71ac899e2492a02",
       "version_major": 2,
       "version_minor": 0
      },
      "text/plain": [
       "HBox(children=(Text(value='1036800.0', disabled=True), Text(value='84.0', disabled=True), Text(value='109.0', …"
      ]
     },
     "metadata": {},
     "output_type": "display_data"
    }
   ],
   "source": [
    "ds.domain_width"
   ]
  },
  {
   "cell_type": "code",
   "execution_count": 64,
   "id": "ec86f65c",
   "metadata": {},
   "outputs": [
    {
     "data": {
      "application/vnd.jupyter.widget-view+json": {
       "model_id": "ea29bbcc41724283958ef45e05990369",
       "version_major": 2,
       "version_minor": 0
      },
      "text/plain": [
       "HBox(children=(Text(value='1313539200.0', disabled=True), Text(value='-8.0', disabled=True), Text(value='234.0…"
      ]
     },
     "metadata": {},
     "output_type": "display_data"
    }
   ],
   "source": [
    "ds.domain_left_edge"
   ]
  },
  {
   "cell_type": "code",
   "execution_count": 65,
   "id": "f44c6e09",
   "metadata": {},
   "outputs": [
    {
     "data": {
      "application/vnd.jupyter.widget-view+json": {
       "model_id": "432425e60e4d4be4b85753f3f3d52f1b",
       "version_major": 2,
       "version_minor": 0
      },
      "text/plain": [
       "HBox(children=(Text(value='1314576000.0', disabled=True), Text(value='76.0', disabled=True), Text(value='343.0…"
      ]
     },
     "metadata": {},
     "output_type": "display_data"
    }
   ],
   "source": [
    "ds.domain_right_edge"
   ]
  },
  {
   "cell_type": "code",
   "execution_count": 66,
   "id": "622e441b",
   "metadata": {},
   "outputs": [
    {
     "data": {
      "text/plain": [
       "1314057600.0"
      ]
     },
     "execution_count": 66,
     "metadata": {},
     "output_type": "execute_result"
    }
   ],
   "source": [
    "(1314576000.0+1313539200.0)/2"
   ]
  },
  {
   "cell_type": "code",
   "execution_count": 71,
   "id": "207fcc02",
   "metadata": {},
   "outputs": [
    {
     "name": "stderr",
     "output_type": "stream",
     "text": [
      "yt : [INFO     ] 2022-06-17 15:20:18,603 xlim = 234.000000 343.000000\n",
      "yt : [INFO     ] 2022-06-17 15:20:18,605 ylim = -8.000000 76.000000\n",
      "yt : [INFO     ] 2022-06-17 15:20:18,607 Making a fixed resolution buffer of (V-component_of_wind) 800 by 800\n",
      "yt : [INFO     ] 2022-06-17 15:20:18,622 Making a fixed resolution buffer of (('stream', 'V-component_of_wind')) 800 by 800\n",
      "yt : [WARNING  ] 2022-06-17 15:20:18,631 Plotting ('stream', 'V-component_of_wind'): All values = 0.0 dimensionless\n",
      "yt : [WARNING  ] 2022-06-17 15:20:18,631 Switching to linear colorbar scaling.\n"
     ]
    },
    {
     "data": {
      "text/html": [
       "<img style=\"max-width:100%;max-height:100%;\" src=\"data:image/png;base64,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\"><br>"
      ],
      "text/plain": [
       "<yt.visualization.plot_window.PWViewerMPL at 0x7fbacd696990>"
      ]
     },
     "metadata": {},
     "output_type": "display_data"
    },
    {
     "data": {
      "text/html": [
       "<img style=\"max-width:100%;max-height:100%;\" src=\"data:image/png;base64,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\"><br>"
      ],
      "text/plain": [
       "<yt.visualization.plot_window.PWViewerMPL at 0x7fbacd696990>"
      ]
     },
     "execution_count": 71,
     "metadata": {},
     "output_type": "execute_result"
    }
   ],
   "source": [
    "ds.r[(1.5,'unitary'),:,:].plot(\"V-component_of_wind\").set_mpl_projection(\"Mollweide\")\n",
    "\n"
   ]
  },
  {
   "cell_type": "code",
   "execution_count": 57,
   "id": "18c1006b",
   "metadata": {},
   "outputs": [
    {
     "ename": "KeyError",
     "evalue": "'x'",
     "output_type": "error",
     "traceback": [
      "\u001b[0;31m---------------------------------------------------------------------------\u001b[0m",
      "\u001b[0;31mKeyError\u001b[0m                                  Traceback (most recent call last)",
      "\u001b[0;32m/var/folders/5y/htsjngjd7nd_3ddqv2q24ynh0000gq/T/ipykernel_16890/1069674420.py\u001b[0m in \u001b[0;36m<module>\u001b[0;34m\u001b[0m\n\u001b[0;32m----> 1\u001b[0;31m \u001b[0myt\u001b[0m\u001b[0;34m.\u001b[0m\u001b[0mSlicePlot\u001b[0m\u001b[0;34m(\u001b[0m\u001b[0mds\u001b[0m\u001b[0;34m,\u001b[0m\u001b[0mnormal\u001b[0m\u001b[0;34m=\u001b[0m\u001b[0;34m'x'\u001b[0m\u001b[0;34m,\u001b[0m\u001b[0mfields\u001b[0m\u001b[0;34m=\u001b[0m\u001b[0;34m'U-component_of_wind'\u001b[0m\u001b[0;34m)\u001b[0m\u001b[0;34m\u001b[0m\u001b[0;34m\u001b[0m\u001b[0m\n\u001b[0m",
      "\u001b[0;32m~/.conda/envs/DataViz/lib/python3.7/site-packages/yt/visualization/plot_window.py\u001b[0m in \u001b[0;36mSlicePlot\u001b[0;34m(ds, normal, fields, axis, *args, **kwargs)\u001b[0m\n\u001b[1;32m   2482\u001b[0m             \u001b[0;32mdel\u001b[0m \u001b[0mkwargs\u001b[0m\u001b[0;34m[\u001b[0m\u001b[0;34m\"north_vector\"\u001b[0m\u001b[0;34m]\u001b[0m\u001b[0;34m\u001b[0m\u001b[0;34m\u001b[0m\u001b[0m\n\u001b[1;32m   2483\u001b[0m \u001b[0;34m\u001b[0m\u001b[0m\n\u001b[0;32m-> 2484\u001b[0;31m         \u001b[0;32mreturn\u001b[0m \u001b[0mAxisAlignedSlicePlot\u001b[0m\u001b[0;34m(\u001b[0m\u001b[0mds\u001b[0m\u001b[0;34m,\u001b[0m \u001b[0mnormal\u001b[0m\u001b[0;34m,\u001b[0m \u001b[0mfields\u001b[0m\u001b[0;34m,\u001b[0m \u001b[0;34m*\u001b[0m\u001b[0margs\u001b[0m\u001b[0;34m,\u001b[0m \u001b[0;34m**\u001b[0m\u001b[0mkwargs\u001b[0m\u001b[0;34m)\u001b[0m\u001b[0;34m\u001b[0m\u001b[0;34m\u001b[0m\u001b[0m\n\u001b[0m\u001b[1;32m   2485\u001b[0m \u001b[0;34m\u001b[0m\u001b[0m\n\u001b[1;32m   2486\u001b[0m \u001b[0;34m\u001b[0m\u001b[0m\n",
      "\u001b[0;32m~/.conda/envs/DataViz/lib/python3.7/site-packages/yt/visualization/plot_window.py\u001b[0m in \u001b[0;36m__init__\u001b[0;34m(self, ds, axis, fields, center, width, axes_unit, origin, right_handed, fontsize, field_parameters, window_size, aspect, data_source, buff_size)\u001b[0m\n\u001b[1;32m   1583\u001b[0m         \u001b[0maxis\u001b[0m \u001b[0;34m=\u001b[0m \u001b[0mfix_axis\u001b[0m\u001b[0;34m(\u001b[0m\u001b[0maxis\u001b[0m\u001b[0;34m,\u001b[0m \u001b[0mds\u001b[0m\u001b[0;34m)\u001b[0m\u001b[0;34m\u001b[0m\u001b[0;34m\u001b[0m\u001b[0m\n\u001b[1;32m   1584\u001b[0m         (bounds, center, display_center) = get_window_parameters(\n\u001b[0;32m-> 1585\u001b[0;31m             \u001b[0maxis\u001b[0m\u001b[0;34m,\u001b[0m \u001b[0mcenter\u001b[0m\u001b[0;34m,\u001b[0m \u001b[0mwidth\u001b[0m\u001b[0;34m,\u001b[0m \u001b[0mds\u001b[0m\u001b[0;34m\u001b[0m\u001b[0;34m\u001b[0m\u001b[0m\n\u001b[0m\u001b[1;32m   1586\u001b[0m         )\n\u001b[1;32m   1587\u001b[0m         \u001b[0;32mif\u001b[0m \u001b[0mfield_parameters\u001b[0m \u001b[0;32mis\u001b[0m \u001b[0;32mNone\u001b[0m\u001b[0;34m:\u001b[0m\u001b[0;34m\u001b[0m\u001b[0;34m\u001b[0m\u001b[0m\n",
      "\u001b[0;32m~/.conda/envs/DataViz/lib/python3.7/site-packages/yt/visualization/plot_window.py\u001b[0m in \u001b[0;36mget_window_parameters\u001b[0;34m(axis, center, width, ds)\u001b[0m\n\u001b[1;32m     75\u001b[0m \u001b[0;34m\u001b[0m\u001b[0m\n\u001b[1;32m     76\u001b[0m \u001b[0;32mdef\u001b[0m \u001b[0mget_window_parameters\u001b[0m\u001b[0;34m(\u001b[0m\u001b[0maxis\u001b[0m\u001b[0;34m,\u001b[0m \u001b[0mcenter\u001b[0m\u001b[0;34m,\u001b[0m \u001b[0mwidth\u001b[0m\u001b[0;34m,\u001b[0m \u001b[0mds\u001b[0m\u001b[0;34m)\u001b[0m\u001b[0;34m:\u001b[0m\u001b[0;34m\u001b[0m\u001b[0;34m\u001b[0m\u001b[0m\n\u001b[0;32m---> 77\u001b[0;31m     \u001b[0mwidth\u001b[0m \u001b[0;34m=\u001b[0m \u001b[0mds\u001b[0m\u001b[0;34m.\u001b[0m\u001b[0mcoordinates\u001b[0m\u001b[0;34m.\u001b[0m\u001b[0msanitize_width\u001b[0m\u001b[0;34m(\u001b[0m\u001b[0maxis\u001b[0m\u001b[0;34m,\u001b[0m \u001b[0mwidth\u001b[0m\u001b[0;34m,\u001b[0m \u001b[0;32mNone\u001b[0m\u001b[0;34m)\u001b[0m\u001b[0;34m\u001b[0m\u001b[0;34m\u001b[0m\u001b[0m\n\u001b[0m\u001b[1;32m     78\u001b[0m     \u001b[0mcenter\u001b[0m\u001b[0;34m,\u001b[0m \u001b[0mdisplay_center\u001b[0m \u001b[0;34m=\u001b[0m \u001b[0mds\u001b[0m\u001b[0;34m.\u001b[0m\u001b[0mcoordinates\u001b[0m\u001b[0;34m.\u001b[0m\u001b[0msanitize_center\u001b[0m\u001b[0;34m(\u001b[0m\u001b[0mcenter\u001b[0m\u001b[0;34m,\u001b[0m \u001b[0maxis\u001b[0m\u001b[0;34m)\u001b[0m\u001b[0;34m\u001b[0m\u001b[0;34m\u001b[0m\u001b[0m\n\u001b[1;32m     79\u001b[0m     \u001b[0mxax\u001b[0m \u001b[0;34m=\u001b[0m \u001b[0mds\u001b[0m\u001b[0;34m.\u001b[0m\u001b[0mcoordinates\u001b[0m\u001b[0;34m.\u001b[0m\u001b[0mx_axis\u001b[0m\u001b[0;34m[\u001b[0m\u001b[0maxis\u001b[0m\u001b[0;34m]\u001b[0m\u001b[0;34m\u001b[0m\u001b[0;34m\u001b[0m\u001b[0m\n",
      "\u001b[0;32m~/.conda/envs/DataViz/lib/python3.7/site-packages/yt/geometry/coordinates/geographic_coordinates.py\u001b[0m in \u001b[0;36msanitize_width\u001b[0;34m(self, axis, width, depth)\u001b[0m\n\u001b[1;32m    532\u001b[0m \u001b[0;34m\u001b[0m\u001b[0m\n\u001b[1;32m    533\u001b[0m     \u001b[0;32mdef\u001b[0m \u001b[0msanitize_width\u001b[0m\u001b[0;34m(\u001b[0m\u001b[0mself\u001b[0m\u001b[0;34m,\u001b[0m \u001b[0maxis\u001b[0m\u001b[0;34m,\u001b[0m \u001b[0mwidth\u001b[0m\u001b[0;34m,\u001b[0m \u001b[0mdepth\u001b[0m\u001b[0;34m)\u001b[0m\u001b[0;34m:\u001b[0m\u001b[0;34m\u001b[0m\u001b[0;34m\u001b[0m\u001b[0m\n\u001b[0;32m--> 534\u001b[0;31m         \u001b[0mname\u001b[0m \u001b[0;34m=\u001b[0m \u001b[0mself\u001b[0m\u001b[0;34m.\u001b[0m\u001b[0maxis_name\u001b[0m\u001b[0;34m[\u001b[0m\u001b[0maxis\u001b[0m\u001b[0;34m]\u001b[0m\u001b[0;34m\u001b[0m\u001b[0;34m\u001b[0m\u001b[0m\n\u001b[0m\u001b[1;32m    535\u001b[0m         \u001b[0;32mif\u001b[0m \u001b[0mwidth\u001b[0m \u001b[0;32mis\u001b[0m \u001b[0;32mnot\u001b[0m \u001b[0;32mNone\u001b[0m\u001b[0;34m:\u001b[0m\u001b[0;34m\u001b[0m\u001b[0;34m\u001b[0m\u001b[0m\n\u001b[1;32m    536\u001b[0m             width = super(GeographicCoordinateHandler, self).sanitize_width(\n",
      "\u001b[0;31mKeyError\u001b[0m: 'x'"
     ]
    }
   ],
   "source": [
    "yt.SlicePlot(ds,normal='x',fields='U-component_of_wind')"
   ]
  },
  {
   "cell_type": "code",
   "execution_count": 119,
   "id": "2beb413d",
   "metadata": {},
   "outputs": [
    {
     "data": {
      "text/plain": [
       "<bound method Dataset.all_data of AthenaPPDataset: /Users/tzacks2/Desktop/GradSchool/Summer22/yt_Summer_proj/KeplerianDisk/disk.out1.00000.athdf>"
      ]
     },
     "execution_count": 119,
     "metadata": {},
     "output_type": "execute_result"
    }
   ],
   "source": [
    "ds.all_data"
   ]
  },
  {
   "cell_type": "code",
   "execution_count": null,
   "id": "39de77d7",
   "metadata": {},
   "outputs": [],
   "source": []
  }
 ],
 "metadata": {
  "kernelspec": {
   "display_name": "Python 3 (ipykernel)",
   "language": "python",
   "name": "python3"
  },
  "language_info": {
   "codemirror_mode": {
    "name": "ipython",
    "version": 3
   },
   "file_extension": ".py",
   "mimetype": "text/x-python",
   "name": "python",
   "nbconvert_exporter": "python",
   "pygments_lexer": "ipython3",
   "version": "3.7.12"
  }
 },
 "nbformat": 4,
 "nbformat_minor": 5
}
