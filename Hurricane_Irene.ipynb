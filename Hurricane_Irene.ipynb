{
 "cells": [
  {
   "cell_type": "code",
   "execution_count": 1,
   "id": "2f48ee62",
   "metadata": {},
   "outputs": [],
   "source": [
    "import yt\n",
    "import netCDF4 as nc\n",
    "import matplotlib.pyplot as plt\n",
    "import pygrib\n",
    "import pandas as pd\n",
    "import xarray as xr\n",
    "import cfgrib\n",
    "import ipywidgets\n",
    "import numpy as np"
   ]
  },
  {
   "cell_type": "markdown",
   "id": "1949f87c",
   "metadata": {},
   "source": [
    "https://ramadda.unidata.ucar.edu/repository/entry/getentries"
   ]
  },
  {
   "cell_type": "code",
   "execution_count": 2,
   "id": "76757ac9",
   "metadata": {},
   "outputs": [],
   "source": [
    "irene = nc.Dataset('data/Hurricane_Irene/GFS1.0degreeModelOutput/ireneFlowVector1000.nc')"
   ]
  },
  {
   "cell_type": "code",
   "execution_count": 10,
   "id": "7bc0ff19",
   "metadata": {},
   "outputs": [
    {
     "data": {
      "text/plain": [
       "<class 'netCDF4._netCDF4.Dataset'>\n",
       "root group (NETCDF3_CLASSIC data model, file format NETCDF3):\n",
       "    Conventions: CF-1.X\n",
       "    History: Translated from VisAD grid to CF-1.X Conventions by IDV\n",
       "Original Dataset = (Time -> ((lon[unit:degrees_east], lat[unit:degrees_north], pressure[unit:Pa]) -> (U-component_of_wind[unit:m_s-1]_2, V-component_of_wind[unit:m_s-1]_2)))\n",
       "Translation Date = Thu Sep 01 13:11:22 MDT 2011\n",
       "    dimensions(sizes): time(49), lon(110), lat(85), pressure(1)\n",
       "    variables(dimensions): float64 time(time), float32 lon(lon), float32 lat(lat), float32 pressure(pressure), float32 U-component_of_wind(time, pressure, lat, lon), float32 V-component_of_wind(time, pressure, lat, lon)\n",
       "    groups: "
      ]
     },
     "execution_count": 10,
     "metadata": {},
     "output_type": "execute_result"
    }
   ],
   "source": [
    "irene"
   ]
  },
  {
   "cell_type": "code",
   "execution_count": 11,
   "id": "0964b261",
   "metadata": {},
   "outputs": [
    {
     "data": {
      "text/plain": [
       "{'time': <class 'netCDF4._netCDF4.Variable'>\n",
       " float64 time(time)\n",
       "     units: s since 1970-01-01 00:00:00.000 UTC\n",
       " unlimited dimensions: \n",
       " current shape = (49,)\n",
       " filling on, default _FillValue of 9.969209968386869e+36 used,\n",
       " 'lon': <class 'netCDF4._netCDF4.Variable'>\n",
       " float32 lon(lon)\n",
       "     units: degrees_east\n",
       "     long_name: longitude coordinate\n",
       "     standard_name: longitude\n",
       " unlimited dimensions: \n",
       " current shape = (110,)\n",
       " filling on, default _FillValue of 9.969209968386869e+36 used,\n",
       " 'lat': <class 'netCDF4._netCDF4.Variable'>\n",
       " float32 lat(lat)\n",
       "     units: degrees_north\n",
       "     long_name: latitude coordinate\n",
       "     standard_name: latitude\n",
       " unlimited dimensions: \n",
       " current shape = (85,)\n",
       " filling on, default _FillValue of 9.969209968386869e+36 used,\n",
       " 'pressure': <class 'netCDF4._netCDF4.Variable'>\n",
       " float32 pressure(pressure)\n",
       "     units: Pa\n",
       "     positive: down\n",
       " unlimited dimensions: \n",
       " current shape = (1,)\n",
       " filling on, default _FillValue of 9.969209968386869e+36 used,\n",
       " 'U-component_of_wind': <class 'netCDF4._netCDF4.Variable'>\n",
       " float32 U-component_of_wind(time, pressure, lat, lon)\n",
       "     units: m s-1\n",
       " unlimited dimensions: \n",
       " current shape = (49, 1, 85, 110)\n",
       " filling on, default _FillValue of 9.969209968386869e+36 used,\n",
       " 'V-component_of_wind': <class 'netCDF4._netCDF4.Variable'>\n",
       " float32 V-component_of_wind(time, pressure, lat, lon)\n",
       "     units: m s-1\n",
       " unlimited dimensions: \n",
       " current shape = (49, 1, 85, 110)\n",
       " filling on, default _FillValue of 9.969209968386869e+36 used}"
      ]
     },
     "execution_count": 11,
     "metadata": {},
     "output_type": "execute_result"
    }
   ],
   "source": [
    "irene.variables"
   ]
  },
  {
   "cell_type": "code",
   "execution_count": 12,
   "id": "bc93a987",
   "metadata": {},
   "outputs": [],
   "source": [
    "ireneNAM = nc.Dataset('data/Hurricane_Irene/NAM12kmModelSubset/ireneNAMFlowVector500.nc')\n",
    "ireneNAM2 = nc.Dataset('data/Hurricane_Irene/NAM12kmModelSubset/ireneNAMFlowVector1000.nc')"
   ]
  },
  {
   "cell_type": "code",
   "execution_count": 13,
   "id": "688e2229",
   "metadata": {},
   "outputs": [
    {
     "data": {
      "text/plain": [
       "<class 'netCDF4._netCDF4.Dataset'>\n",
       "root group (NETCDF3_CLASSIC data model, file format NETCDF3):\n",
       "    Conventions: CF-1.X\n",
       "    History: Translated from VisAD grid to CF-1.X Conventions by IDV\n",
       "Original Dataset = (Time -> ((x[unit:km], y[unit:km], pressure[unit:Pa]) -> (U-component_of_wind[unit:m_s-1]_26, V-component_of_wind[unit:m_s-1]_26)))\n",
       "Translation Date = Thu Sep 01 14:15:21 MDT 2011\n",
       "    dimensions(sizes): time(40), x(103), y(72), pressure(1)\n",
       "    variables(dimensions): float64 time(time), float32 x(x), float32 y(y), |S1 lambert_conformal_conic(), float32 pressure(pressure), float32 U-component_of_wind(time, pressure, y, x), float32 V-component_of_wind(time, pressure, y, x)\n",
       "    groups: "
      ]
     },
     "execution_count": 13,
     "metadata": {},
     "output_type": "execute_result"
    }
   ],
   "source": [
    "ireneNAM"
   ]
  },
  {
   "cell_type": "code",
   "execution_count": 14,
   "id": "717b247b",
   "metadata": {},
   "outputs": [
    {
     "data": {
      "text/plain": [
       "masked_array(\n",
       "  data=[[[[ -0.64027405,   0.10972595,  -0.14027405, ...,  -7.390274  ,\n",
       "            -7.640274  ,  -6.765274  ],\n",
       "          [ -1.265274  ,  -0.64027405,  -1.140274  , ...,  -6.765274  ,\n",
       "            -6.640274  ,  -5.765274  ],\n",
       "          [ -1.515274  ,  -1.140274  ,  -1.890274  , ...,  -6.140274  ,\n",
       "            -5.765274  ,  -4.640274  ],\n",
       "          ...,\n",
       "          [ 10.859726  ,  11.234726  ,  11.609726  , ...,  -6.015274  ,\n",
       "            -5.765274  ,  -5.015274  ],\n",
       "          [ 11.234726  ,  11.984726  ,  12.609726  , ...,  -4.390274  ,\n",
       "            -3.640274  ,  -2.890274  ],\n",
       "          [ 11.234726  ,  12.359726  ,  13.359726  , ...,  -2.640274  ,\n",
       "            -1.890274  ,  -1.515274  ]]],\n",
       "\n",
       "\n",
       "        [[[  1.0275116 ,   2.0275116 ,   0.5275116 , ...,  -7.0974884 ,\n",
       "            -4.9724884 ,  -3.7224884 ],\n",
       "          [  0.4025116 ,   0.7775116 ,  -1.4724884 , ...,  -6.5974884 ,\n",
       "            -4.2224884 ,  -3.4724884 ],\n",
       "          [ -0.2224884 ,  -0.5974884 ,  -2.9724884 , ...,  -5.4724884 ,\n",
       "            -3.8474884 ,  -3.5974884 ],\n",
       "          ...,\n",
       "          [ 10.777512  ,  10.152512  ,   9.902512  , ...,  -5.7224884 ,\n",
       "            -5.2224884 ,  -4.8474884 ],\n",
       "          [ 11.027512  ,  10.652512  ,  10.277512  , ...,  -3.9724884 ,\n",
       "            -3.0974884 ,  -2.2224884 ],\n",
       "          [ 10.027512  ,   9.902512  ,   9.277512  , ...,  -2.7224884 ,\n",
       "            -1.8474884 ,  -0.7224884 ]]],\n",
       "\n",
       "\n",
       "        [[[ -0.39275455,  -1.5177546 ,  -3.7677546 , ...,  -4.2677546 ,\n",
       "            -5.8927546 ,  -7.7677546 ],\n",
       "          [ -1.5177546 ,  -3.3927546 ,  -3.8927546 , ...,  -4.8927546 ,\n",
       "            -6.6427546 ,  -8.642755  ],\n",
       "          [ -2.6427546 ,  -3.7677546 ,  -3.8927546 , ...,  -4.8927546 ,\n",
       "            -6.7677546 ,  -8.642755  ],\n",
       "          ...,\n",
       "          [  8.232245  ,   7.3572454 ,   7.2322454 , ..., -10.017755  ,\n",
       "            -8.517755  ,  -6.8927546 ],\n",
       "          [  8.107245  ,   8.107245  ,   8.482245  , ...,  -6.2677546 ,\n",
       "            -4.7677546 ,  -3.3927546 ],\n",
       "          [  8.357245  ,   8.607245  ,   9.232245  , ...,  -3.1427546 ,\n",
       "            -1.8927546 ,  -0.76775455]]],\n",
       "\n",
       "\n",
       "        ...,\n",
       "\n",
       "\n",
       "        [[[ -5.852353  ,  -4.977353  ,  -4.102353  , ...,  -9.352353  ,\n",
       "           -10.227353  , -10.477353  ],\n",
       "          [ -6.477353  ,  -5.477353  ,  -4.227353  , ...,  -9.227353  ,\n",
       "           -10.352353  ,  -9.602353  ],\n",
       "          [ -6.352353  ,  -5.352353  ,  -4.102353  , ...,  -8.227353  ,\n",
       "            -8.852353  ,  -8.352353  ],\n",
       "          ...,\n",
       "          [  2.397647  ,   3.397647  ,   5.147647  , ...,   7.022647  ,\n",
       "             8.147647  ,   8.897647  ],\n",
       "          [  2.022647  ,   3.397647  ,   4.772647  , ...,   7.772647  ,\n",
       "             8.897647  ,  10.147647  ],\n",
       "          [  2.397647  ,   3.897647  ,   4.647647  , ...,   8.522647  ,\n",
       "             9.897647  ,  10.647647  ]]],\n",
       "\n",
       "\n",
       "        [[[ -3.9128942 ,  -2.7878942 ,  -1.9128942 , ...,  -8.162894  ,\n",
       "            -7.6628942 ,  -7.6628942 ],\n",
       "          [ -3.6628942 ,  -2.6628942 ,  -2.1628942 , ...,  -7.5378942 ,\n",
       "            -7.5378942 ,  -7.1628942 ],\n",
       "          [ -3.6628942 ,  -2.7878942 ,  -2.4128942 , ...,  -6.7878942 ,\n",
       "            -6.6628942 ,  -6.1628942 ],\n",
       "          ...,\n",
       "          [  5.7121058 ,   4.9621058 ,   6.0871058 , ...,   6.2121058 ,\n",
       "             7.5871058 ,   8.337106  ],\n",
       "          [  4.0871058 ,   4.8371058 ,   6.0871058 , ...,   6.7121058 ,\n",
       "             7.9621058 ,   8.962106  ],\n",
       "          [  2.4621058 ,   4.4621058 ,   6.0871058 , ...,   6.9621058 ,\n",
       "             8.337106  ,   9.587106  ]]],\n",
       "\n",
       "\n",
       "        [[[ -3.1557007 ,  -2.1557007 ,  -1.1557007 , ...,  -7.7807007 ,\n",
       "            -7.4057007 ,  -7.0307007 ],\n",
       "          [ -3.1557007 ,  -2.1557007 ,  -1.4057007 , ...,  -6.9057007 ,\n",
       "            -6.4057007 ,  -6.2807007 ],\n",
       "          [ -2.9057007 ,  -2.0307007 ,  -1.7807007 , ...,  -6.1557007 ,\n",
       "            -6.0307007 ,  -5.9057007 ],\n",
       "          ...,\n",
       "          [  8.594299  ,   7.3442993 ,   7.4692993 , ...,  -0.5307007 ,\n",
       "             1.0942993 ,   2.7192993 ],\n",
       "          [  7.3442993 ,   6.2192993 ,   6.0942993 , ...,   0.46929932,\n",
       "             1.7192993 ,   3.3442993 ],\n",
       "          [  5.4692993 ,   4.7192993 ,   4.5942993 , ...,   1.9692993 ,\n",
       "             2.7192993 ,   4.0942993 ]]]],\n",
       "  mask=False,\n",
       "  fill_value=1e+20,\n",
       "  dtype=float32)"
      ]
     },
     "execution_count": 14,
     "metadata": {},
     "output_type": "execute_result"
    }
   ],
   "source": [
    "ireneNAM2.variables['U-component_of_wind'][::]"
   ]
  },
  {
   "cell_type": "code",
   "execution_count": 15,
   "id": "92d1ac4d",
   "metadata": {},
   "outputs": [
    {
     "data": {
      "text/plain": [
       "masked_array(\n",
       "  data=[[[ -6.734833 ,  -6.984833 ,  -7.359833 , ...,  -8.234833 ,\n",
       "           -8.234833 ,  -7.984833 ],\n",
       "         [ -6.484833 ,  -6.734833 ,  -6.984833 , ...,  -8.609833 ,\n",
       "           -9.609833 , -10.109833 ],\n",
       "         [ -6.609833 ,  -6.484833 ,  -6.234833 , ...,  -7.859833 ,\n",
       "           -8.609833 ,  -9.609833 ],\n",
       "         ...,\n",
       "         [ 22.265167 ,  22.390167 ,  22.140167 , ...,   9.015167 ,\n",
       "            6.890167 ,   6.390167 ],\n",
       "         [ 20.890167 ,  21.515167 ,  21.390167 , ...,   5.390167 ,\n",
       "            5.015167 ,   5.765167 ],\n",
       "         [ 20.015167 ,  20.515167 ,  20.890167 , ...,   3.7651672,\n",
       "            4.515167 ,   4.515167 ]]],\n",
       "  mask=False,\n",
       "  fill_value=1e+20,\n",
       "  dtype=float32)"
      ]
     },
     "execution_count": 15,
     "metadata": {},
     "output_type": "execute_result"
    }
   ],
   "source": [
    "ireneNAM.variables['U-component_of_wind'][0]"
   ]
  },
  {
   "cell_type": "code",
   "execution_count": 61,
   "id": "733cec7f",
   "metadata": {},
   "outputs": [
    {
     "data": {
      "text/plain": [
       "<class 'netCDF4._netCDF4.Variable'>\n",
       "float64 time(time)\n",
       "    units: s since 1970-01-01 00:00:00.000 UTC\n",
       "unlimited dimensions: \n",
       "current shape = (40,)\n",
       "filling on, default _FillValue of 9.969209968386869e+36 used"
      ]
     },
     "execution_count": 61,
     "metadata": {},
     "output_type": "execute_result"
    }
   ],
   "source": [
    "ireneNAM['time']"
   ]
  },
  {
   "cell_type": "markdown",
   "id": "216eec50",
   "metadata": {},
   "source": [
    "# trying yt before talking to Matt"
   ]
  },
  {
   "cell_type": "code",
   "execution_count": 46,
   "id": "c69783df",
   "metadata": {},
   "outputs": [],
   "source": [
    "data_filename = 'data/Hurricane_Irene/GFS1.0degreeModelOutput/ireneFlowVector1000.nc'\n",
    "\n",
    "nc_dataset = nc.Dataset(data_filename, 'r+')\n",
    "latitude = nc_dataset.variables['lat'][::-1]\n",
    "longitude = nc_dataset.variables['lon'][:]\n",
    "depth = nc_dataset.variables['time'][:]\n"
   ]
  },
  {
   "cell_type": "code",
   "execution_count": 47,
   "id": "d96bd4ee",
   "metadata": {},
   "outputs": [
    {
     "name": "stdout",
     "output_type": "stream",
     "text": [
      "U-component_of_wind\n",
      "<class 'netCDF4._netCDF4.Variable'>\n",
      "float32 U-component_of_wind(time, pressure, lat, lon)\n",
      "    units: m s-1\n",
      "unlimited dimensions: \n",
      "current shape = (49, 1, 85, 110)\n",
      "filling on, default _FillValue of 9.969209968386869e+36 used\n",
      "V-component_of_wind\n",
      "<class 'netCDF4._netCDF4.Variable'>\n",
      "float32 V-component_of_wind(time, pressure, lat, lon)\n",
      "    units: m s-1\n",
      "unlimited dimensions: \n",
      "current shape = (49, 1, 85, 110)\n",
      "filling on, default _FillValue of 9.969209968386869e+36 used\n"
     ]
    }
   ],
   "source": [
    "v_names = ['U-component_of_wind', 'V-component_of_wind']\n",
    "\n",
    "for v in v_names:\n",
    "    print(v)\n",
    "    print(nc_dataset.variables[v])"
   ]
  },
  {
   "cell_type": "code",
   "execution_count": 48,
   "id": "4578586d",
   "metadata": {},
   "outputs": [
    {
     "name": "stdout",
     "output_type": "stream",
     "text": [
      "<class 'netCDF4._netCDF4.Variable'>\n",
      "float32 pressure(pressure)\n",
      "    units: Pa\n",
      "    positive: down\n",
      "unlimited dimensions: \n",
      "current shape = (1,)\n",
      "filling on, default _FillValue of 9.969209968386869e+36 used\n",
      "dict_keys(['time', 'lon', 'lat', 'pressure', 'U-component_of_wind', 'V-component_of_wind'])\n"
     ]
    }
   ],
   "source": [
    "print(nc_dataset.variables[\"pressure\"])\n",
    "\n",
    "print(nc_dataset.variables.keys())"
   ]
  },
  {
   "cell_type": "code",
   "execution_count": 49,
   "id": "bbfb377b",
   "metadata": {},
   "outputs": [
    {
     "name": "stdout",
     "output_type": "stream",
     "text": [
      "(49, 85, 110)\n",
      "(49, 85, 110)\n"
     ]
    }
   ],
   "source": [
    "data = {v: nc_dataset.variables[v][::-1,::-1,:] for v in v_names}\n",
    "\n",
    "for i in data:\n",
    "    data[i].shape = (data[i].shape[0], data[i].shape[2], data[i].shape[3])\n",
    "    print(data[i].shape)"
   ]
  },
  {
   "cell_type": "code",
   "execution_count": 61,
   "id": "eb140470",
   "metadata": {},
   "outputs": [
    {
     "name": "stderr",
     "output_type": "stream",
     "text": [
      "yt : [INFO     ] 2022-06-16 11:29:00,865 Parameters: current_time              = 0.0\n",
      "yt : [INFO     ] 2022-06-16 11:29:00,865 Parameters: domain_dimensions         = [ 49  85 110]\n",
      "yt : [INFO     ] 2022-06-16 11:29:00,866 Parameters: domain_left_edge          = [ 1.3135392e+09 -8.0000000e+00  2.3400000e+02]\n",
      "yt : [INFO     ] 2022-06-16 11:29:00,866 Parameters: domain_right_edge         = [1.314576e+09 7.600000e+01 3.430000e+02]\n",
      "yt : [INFO     ] 2022-06-16 11:29:00,867 Parameters: cosmological_simulation   = 0\n"
     ]
    },
    {
     "name": "stdout",
     "output_type": "stream",
     "text": [
      "[[ 1.3135392e+09  1.3145760e+09]\n",
      " [-8.0000000e+00  7.6000000e+01]\n",
      " [ 2.3400000e+02  3.4300000e+02]]\n"
     ]
    }
   ],
   "source": [
    "\n",
    "bbox = np.array([[depth[0], depth[-1]],\n",
    "                [latitude[0], latitude[-1]],\n",
    "                [longitude[0],longitude[-1]]])\n",
    "print(bbox)\n",
    "ds = yt.load_uniform_grid(data, domain_dimensions = (depth.shape[0], latitude.shape[0], longitude.shape[0]),\n",
    "                          bbox = bbox, length_unit=1000,\n",
    "                          geometry = ('internal_geographic', ('depth', 'latitude', 'longitude')))\n",
    "\n",
    "# ds.outer_radius = yt.units.km"
   ]
  },
  {
   "cell_type": "code",
   "execution_count": 62,
   "id": "1a009c23",
   "metadata": {},
   "outputs": [
    {
     "data": {
      "text/plain": [
       "[<matplotlib.lines.Line2D at 0x7fbadbd51ad0>]"
      ]
     },
     "execution_count": 62,
     "metadata": {},
     "output_type": "execute_result"
    },
    {
     "data": {
      "image/png": "[encoded data removed]",
      "text/plain": [
       "<Figure size 432x288 with 1 Axes>"
      ]
     },
     "metadata": {
      "needs_background": "light"
     },
     "output_type": "display_data"
    }
   ],
   "source": [
    "plt.plot(time)"
   ]
  },
  {
   "cell_type": "code",
   "execution_count": 63,
   "id": "e209c662",
   "metadata": {},
   "outputs": [
    {
     "data": {
      "application/vnd.jupyter.widget-view+json": {
       "model_id": "9344e1764e0941bfb71ac899e2492a02",
       "version_major": 2,
       "version_minor": 0
      },
      "text/plain": [
       "HBox(children=(Text(value='1036800.0', disabled=True), Text(value='84.0', disabled=True), Text(value='109.0', …"
      ]
     },
     "metadata": {},
     "output_type": "display_data"
    }
   ],
   "source": [
    "ds.domain_width"
   ]
  },
  {
   "cell_type": "code",
   "execution_count": 64,
   "id": "ec86f65c",
   "metadata": {},
   "outputs": [
    {
     "data": {
      "application/vnd.jupyter.widget-view+json": {
       "model_id": "ea29bbcc41724283958ef45e05990369",
       "version_major": 2,
       "version_minor": 0
      },
      "text/plain": [
       "HBox(children=(Text(value='1313539200.0', disabled=True), Text(value='-8.0', disabled=True), Text(value='234.0…"
      ]
     },
     "metadata": {},
     "output_type": "display_data"
    }
   ],
   "source": [
    "ds.domain_left_edge"
   ]
  },
  {
   "cell_type": "code",
   "execution_count": 65,
   "id": "f44c6e09",
   "metadata": {},
   "outputs": [
    {
     "data": {
      "application/vnd.jupyter.widget-view+json": {
       "model_id": "432425e60e4d4be4b85753f3f3d52f1b",
       "version_major": 2,
       "version_minor": 0
      },
      "text/plain": [
       "HBox(children=(Text(value='1314576000.0', disabled=True), Text(value='76.0', disabled=True), Text(value='343.0…"
      ]
     },
     "metadata": {},
     "output_type": "display_data"
    }
   ],
   "source": [
    "ds.domain_right_edge"
   ]
  },
  {
   "cell_type": "code",
   "execution_count": 66,
   "id": "622e441b",
   "metadata": {},
   "outputs": [
    {
     "data": {
      "text/plain": [
       "1314057600.0"
      ]
     },
     "execution_count": 66,
     "metadata": {},
     "output_type": "execute_result"
    }
   ],
   "source": [
    "(1314576000.0+1313539200.0)/2"
   ]
  },
  {
   "cell_type": "code",
   "execution_count": 67,
   "id": "207fcc02",
   "metadata": {},
   "outputs": [
    {
     "name": "stderr",
     "output_type": "stream",
     "text": [
      "yt : [INFO     ] 2022-06-16 11:29:06,091 xlim = 234.000000 343.000000\n",
      "yt : [INFO     ] 2022-06-16 11:29:06,092 ylim = -8.000000 76.000000\n",
      "yt : [INFO     ] 2022-06-16 11:29:06,092 Making a fixed resolution buffer of (U-component_of_wind) 800 by 800\n",
      "yt : [INFO     ] 2022-06-16 11:29:06,107 Making a fixed resolution buffer of (('stream', 'U-component_of_wind')) 800 by 800\n",
      "yt : [WARNING  ] 2022-06-16 11:29:06,120 Plotting ('stream', 'U-component_of_wind'): All values = 0.0 dimensionless\n",
      "yt : [WARNING  ] 2022-06-16 11:29:06,122 Switching to linear colorbar scaling.\n"
     ]
    },
    {
     "data": {
      "text/html": [
       "<img style=\"max-width:100%;max-height:100%;\" src=\"data:image/png;base64,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\"><br>"
      ],
      "text/plain": [
       "<yt.visualization.plot_window.PWViewerMPL at 0x7fba985bc7d0>"
      ]
     },
     "metadata": {},
     "output_type": "display_data"
    },
    {
     "data": {
      "text/html": [
       "<img style=\"max-width:100%;max-height:100%;\" src=\"data:image/png;base64,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\"><br>"
      ],
      "text/plain": [
       "<yt.visualization.plot_window.PWViewerMPL at 0x7fba985bc7d0>"
      ]
     },
     "execution_count": 67,
     "metadata": {},
     "output_type": "execute_result"
    }
   ],
   "source": [
    "ds.r[(0.5,'unitary'),:,:].plot(\"U-component_of_wind\").set_mpl_projection(\"Mollweide\")\n",
    "\n"
   ]
  },
  {
   "cell_type": "code",
   "execution_count": 57,
   "id": "18c1006b",
   "metadata": {},
   "outputs": [
    {
     "ename": "KeyError",
     "evalue": "'x'",
     "output_type": "error",
     "traceback": [
      "\u001b[0;31m---------------------------------------------------------------------------\u001b[0m",
      "\u001b[0;31mKeyError\u001b[0m                                  Traceback (most recent call last)",
      "\u001b[0;32m/var/folders/5y/htsjngjd7nd_3ddqv2q24ynh0000gq/T/ipykernel_16890/1069674420.py\u001b[0m in \u001b[0;36m<module>\u001b[0;34m\u001b[0m\n\u001b[0;32m----> 1\u001b[0;31m \u001b[0myt\u001b[0m\u001b[0;34m.\u001b[0m\u001b[0mSlicePlot\u001b[0m\u001b[0;34m(\u001b[0m\u001b[0mds\u001b[0m\u001b[0;34m,\u001b[0m\u001b[0mnormal\u001b[0m\u001b[0;34m=\u001b[0m\u001b[0;34m'x'\u001b[0m\u001b[0;34m,\u001b[0m\u001b[0mfields\u001b[0m\u001b[0;34m=\u001b[0m\u001b[0;34m'U-component_of_wind'\u001b[0m\u001b[0;34m)\u001b[0m\u001b[0;34m\u001b[0m\u001b[0;34m\u001b[0m\u001b[0m\n\u001b[0m",
      "\u001b[0;32m~/.conda/envs/DataViz/lib/python3.7/site-packages/yt/visualization/plot_window.py\u001b[0m in \u001b[0;36mSlicePlot\u001b[0;34m(ds, normal, fields, axis, *args, **kwargs)\u001b[0m\n\u001b[1;32m   2482\u001b[0m             \u001b[0;32mdel\u001b[0m \u001b[0mkwargs\u001b[0m\u001b[0;34m[\u001b[0m\u001b[0;34m\"north_vector\"\u001b[0m\u001b[0;34m]\u001b[0m\u001b[0;34m\u001b[0m\u001b[0;34m\u001b[0m\u001b[0m\n\u001b[1;32m   2483\u001b[0m \u001b[0;34m\u001b[0m\u001b[0m\n\u001b[0;32m-> 2484\u001b[0;31m         \u001b[0;32mreturn\u001b[0m \u001b[0mAxisAlignedSlicePlot\u001b[0m\u001b[0;34m(\u001b[0m\u001b[0mds\u001b[0m\u001b[0;34m,\u001b[0m \u001b[0mnormal\u001b[0m\u001b[0;34m,\u001b[0m \u001b[0mfields\u001b[0m\u001b[0;34m,\u001b[0m \u001b[0;34m*\u001b[0m\u001b[0margs\u001b[0m\u001b[0;34m,\u001b[0m \u001b[0;34m**\u001b[0m\u001b[0mkwargs\u001b[0m\u001b[0;34m)\u001b[0m\u001b[0;34m\u001b[0m\u001b[0;34m\u001b[0m\u001b[0m\n\u001b[0m\u001b[1;32m   2485\u001b[0m \u001b[0;34m\u001b[0m\u001b[0m\n\u001b[1;32m   2486\u001b[0m \u001b[0;34m\u001b[0m\u001b[0m\n",
      "\u001b[0;32m~/.conda/envs/DataViz/lib/python3.7/site-packages/yt/visualization/plot_window.py\u001b[0m in \u001b[0;36m__init__\u001b[0;34m(self, ds, axis, fields, center, width, axes_unit, origin, right_handed, fontsize, field_parameters, window_size, aspect, data_source, buff_size)\u001b[0m\n\u001b[1;32m   1583\u001b[0m         \u001b[0maxis\u001b[0m \u001b[0;34m=\u001b[0m \u001b[0mfix_axis\u001b[0m\u001b[0;34m(\u001b[0m\u001b[0maxis\u001b[0m\u001b[0;34m,\u001b[0m \u001b[0mds\u001b[0m\u001b[0;34m)\u001b[0m\u001b[0;34m\u001b[0m\u001b[0;34m\u001b[0m\u001b[0m\n\u001b[1;32m   1584\u001b[0m         (bounds, center, display_center) = get_window_parameters(\n\u001b[0;32m-> 1585\u001b[0;31m             \u001b[0maxis\u001b[0m\u001b[0;34m,\u001b[0m \u001b[0mcenter\u001b[0m\u001b[0;34m,\u001b[0m \u001b[0mwidth\u001b[0m\u001b[0;34m,\u001b[0m \u001b[0mds\u001b[0m\u001b[0;34m\u001b[0m\u001b[0;34m\u001b[0m\u001b[0m\n\u001b[0m\u001b[1;32m   1586\u001b[0m         )\n\u001b[1;32m   1587\u001b[0m         \u001b[0;32mif\u001b[0m \u001b[0mfield_parameters\u001b[0m \u001b[0;32mis\u001b[0m \u001b[0;32mNone\u001b[0m\u001b[0;34m:\u001b[0m\u001b[0;34m\u001b[0m\u001b[0;34m\u001b[0m\u001b[0m\n",
      "\u001b[0;32m~/.conda/envs/DataViz/lib/python3.7/site-packages/yt/visualization/plot_window.py\u001b[0m in \u001b[0;36mget_window_parameters\u001b[0;34m(axis, center, width, ds)\u001b[0m\n\u001b[1;32m     75\u001b[0m \u001b[0;34m\u001b[0m\u001b[0m\n\u001b[1;32m     76\u001b[0m \u001b[0;32mdef\u001b[0m \u001b[0mget_window_parameters\u001b[0m\u001b[0;34m(\u001b[0m\u001b[0maxis\u001b[0m\u001b[0;34m,\u001b[0m \u001b[0mcenter\u001b[0m\u001b[0;34m,\u001b[0m \u001b[0mwidth\u001b[0m\u001b[0;34m,\u001b[0m \u001b[0mds\u001b[0m\u001b[0;34m)\u001b[0m\u001b[0;34m:\u001b[0m\u001b[0;34m\u001b[0m\u001b[0;34m\u001b[0m\u001b[0m\n\u001b[0;32m---> 77\u001b[0;31m     \u001b[0mwidth\u001b[0m \u001b[0;34m=\u001b[0m \u001b[0mds\u001b[0m\u001b[0;34m.\u001b[0m\u001b[0mcoordinates\u001b[0m\u001b[0;34m.\u001b[0m\u001b[0msanitize_width\u001b[0m\u001b[0;34m(\u001b[0m\u001b[0maxis\u001b[0m\u001b[0;34m,\u001b[0m \u001b[0mwidth\u001b[0m\u001b[0;34m,\u001b[0m \u001b[0;32mNone\u001b[0m\u001b[0;34m)\u001b[0m\u001b[0;34m\u001b[0m\u001b[0;34m\u001b[0m\u001b[0m\n\u001b[0m\u001b[1;32m     78\u001b[0m     \u001b[0mcenter\u001b[0m\u001b[0;34m,\u001b[0m \u001b[0mdisplay_center\u001b[0m \u001b[0;34m=\u001b[0m \u001b[0mds\u001b[0m\u001b[0;34m.\u001b[0m\u001b[0mcoordinates\u001b[0m\u001b[0;34m.\u001b[0m\u001b[0msanitize_center\u001b[0m\u001b[0;34m(\u001b[0m\u001b[0mcenter\u001b[0m\u001b[0;34m,\u001b[0m \u001b[0maxis\u001b[0m\u001b[0;34m)\u001b[0m\u001b[0;34m\u001b[0m\u001b[0;34m\u001b[0m\u001b[0m\n\u001b[1;32m     79\u001b[0m     \u001b[0mxax\u001b[0m \u001b[0;34m=\u001b[0m \u001b[0mds\u001b[0m\u001b[0;34m.\u001b[0m\u001b[0mcoordinates\u001b[0m\u001b[0;34m.\u001b[0m\u001b[0mx_axis\u001b[0m\u001b[0;34m[\u001b[0m\u001b[0maxis\u001b[0m\u001b[0;34m]\u001b[0m\u001b[0;34m\u001b[0m\u001b[0;34m\u001b[0m\u001b[0m\n",
      "\u001b[0;32m~/.conda/envs/DataViz/lib/python3.7/site-packages/yt/geometry/coordinates/geographic_coordinates.py\u001b[0m in \u001b[0;36msanitize_width\u001b[0;34m(self, axis, width, depth)\u001b[0m\n\u001b[1;32m    532\u001b[0m \u001b[0;34m\u001b[0m\u001b[0m\n\u001b[1;32m    533\u001b[0m     \u001b[0;32mdef\u001b[0m \u001b[0msanitize_width\u001b[0m\u001b[0;34m(\u001b[0m\u001b[0mself\u001b[0m\u001b[0;34m,\u001b[0m \u001b[0maxis\u001b[0m\u001b[0;34m,\u001b[0m \u001b[0mwidth\u001b[0m\u001b[0;34m,\u001b[0m \u001b[0mdepth\u001b[0m\u001b[0;34m)\u001b[0m\u001b[0;34m:\u001b[0m\u001b[0;34m\u001b[0m\u001b[0;34m\u001b[0m\u001b[0m\n\u001b[0;32m--> 534\u001b[0;31m         \u001b[0mname\u001b[0m \u001b[0;34m=\u001b[0m \u001b[0mself\u001b[0m\u001b[0;34m.\u001b[0m\u001b[0maxis_name\u001b[0m\u001b[0;34m[\u001b[0m\u001b[0maxis\u001b[0m\u001b[0;34m]\u001b[0m\u001b[0;34m\u001b[0m\u001b[0;34m\u001b[0m\u001b[0m\n\u001b[0m\u001b[1;32m    535\u001b[0m         \u001b[0;32mif\u001b[0m \u001b[0mwidth\u001b[0m \u001b[0;32mis\u001b[0m \u001b[0;32mnot\u001b[0m \u001b[0;32mNone\u001b[0m\u001b[0;34m:\u001b[0m\u001b[0;34m\u001b[0m\u001b[0;34m\u001b[0m\u001b[0m\n\u001b[1;32m    536\u001b[0m             width = super(GeographicCoordinateHandler, self).sanitize_width(\n",
      "\u001b[0;31mKeyError\u001b[0m: 'x'"
     ]
    }
   ],
   "source": [
    "yt.SlicePlot(ds,normal='x',fields='U-component_of_wind')"
   ]
  },
  {
   "cell_type": "code",
   "execution_count": 119,
   "id": "2beb413d",
   "metadata": {},
   "outputs": [
    {
     "data": {
      "text/plain": [
       "<bound method Dataset.all_data of AthenaPPDataset: /Users/tzacks2/Desktop/GradSchool/Summer22/yt_Summer_proj/KeplerianDisk/disk.out1.00000.athdf>"
      ]
     },
     "execution_count": 119,
     "metadata": {},
     "output_type": "execute_result"
    }
   ],
   "source": [
    "ds.all_data"
   ]
  },
  {
   "cell_type": "code",
   "execution_count": null,
   "id": "39de77d7",
   "metadata": {},
   "outputs": [],
   "source": []
  }
 ],
 "metadata": {
  "kernelspec": {
   "display_name": "Python 3 (ipykernel)",
   "language": "python",
   "name": "python3"
  },
  "language_info": {
   "codemirror_mode": {
    "name": "ipython",
    "version": 3
   },
   "file_extension": ".py",
   "mimetype": "text/x-python",
   "name": "python",
   "nbconvert_exporter": "python",
   "pygments_lexer": "ipython3",
   "version": "3.7.12"
  }
 },
 "nbformat": 4,
 "nbformat_minor": 5
}
