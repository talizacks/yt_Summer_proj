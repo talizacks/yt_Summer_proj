{
 "cells": [
  {
   "cell_type": "code",
   "execution_count": 52,
   "id": "2f48ee62",
   "metadata": {},
   "outputs": [],
   "source": [
    "import yt\n",
    "import netCDF4 as nc\n",
    "import pandas as pd"
   ]
  },
  {
   "cell_type": "code",
   "execution_count": 15,
   "id": "76757ac9",
   "metadata": {},
   "outputs": [],
   "source": [
    "irene = nc.Dataset('Hurricane_Irene/GFS1.0degreeModelOutput/ireneFlowVector1000.nc')"
   ]
  },
  {
   "cell_type": "code",
   "execution_count": 16,
   "id": "7bc0ff19",
   "metadata": {},
   "outputs": [
    {
     "data": {
      "text/plain": [
       "<class 'netCDF4._netCDF4.Dataset'>\n",
       "root group (NETCDF3_CLASSIC data model, file format NETCDF3):\n",
       "    Conventions: CF-1.X\n",
       "    History: Translated from VisAD grid to CF-1.X Conventions by IDV\n",
       "Original Dataset = (Time -> ((lon[unit:degrees_east], lat[unit:degrees_north], pressure[unit:Pa]) -> (U-component_of_wind[unit:m_s-1]_2, V-component_of_wind[unit:m_s-1]_2)))\n",
       "Translation Date = Thu Sep 01 13:11:22 MDT 2011\n",
       "    dimensions(sizes): time(49), lon(110), lat(85), pressure(1)\n",
       "    variables(dimensions): float64 time(time), float32 lon(lon), float32 lat(lat), float32 pressure(pressure), float32 U-component_of_wind(time, pressure, lat, lon), float32 V-component_of_wind(time, pressure, lat, lon)\n",
       "    groups: "
      ]
     },
     "execution_count": 16,
     "metadata": {},
     "output_type": "execute_result"
    }
   ],
   "source": [
    "irene"
   ]
  },
  {
   "cell_type": "code",
   "execution_count": 17,
   "id": "0f929e81",
   "metadata": {},
   "outputs": [
    {
     "data": {
      "text/plain": [
       "{'time': <class 'netCDF4._netCDF4.Variable'>\n",
       " float64 time(time)\n",
       "     units: s since 1970-01-01 00:00:00.000 UTC\n",
       " unlimited dimensions: \n",
       " current shape = (49,)\n",
       " filling on, default _FillValue of 9.969209968386869e+36 used,\n",
       " 'lon': <class 'netCDF4._netCDF4.Variable'>\n",
       " float32 lon(lon)\n",
       "     units: degrees_east\n",
       "     long_name: longitude coordinate\n",
       "     standard_name: longitude\n",
       " unlimited dimensions: \n",
       " current shape = (110,)\n",
       " filling on, default _FillValue of 9.969209968386869e+36 used,\n",
       " 'lat': <class 'netCDF4._netCDF4.Variable'>\n",
       " float32 lat(lat)\n",
       "     units: degrees_north\n",
       "     long_name: latitude coordinate\n",
       "     standard_name: latitude\n",
       " unlimited dimensions: \n",
       " current shape = (85,)\n",
       " filling on, default _FillValue of 9.969209968386869e+36 used,\n",
       " 'pressure': <class 'netCDF4._netCDF4.Variable'>\n",
       " float32 pressure(pressure)\n",
       "     units: Pa\n",
       "     positive: down\n",
       " unlimited dimensions: \n",
       " current shape = (1,)\n",
       " filling on, default _FillValue of 9.969209968386869e+36 used,\n",
       " 'U-component_of_wind': <class 'netCDF4._netCDF4.Variable'>\n",
       " float32 U-component_of_wind(time, pressure, lat, lon)\n",
       "     units: m s-1\n",
       " unlimited dimensions: \n",
       " current shape = (49, 1, 85, 110)\n",
       " filling on, default _FillValue of 9.969209968386869e+36 used,\n",
       " 'V-component_of_wind': <class 'netCDF4._netCDF4.Variable'>\n",
       " float32 V-component_of_wind(time, pressure, lat, lon)\n",
       "     units: m s-1\n",
       " unlimited dimensions: \n",
       " current shape = (49, 1, 85, 110)\n",
       " filling on, default _FillValue of 9.969209968386869e+36 used}"
      ]
     },
     "execution_count": 17,
     "metadata": {},
     "output_type": "execute_result"
    }
   ],
   "source": [
    "irene.variables"
   ]
  },
  {
   "cell_type": "code",
   "execution_count": 18,
   "id": "0964b261",
   "metadata": {},
   "outputs": [
    {
     "data": {
      "text/plain": [
       "<class 'netCDF4._netCDF4.Variable'>\n",
       "float64 time(time)\n",
       "    units: s since 1970-01-01 00:00:00.000 UTC\n",
       "unlimited dimensions: \n",
       "current shape = (49,)\n",
       "filling on, default _FillValue of 9.969209968386869e+36 used"
      ]
     },
     "execution_count": 18,
     "metadata": {},
     "output_type": "execute_result"
    }
   ],
   "source": [
    "irene.variables['time']"
   ]
  },
  {
   "cell_type": "code",
   "execution_count": 30,
   "id": "bc93a987",
   "metadata": {},
   "outputs": [],
   "source": [
    "ireneNAM = nc.Dataset('Hurricane_Irene/NAM12kmModelSubset/ireneNAMFlowVector500.nc')\n",
    "ireneNAM2 = nc.Dataset('Hurricane_Irene/NAM12kmModelSubset/ireneNAMFlowVector1000.nc')"
   ]
  },
  {
   "cell_type": "code",
   "execution_count": 31,
   "id": "688e2229",
   "metadata": {},
   "outputs": [
    {
     "data": {
      "text/plain": [
       "<class 'netCDF4._netCDF4.Dataset'>\n",
       "root group (NETCDF3_CLASSIC data model, file format NETCDF3):\n",
       "    Conventions: CF-1.X\n",
       "    History: Translated from VisAD grid to CF-1.X Conventions by IDV\n",
       "Original Dataset = (Time -> ((x[unit:km], y[unit:km], pressure[unit:Pa]) -> (U-component_of_wind[unit:m_s-1]_26, V-component_of_wind[unit:m_s-1]_26)))\n",
       "Translation Date = Thu Sep 01 14:15:21 MDT 2011\n",
       "    dimensions(sizes): time(40), x(103), y(72), pressure(1)\n",
       "    variables(dimensions): float64 time(time), float32 x(x), float32 y(y), |S1 lambert_conformal_conic(), float32 pressure(pressure), float32 U-component_of_wind(time, pressure, y, x), float32 V-component_of_wind(time, pressure, y, x)\n",
       "    groups: "
      ]
     },
     "execution_count": 31,
     "metadata": {},
     "output_type": "execute_result"
    }
   ],
   "source": [
    "ireneNAM"
   ]
  },
  {
   "cell_type": "code",
   "execution_count": 36,
   "id": "717b247b",
   "metadata": {},
   "outputs": [
    {
     "data": {
      "text/plain": [
       "masked_array(\n",
       "  data=[[[[ -0.64027405,   0.10972595,  -0.14027405, ...,  -7.390274  ,\n",
       "            -7.640274  ,  -6.765274  ],\n",
       "          [ -1.265274  ,  -0.64027405,  -1.140274  , ...,  -6.765274  ,\n",
       "            -6.640274  ,  -5.765274  ],\n",
       "          [ -1.515274  ,  -1.140274  ,  -1.890274  , ...,  -6.140274  ,\n",
       "            -5.765274  ,  -4.640274  ],\n",
       "          ...,\n",
       "          [ 10.859726  ,  11.234726  ,  11.609726  , ...,  -6.015274  ,\n",
       "            -5.765274  ,  -5.015274  ],\n",
       "          [ 11.234726  ,  11.984726  ,  12.609726  , ...,  -4.390274  ,\n",
       "            -3.640274  ,  -2.890274  ],\n",
       "          [ 11.234726  ,  12.359726  ,  13.359726  , ...,  -2.640274  ,\n",
       "            -1.890274  ,  -1.515274  ]]],\n",
       "\n",
       "\n",
       "        [[[  1.0275116 ,   2.0275116 ,   0.5275116 , ...,  -7.0974884 ,\n",
       "            -4.9724884 ,  -3.7224884 ],\n",
       "          [  0.4025116 ,   0.7775116 ,  -1.4724884 , ...,  -6.5974884 ,\n",
       "            -4.2224884 ,  -3.4724884 ],\n",
       "          [ -0.2224884 ,  -0.5974884 ,  -2.9724884 , ...,  -5.4724884 ,\n",
       "            -3.8474884 ,  -3.5974884 ],\n",
       "          ...,\n",
       "          [ 10.777512  ,  10.152512  ,   9.902512  , ...,  -5.7224884 ,\n",
       "            -5.2224884 ,  -4.8474884 ],\n",
       "          [ 11.027512  ,  10.652512  ,  10.277512  , ...,  -3.9724884 ,\n",
       "            -3.0974884 ,  -2.2224884 ],\n",
       "          [ 10.027512  ,   9.902512  ,   9.277512  , ...,  -2.7224884 ,\n",
       "            -1.8474884 ,  -0.7224884 ]]],\n",
       "\n",
       "\n",
       "        [[[ -0.39275455,  -1.5177546 ,  -3.7677546 , ...,  -4.2677546 ,\n",
       "            -5.8927546 ,  -7.7677546 ],\n",
       "          [ -1.5177546 ,  -3.3927546 ,  -3.8927546 , ...,  -4.8927546 ,\n",
       "            -6.6427546 ,  -8.642755  ],\n",
       "          [ -2.6427546 ,  -3.7677546 ,  -3.8927546 , ...,  -4.8927546 ,\n",
       "            -6.7677546 ,  -8.642755  ],\n",
       "          ...,\n",
       "          [  8.232245  ,   7.3572454 ,   7.2322454 , ..., -10.017755  ,\n",
       "            -8.517755  ,  -6.8927546 ],\n",
       "          [  8.107245  ,   8.107245  ,   8.482245  , ...,  -6.2677546 ,\n",
       "            -4.7677546 ,  -3.3927546 ],\n",
       "          [  8.357245  ,   8.607245  ,   9.232245  , ...,  -3.1427546 ,\n",
       "            -1.8927546 ,  -0.76775455]]],\n",
       "\n",
       "\n",
       "        ...,\n",
       "\n",
       "\n",
       "        [[[ -5.852353  ,  -4.977353  ,  -4.102353  , ...,  -9.352353  ,\n",
       "           -10.227353  , -10.477353  ],\n",
       "          [ -6.477353  ,  -5.477353  ,  -4.227353  , ...,  -9.227353  ,\n",
       "           -10.352353  ,  -9.602353  ],\n",
       "          [ -6.352353  ,  -5.352353  ,  -4.102353  , ...,  -8.227353  ,\n",
       "            -8.852353  ,  -8.352353  ],\n",
       "          ...,\n",
       "          [  2.397647  ,   3.397647  ,   5.147647  , ...,   7.022647  ,\n",
       "             8.147647  ,   8.897647  ],\n",
       "          [  2.022647  ,   3.397647  ,   4.772647  , ...,   7.772647  ,\n",
       "             8.897647  ,  10.147647  ],\n",
       "          [  2.397647  ,   3.897647  ,   4.647647  , ...,   8.522647  ,\n",
       "             9.897647  ,  10.647647  ]]],\n",
       "\n",
       "\n",
       "        [[[ -3.9128942 ,  -2.7878942 ,  -1.9128942 , ...,  -8.162894  ,\n",
       "            -7.6628942 ,  -7.6628942 ],\n",
       "          [ -3.6628942 ,  -2.6628942 ,  -2.1628942 , ...,  -7.5378942 ,\n",
       "            -7.5378942 ,  -7.1628942 ],\n",
       "          [ -3.6628942 ,  -2.7878942 ,  -2.4128942 , ...,  -6.7878942 ,\n",
       "            -6.6628942 ,  -6.1628942 ],\n",
       "          ...,\n",
       "          [  5.7121058 ,   4.9621058 ,   6.0871058 , ...,   6.2121058 ,\n",
       "             7.5871058 ,   8.337106  ],\n",
       "          [  4.0871058 ,   4.8371058 ,   6.0871058 , ...,   6.7121058 ,\n",
       "             7.9621058 ,   8.962106  ],\n",
       "          [  2.4621058 ,   4.4621058 ,   6.0871058 , ...,   6.9621058 ,\n",
       "             8.337106  ,   9.587106  ]]],\n",
       "\n",
       "\n",
       "        [[[ -3.1557007 ,  -2.1557007 ,  -1.1557007 , ...,  -7.7807007 ,\n",
       "            -7.4057007 ,  -7.0307007 ],\n",
       "          [ -3.1557007 ,  -2.1557007 ,  -1.4057007 , ...,  -6.9057007 ,\n",
       "            -6.4057007 ,  -6.2807007 ],\n",
       "          [ -2.9057007 ,  -2.0307007 ,  -1.7807007 , ...,  -6.1557007 ,\n",
       "            -6.0307007 ,  -5.9057007 ],\n",
       "          ...,\n",
       "          [  8.594299  ,   7.3442993 ,   7.4692993 , ...,  -0.5307007 ,\n",
       "             1.0942993 ,   2.7192993 ],\n",
       "          [  7.3442993 ,   6.2192993 ,   6.0942993 , ...,   0.46929932,\n",
       "             1.7192993 ,   3.3442993 ],\n",
       "          [  5.4692993 ,   4.7192993 ,   4.5942993 , ...,   1.9692993 ,\n",
       "             2.7192993 ,   4.0942993 ]]]],\n",
       "  mask=False,\n",
       "  fill_value=1e+20,\n",
       "  dtype=float32)"
      ]
     },
     "execution_count": 36,
     "metadata": {},
     "output_type": "execute_result"
    }
   ],
   "source": [
    "ireneNAM2.variables['U-component_of_wind'][::]"
   ]
  },
  {
   "cell_type": "code",
   "execution_count": 35,
   "id": "92d1ac4d",
   "metadata": {},
   "outputs": [
    {
     "data": {
      "text/plain": [
       "masked_array(\n",
       "  data=[[[ -6.734833 ,  -6.984833 ,  -7.359833 , ...,  -8.234833 ,\n",
       "           -8.234833 ,  -7.984833 ],\n",
       "         [ -6.484833 ,  -6.734833 ,  -6.984833 , ...,  -8.609833 ,\n",
       "           -9.609833 , -10.109833 ],\n",
       "         [ -6.609833 ,  -6.484833 ,  -6.234833 , ...,  -7.859833 ,\n",
       "           -8.609833 ,  -9.609833 ],\n",
       "         ...,\n",
       "         [ 22.265167 ,  22.390167 ,  22.140167 , ...,   9.015167 ,\n",
       "            6.890167 ,   6.390167 ],\n",
       "         [ 20.890167 ,  21.515167 ,  21.390167 , ...,   5.390167 ,\n",
       "            5.015167 ,   5.765167 ],\n",
       "         [ 20.015167 ,  20.515167 ,  20.890167 , ...,   3.7651672,\n",
       "            4.515167 ,   4.515167 ]]],\n",
       "  mask=False,\n",
       "  fill_value=1e+20,\n",
       "  dtype=float32)"
      ]
     },
     "execution_count": 35,
     "metadata": {},
     "output_type": "execute_result"
    }
   ],
   "source": [
    "ireneNAM.variables['U-component_of_wind'][0]"
   ]
  },
  {
   "cell_type": "code",
   "execution_count": 63,
   "id": "f2e20d9c",
   "metadata": {},
   "outputs": [
    {
     "ename": "TypeError",
     "evalue": "arg must be a string, datetime, list, tuple, 1-d array, or Series",
     "output_type": "error",
     "traceback": [
      "\u001b[0;31m---------------------------------------------------------------------------\u001b[0m",
      "\u001b[0;31mTypeError\u001b[0m                                 Traceback (most recent call last)",
      "\u001b[0;32m/var/folders/5y/htsjngjd7nd_3ddqv2q24ynh0000gq/T/ipykernel_74408/3934720286.py\u001b[0m in \u001b[0;36m<module>\u001b[0;34m\u001b[0m\n\u001b[0;32m----> 1\u001b[0;31m \u001b[0mireneNAM\u001b[0m\u001b[0;34m[\u001b[0m\u001b[0;34m'time'\u001b[0m\u001b[0;34m]\u001b[0m \u001b[0;34m=\u001b[0m \u001b[0mpd\u001b[0m\u001b[0;34m.\u001b[0m\u001b[0mto_datetime\u001b[0m\u001b[0;34m(\u001b[0m\u001b[0mireneNAM\u001b[0m\u001b[0;34m[\u001b[0m\u001b[0;34m'time'\u001b[0m\u001b[0;34m]\u001b[0m\u001b[0;34m)\u001b[0m\u001b[0;34m\u001b[0m\u001b[0;34m\u001b[0m\u001b[0m\n\u001b[0m",
      "\u001b[0;32m~/.conda/envs/DataViz/lib/python3.7/site-packages/pandas/core/tools/datetimes.py\u001b[0m in \u001b[0;36mto_datetime\u001b[0;34m(arg, errors, dayfirst, yearfirst, utc, format, exact, unit, infer_datetime_format, origin, cache)\u001b[0m\n\u001b[1;32m    912\u001b[0m             \u001b[0mresult\u001b[0m \u001b[0;34m=\u001b[0m \u001b[0mconvert_listlike\u001b[0m\u001b[0;34m(\u001b[0m\u001b[0marg\u001b[0m\u001b[0;34m,\u001b[0m \u001b[0mformat\u001b[0m\u001b[0;34m)\u001b[0m\u001b[0;34m\u001b[0m\u001b[0;34m\u001b[0m\u001b[0m\n\u001b[1;32m    913\u001b[0m     \u001b[0;32melse\u001b[0m\u001b[0;34m:\u001b[0m\u001b[0;34m\u001b[0m\u001b[0;34m\u001b[0m\u001b[0m\n\u001b[0;32m--> 914\u001b[0;31m         \u001b[0mresult\u001b[0m \u001b[0;34m=\u001b[0m \u001b[0mconvert_listlike\u001b[0m\u001b[0;34m(\u001b[0m\u001b[0mnp\u001b[0m\u001b[0;34m.\u001b[0m\u001b[0marray\u001b[0m\u001b[0;34m(\u001b[0m\u001b[0;34m[\u001b[0m\u001b[0marg\u001b[0m\u001b[0;34m]\u001b[0m\u001b[0;34m)\u001b[0m\u001b[0;34m,\u001b[0m \u001b[0mformat\u001b[0m\u001b[0;34m)\u001b[0m\u001b[0;34m[\u001b[0m\u001b[0;36m0\u001b[0m\u001b[0;34m]\u001b[0m\u001b[0;34m\u001b[0m\u001b[0;34m\u001b[0m\u001b[0m\n\u001b[0m\u001b[1;32m    915\u001b[0m \u001b[0;34m\u001b[0m\u001b[0m\n\u001b[1;32m    916\u001b[0m     \u001b[0;31m#  error: Incompatible return value type (got \"Union[Timestamp, NaTType,\u001b[0m\u001b[0;34m\u001b[0m\u001b[0;34m\u001b[0m\u001b[0;34m\u001b[0m\u001b[0m\n",
      "\u001b[0;32m~/.conda/envs/DataViz/lib/python3.7/site-packages/pandas/core/tools/datetimes.py\u001b[0m in \u001b[0;36m_convert_listlike_datetimes\u001b[0;34m(arg, format, name, tz, unit, errors, infer_datetime_format, dayfirst, yearfirst, exact)\u001b[0m\n\u001b[1;32m    357\u001b[0m     \u001b[0;32melif\u001b[0m \u001b[0mgetattr\u001b[0m\u001b[0;34m(\u001b[0m\u001b[0marg\u001b[0m\u001b[0;34m,\u001b[0m \u001b[0;34m\"ndim\"\u001b[0m\u001b[0;34m,\u001b[0m \u001b[0;36m1\u001b[0m\u001b[0;34m)\u001b[0m \u001b[0;34m>\u001b[0m \u001b[0;36m1\u001b[0m\u001b[0;34m:\u001b[0m\u001b[0;34m\u001b[0m\u001b[0;34m\u001b[0m\u001b[0m\n\u001b[1;32m    358\u001b[0m         raise TypeError(\n\u001b[0;32m--> 359\u001b[0;31m             \u001b[0;34m\"arg must be a string, datetime, list, tuple, 1-d array, or Series\"\u001b[0m\u001b[0;34m\u001b[0m\u001b[0;34m\u001b[0m\u001b[0m\n\u001b[0m\u001b[1;32m    360\u001b[0m         )\n\u001b[1;32m    361\u001b[0m \u001b[0;34m\u001b[0m\u001b[0m\n",
      "\u001b[0;31mTypeError\u001b[0m: arg must be a string, datetime, list, tuple, 1-d array, or Series"
     ]
    }
   ],
   "source": [
    "ireneNAM['time'] = pd.to_datetime(ireneNAM['time'])"
   ]
  },
  {
   "cell_type": "code",
   "execution_count": 61,
   "id": "733cec7f",
   "metadata": {},
   "outputs": [
    {
     "data": {
      "text/plain": [
       "<class 'netCDF4._netCDF4.Variable'>\n",
       "float64 time(time)\n",
       "    units: s since 1970-01-01 00:00:00.000 UTC\n",
       "unlimited dimensions: \n",
       "current shape = (40,)\n",
       "filling on, default _FillValue of 9.969209968386869e+36 used"
      ]
     },
     "execution_count": 61,
     "metadata": {},
     "output_type": "execute_result"
    }
   ],
   "source": [
    "ireneNAM['time']"
   ]
  },
  {
   "cell_type": "code",
   "execution_count": null,
   "id": "73b27fe3",
   "metadata": {},
   "outputs": [],
   "source": []
  }
 ],
 "metadata": {
  "kernelspec": {
   "display_name": "Python 3 (ipykernel)",
   "language": "python",
   "name": "python3"
  },
  "language_info": {
   "codemirror_mode": {
    "name": "ipython",
    "version": 3
   },
   "file_extension": ".py",
   "mimetype": "text/x-python",
   "name": "python",
   "nbconvert_exporter": "python",
   "pygments_lexer": "ipython3",
   "version": "3.7.12"
  }
 },
 "nbformat": 4,
 "nbformat_minor": 5
}
