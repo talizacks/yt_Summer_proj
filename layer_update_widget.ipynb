{
 "cells": [
  {
   "cell_type": "code",
   "execution_count": 1,
   "id": "3dcbbd13-f136-4207-9a0d-0cc304f6ff6b",
   "metadata": {},
   "outputs": [],
   "source": [
    "import ipywidgets\n",
    "import traitlets"
   ]
  },
  {
   "cell_type": "code",
   "execution_count": 77,
   "id": "1707bbdf-99bf-40f7-8ce3-81b59031bc2c",
   "metadata": {},
   "outputs": [],
   "source": [
    "class MyFileHandle(traitlets.HasTraits):\n",
    "    layers = traitlets.List()\n",
    "    layer = traitlets.Unicode()\n",
    "    levels = traitlets.List()\n",
    "    level = traitlets.CInt()\n",
    "    variables = traitlets.List()\n",
    "    variable = traitlets.Unicode()\n",
    "    new_plot = traitlets.Unicode()\n",
    "    \n",
    "    @traitlets.observe('layer')\n",
    "    def _update_layer(self, change):\n",
    "        self.levels = [\"Hi\", \"There\"]\n",
    "        return\n",
    "        layer = change['new']\n",
    "        self.levels = [i for i in range(10)]\n",
    "        self.variables = [f\"Layer {layer} Variable {var}\" for var in (\"var1\", \"var2\", \"var3\")]\n",
    "        self.level = self.levels[0]\n",
    "        self.variable = self.variables[0]\n",
    "        \n",
    "    @traitlets.observe('variable', 'level', 'layer')\n",
    "    def _new_plot(self, change):\n",
    "        self.new_plot = f\"Variable {self.variable} on Level {self.level} in Layer {self.layer}\"\n",
    "        \n",
    "    def _ipython_display_(self):\n",
    "        layers_dropdown = ipywidgets.Dropdown(options=self.layers)\n",
    "        levels_dropdown = ipywidgets.Dropdown(options=self.levels)\n",
    "        variables_dropdown = ipywidgets.Dropdown(options=self.variables)\n",
    "        display(ipywidgets.VBox([layers_dropdown, levels_dropdown, variables_dropdown]))\n",
    "        traitlets.link((self, 'layers'), (layers_dropdown, 'options'))\n",
    "        traitlets.link((self, 'levels'), (levels_dropdown, 'options'))\n",
    "        traitlets.link((self, 'variables'), (variables_dropdown, 'options'))"
   ]
  },
  {
   "cell_type": "code",
   "execution_count": 78,
   "id": "1839ea9b-28ae-4a47-9e25-cfc3b528c88b",
   "metadata": {},
   "outputs": [],
   "source": [
    "mfh = MyFileHandle(layers = [\"L1\", \"L2\", \"L3\"])"
   ]
  },
  {
   "cell_type": "code",
   "execution_count": 79,
   "id": "03a75fa3-cbff-4da5-9c06-749a51d9c6d4",
   "metadata": {},
   "outputs": [
    {
     "data": {
      "application/vnd.jupyter.widget-view+json": {
       "model_id": "1dc5d21eae314120b69e9f21c0f37d23",
       "version_major": 2,
       "version_minor": 0
      },
      "text/plain": [
       "VBox(children=(Dropdown(options=('L1', 'L2', 'L3'), value='L1'), Dropdown(options=(), value=None), Dropdown(op…"
      ]
     },
     "metadata": {},
     "output_type": "display_data"
    }
   ],
   "source": [
    "mfh"
   ]
  },
  {
   "cell_type": "code",
   "execution_count": 84,
   "id": "427c83b9-70e7-4e7d-849c-c395515d0a22",
   "metadata": {},
   "outputs": [],
   "source": [
    "mfh.layer = \"L2\""
   ]
  },
  {
   "cell_type": "code",
   "execution_count": 83,
   "id": "efe87cac-b84a-446a-ac8e-2109f0c482b5",
   "metadata": {},
   "outputs": [
    {
     "data": {
      "text/plain": [
       "['Hi', 'There']"
      ]
     },
     "execution_count": 83,
     "metadata": {},
     "output_type": "execute_result"
    }
   ],
   "source": [
    "mfh.levels"
   ]
  },
  {
   "cell_type": "code",
   "execution_count": 7,
   "id": "be6c2aed-760b-4f1b-bd5c-99a8a9337322",
   "metadata": {},
   "outputs": [],
   "source": [
    "mfh.layer = \"L2\""
   ]
  },
  {
   "cell_type": "code",
   "execution_count": 8,
   "id": "e7bc022e-9a1f-43a2-8cf7-030cfecb1ff1",
   "metadata": {},
   "outputs": [
    {
     "data": {
      "text/plain": [
       "['Layer L2 Variable var1', 'Layer L2 Variable var2', 'Layer L2 Variable var3']"
      ]
     },
     "execution_count": 8,
     "metadata": {},
     "output_type": "execute_result"
    }
   ],
   "source": [
    "mfh.variables"
   ]
  },
  {
   "cell_type": "markdown",
   "id": "57a23f12",
   "metadata": {},
   "source": [
    "# Classes"
   ]
  },
  {
   "cell_type": "code",
   "execution_count": 9,
   "id": "de5feddf",
   "metadata": {},
   "outputs": [],
   "source": [
    "class MyClass:\n",
    "  x = 5"
   ]
  },
  {
   "cell_type": "code",
   "execution_count": 10,
   "id": "264ddb8b",
   "metadata": {},
   "outputs": [
    {
     "name": "stdout",
     "output_type": "stream",
     "text": [
      "5\n"
     ]
    }
   ],
   "source": [
    "p1 = MyClass()\n",
    "print(p1.x)"
   ]
  },
  {
   "cell_type": "code",
   "execution_count": 58,
   "id": "70ec9445",
   "metadata": {},
   "outputs": [
    {
     "ename": "SyntaxError",
     "evalue": "can't assign to function call (2741332982.py, line 7)",
     "output_type": "error",
     "traceback": [
      "\u001b[0;36m  File \u001b[0;32m\"/var/folders/5y/htsjngjd7nd_3ddqv2q24ynh0000gq/T/ipykernel_17631/2741332982.py\"\u001b[0;36m, line \u001b[0;32m7\u001b[0m\n\u001b[0;31m    Person(self.name) = 'Tali'\u001b[0m\n\u001b[0m                              ^\u001b[0m\n\u001b[0;31mSyntaxError\u001b[0m\u001b[0;31m:\u001b[0m can't assign to function call\n"
     ]
    }
   ],
   "source": [
    "class Person:\n",
    "  def __init__(self, name, age):\n",
    "    self.name = name\n",
    "    self.age = age\n",
    "\n",
    "p1 = Person(\"John\", 36)\n",
    "\n",
    "print(p1.name)\n",
    "print(p1.age)"
   ]
  },
  {
   "cell_type": "code",
   "execution_count": 19,
   "id": "7de5b150",
   "metadata": {},
   "outputs": [
    {
     "name": "stdout",
     "output_type": "stream",
     "text": [
      "Hello my name is Tali.\n",
      "I am 23 years old.\n"
     ]
    }
   ],
   "source": [
    "class Person:\n",
    "  def __init__(self, name, age):\n",
    "    self.name = name\n",
    "    self.age = age\n",
    "\n",
    "  def myfunc(self):\n",
    "    print(f\"Hello my name is {self.name}.\")\n",
    "    print(f\"I am {self.age} years old.\")\n",
    "p1 = Person(\"Tali\", 23)\n",
    "p1.myfunc()"
   ]
  },
  {
   "cell_type": "markdown",
   "id": "fb092f81",
   "metadata": {},
   "source": [
    "The self parameter is a reference to the current instance of the class, and is used to access variables that belongs to the class.\n",
    "\n",
    "It does not have to be named self , you can call it whatever you like, but it has to be the first parameter of any function in the class:"
   ]
  },
  {
   "cell_type": "code",
   "execution_count": 23,
   "id": "dacfa587",
   "metadata": {},
   "outputs": [
    {
     "name": "stdout",
     "output_type": "stream",
     "text": [
      "Hello my name is John\n"
     ]
    }
   ],
   "source": [
    "class Person:\n",
    "  def __init__(mysillyobject, name, age):\n",
    "    mysillyobject.name = name\n",
    "    mysillyobject.age = age\n",
    "\n",
    "  def myfunc(abc):\n",
    "    print(\"Hello my name is \" + abc.name)\n",
    "\n",
    "p1 = Person(\"John\", 36)\n",
    "p1.myfunc()"
   ]
  },
  {
   "cell_type": "code",
   "execution_count": 27,
   "id": "423a787e",
   "metadata": {},
   "outputs": [],
   "source": [
    "p1.age = 40\n",
    "p1.age\n",
    "del p1.age"
   ]
  },
  {
   "cell_type": "code",
   "execution_count": 32,
   "id": "91f91cf4",
   "metadata": {},
   "outputs": [
    {
     "name": "stdout",
     "output_type": "stream",
     "text": [
      "John\n"
     ]
    },
    {
     "ename": "AttributeError",
     "evalue": "'Person' object has no attribute 'age'",
     "output_type": "error",
     "traceback": [
      "\u001b[0;31m---------------------------------------------------------------------------\u001b[0m",
      "\u001b[0;31mAttributeError\u001b[0m                            Traceback (most recent call last)",
      "\u001b[0;32m/var/folders/5y/htsjngjd7nd_3ddqv2q24ynh0000gq/T/ipykernel_17631/1149470416.py\u001b[0m in \u001b[0;36m<module>\u001b[0;34m\u001b[0m\n\u001b[1;32m      1\u001b[0m \u001b[0mprint\u001b[0m\u001b[0;34m(\u001b[0m\u001b[0mp1\u001b[0m\u001b[0;34m.\u001b[0m\u001b[0mname\u001b[0m\u001b[0;34m)\u001b[0m\u001b[0;34m\u001b[0m\u001b[0;34m\u001b[0m\u001b[0m\n\u001b[0;32m----> 2\u001b[0;31m \u001b[0mprint\u001b[0m\u001b[0;34m(\u001b[0m\u001b[0mp1\u001b[0m\u001b[0;34m.\u001b[0m\u001b[0mage\u001b[0m\u001b[0;34m)\u001b[0m\u001b[0;34m\u001b[0m\u001b[0;34m\u001b[0m\u001b[0m\n\u001b[0m",
      "\u001b[0;31mAttributeError\u001b[0m: 'Person' object has no attribute 'age'"
     ]
    }
   ],
   "source": [
    "print(p1.name)\n",
    "# print(p1.age)"
   ]
  },
  {
   "cell_type": "markdown",
   "id": "d3acaecb",
   "metadata": {},
   "source": [
    "# Traitlets"
   ]
  },
  {
   "cell_type": "code",
   "execution_count": 34,
   "id": "53efc0b5",
   "metadata": {},
   "outputs": [],
   "source": [
    "from traitlets import HasTraits, Int, Unicode, default\n",
    "import getpass"
   ]
  },
  {
   "cell_type": "code",
   "execution_count": 35,
   "id": "60c65fce",
   "metadata": {},
   "outputs": [],
   "source": [
    "class Identity(HasTraits):\n",
    "    username = Unicode()\n",
    "    \n",
    "    @default('username')\n",
    "    def _default_username(self):\n",
    "        return getpass.getuser()"
   ]
  },
  {
   "cell_type": "code",
   "execution_count": 38,
   "id": "64f72732",
   "metadata": {},
   "outputs": [],
   "source": [
    "me = Identity()"
   ]
  },
  {
   "cell_type": "code",
   "execution_count": 40,
   "id": "09972acb",
   "metadata": {},
   "outputs": [
    {
     "name": "stdout",
     "output_type": "stream",
     "text": [
      "tzacks2\n"
     ]
    }
   ],
   "source": [
    "print(me.username)"
   ]
  },
  {
   "cell_type": "code",
   "execution_count": 49,
   "id": "82923eee",
   "metadata": {},
   "outputs": [
    {
     "name": "stdout",
     "output_type": "stream",
     "text": [
      "\n",
      "abc\n"
     ]
    }
   ],
   "source": [
    "class Foo(HasTraits):\n",
    "    bar = Int()\n",
    "    baz = Unicode()\n",
    "foo = Foo()\n",
    "\n",
    "def func(change):\n",
    "    print(change['old'])\n",
    "    print(change['new'])\n",
    "\n",
    "\n",
    "foo.observe(func, names=['baz'])\n",
    "foo.bar = 1 # prints '0\\n 1'\n",
    "foo.baz = 'abc' # prints nothing"
   ]
  },
  {
   "cell_type": "code",
   "execution_count": null,
   "id": "718d0511",
   "metadata": {},
   "outputs": [],
   "source": [
    "class "
   ]
  }
 ],
 "metadata": {
  "kernelspec": {
   "display_name": "Python 3 (ipykernel)",
   "language": "python",
   "name": "python3"
  },
  "language_info": {
   "codemirror_mode": {
    "name": "ipython",
    "version": 3
   },
   "file_extension": ".py",
   "mimetype": "text/x-python",
   "name": "python",
   "nbconvert_exporter": "python",
   "pygments_lexer": "ipython3",
   "version": "3.7.12"
  }
 },
 "nbformat": 4,
 "nbformat_minor": 5
}
